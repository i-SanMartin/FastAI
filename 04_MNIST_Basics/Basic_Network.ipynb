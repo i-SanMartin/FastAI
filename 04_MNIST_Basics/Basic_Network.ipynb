{
  "nbformat": 4,
  "nbformat_minor": 0,
  "metadata": {
    "colab": {
      "name": "04_MNIST_Basics/Basic_Network.ipynb",
      "provenance": [],
      "authorship_tag": "ABX9TyMYO2Y8nWdUaGZ34BfTcsdY",
      "include_colab_link": true
    },
    "kernelspec": {
      "name": "python3",
      "display_name": "Python 3"
    },
    "language_info": {
      "name": "python"
    }
  },
  "cells": [
    {
      "cell_type": "markdown",
      "metadata": {
        "id": "view-in-github",
        "colab_type": "text"
      },
      "source": [
        "<a href=\"https://colab.research.google.com/github/i-SanMartin/FastAI/blob/main/04_MNIST_Basics/Basic_Network.ipynb\" target=\"_parent\"><img src=\"https://colab.research.google.com/assets/colab-badge.svg\" alt=\"Open In Colab\"/></a>"
      ]
    },
    {
      "cell_type": "code",
      "metadata": {
        "id": "3-NpFGksCtZi"
      },
      "source": [
        "#hide\n",
        "!pip install -Uqq fastbook fastai==2.2.5\n",
        "import fastbook\n",
        "fastbook.setup_book()"
      ],
      "execution_count": 75,
      "outputs": []
    },
    {
      "cell_type": "code",
      "metadata": {
        "id": "Un1jlUccIuJe"
      },
      "source": [
        "#hide\n",
        "from fastai.vision.all import *\n",
        "from fastbook import *\n",
        "\n",
        "matplotlib.rc('image', cmap='Greys')"
      ],
      "execution_count": 76,
      "outputs": []
    },
    {
      "cell_type": "code",
      "metadata": {
        "colab": {
          "base_uri": "https://localhost:8080/"
        },
        "id": "tL4SAp7UI7iu",
        "outputId": "019a6538-cff8-4c70-9f1d-838c7d3b92df"
      },
      "source": [
        "path = untar_data(URLs.MNIST_SAMPLE)\n",
        "Path.BASE_PATH = path\n",
        "path.ls()\n",
        "(path/'train').ls()"
      ],
      "execution_count": 77,
      "outputs": [
        {
          "output_type": "execute_result",
          "data": {
            "text/plain": [
              "(#2) [Path('train/3'),Path('train/7')]"
            ]
          },
          "metadata": {
            "tags": []
          },
          "execution_count": 77
        }
      ]
    },
    {
      "cell_type": "code",
      "metadata": {
        "colab": {
          "base_uri": "https://localhost:8080/"
        },
        "id": "C-HXv4glJkIc",
        "outputId": "e1037f7b-b371-430e-fe82-07656bfc6898"
      },
      "source": [
        "threes = (path/'train'/'3').ls().sorted()\n",
        "sevens = (path/'train'/'7').ls().sorted()\n",
        "\n",
        "seven_tensors = [tensor(Image.open(o)) for o in sevens]\n",
        "three_tensors = [tensor(Image.open(o)) for o in threes]\n",
        "\n",
        "stacked_sevens = torch.stack(seven_tensors).float()/255\n",
        "stacked_threes = torch.stack(three_tensors).float()/255\n",
        "stacked_threes.shape"
      ],
      "execution_count": 78,
      "outputs": [
        {
          "output_type": "execute_result",
          "data": {
            "text/plain": [
              "torch.Size([6131, 28, 28])"
            ]
          },
          "metadata": {
            "tags": []
          },
          "execution_count": 78
        }
      ]
    },
    {
      "cell_type": "code",
      "metadata": {
        "id": "FU2KZugPLIcN"
      },
      "source": [
        "train_x = torch.cat([stacked_threes, stacked_sevens]).view(-1, 28*28)"
      ],
      "execution_count": 79,
      "outputs": []
    },
    {
      "cell_type": "code",
      "metadata": {
        "colab": {
          "base_uri": "https://localhost:8080/"
        },
        "id": "Vekv36-6O8wR",
        "outputId": "53d3bd0f-1810-44e0-e395-1cf7c9a6e8e3"
      },
      "source": [
        "#label 1 for threes and 0 for sevens\n",
        "train_y = tensor([1]*len(threes) + [0]*len(sevens)).unsqueeze(1)\n",
        "train_x.shape,train_y.shape"
      ],
      "execution_count": 80,
      "outputs": [
        {
          "output_type": "execute_result",
          "data": {
            "text/plain": [
              "(torch.Size([12396, 784]), torch.Size([12396, 1]))"
            ]
          },
          "metadata": {
            "tags": []
          },
          "execution_count": 80
        }
      ]
    },
    {
      "cell_type": "code",
      "metadata": {
        "colab": {
          "base_uri": "https://localhost:8080/",
          "height": 225
        },
        "id": "9w-qntKoTUrs",
        "outputId": "0f71b287-8bc4-4eac-d0de-46bf9288efec"
      },
      "source": [
        "#Crear DataSet\n",
        "dset = list(zip(train_x,train_y))\n",
        "x,y = dset[0]\n",
        "x.shape,y"
      ],
      "execution_count": 81,
      "outputs": [
        {
          "output_type": "error",
          "ename": "TypeError",
          "evalue": "ignored",
          "traceback": [
            "\u001b[0;31m---------------------------------------------------------------------------\u001b[0m",
            "\u001b[0;31mTypeError\u001b[0m                                 Traceback (most recent call last)",
            "\u001b[0;32m<ipython-input-81-a28ade1f11c5>\u001b[0m in \u001b[0;36m<module>\u001b[0;34m()\u001b[0m\n\u001b[1;32m      1\u001b[0m \u001b[0;31m#Crear DataSet\u001b[0m\u001b[0;34m\u001b[0m\u001b[0;34m\u001b[0m\u001b[0;34m\u001b[0m\u001b[0m\n\u001b[0;32m----> 2\u001b[0;31m \u001b[0mdset\u001b[0m \u001b[0;34m=\u001b[0m \u001b[0mlist\u001b[0m\u001b[0;34m(\u001b[0m\u001b[0mzip\u001b[0m\u001b[0;34m(\u001b[0m\u001b[0mtrain_x\u001b[0m\u001b[0;34m,\u001b[0m\u001b[0mtrain_y\u001b[0m\u001b[0;34m)\u001b[0m\u001b[0;34m)\u001b[0m\u001b[0;34m\u001b[0m\u001b[0;34m\u001b[0m\u001b[0m\n\u001b[0m\u001b[1;32m      3\u001b[0m \u001b[0mx\u001b[0m\u001b[0;34m,\u001b[0m\u001b[0my\u001b[0m \u001b[0;34m=\u001b[0m \u001b[0mdset\u001b[0m\u001b[0;34m[\u001b[0m\u001b[0;36m0\u001b[0m\u001b[0;34m]\u001b[0m\u001b[0;34m\u001b[0m\u001b[0;34m\u001b[0m\u001b[0m\n\u001b[1;32m      4\u001b[0m \u001b[0mx\u001b[0m\u001b[0;34m.\u001b[0m\u001b[0mshape\u001b[0m\u001b[0;34m,\u001b[0m\u001b[0my\u001b[0m\u001b[0;34m\u001b[0m\u001b[0;34m\u001b[0m\u001b[0m\n",
            "\u001b[0;31mTypeError\u001b[0m: 'tuple' object is not callable"
          ]
        }
      ]
    },
    {
      "cell_type": "code",
      "metadata": {
        "colab": {
          "base_uri": "https://localhost:8080/"
        },
        "id": "X5IxLn-HTmzY",
        "outputId": "a3818e92-8564-4e38-cca3-6c1219126192"
      },
      "source": [
        "is_3(x,w)"
      ],
      "execution_count": 48,
      "outputs": [
        {
          "output_type": "execute_result",
          "data": {
            "text/plain": [
              "57.66561726988894"
            ]
          },
          "metadata": {
            "tags": []
          },
          "execution_count": 48
        }
      ]
    },
    {
      "cell_type": "code",
      "metadata": {
        "id": "hKJK7AyycxMq"
      },
      "source": [
        "arch = [10]"
      ],
      "execution_count": 58,
      "outputs": []
    },
    {
      "cell_type": "code",
      "metadata": {
        "id": "API3HRTLc_lh"
      },
      "source": [
        "n = []\n",
        "torch.stack()\n",
        "for neuron in range(arch[0]):\n",
        "  w = np.random.rand(x.T.shape[0], x.T.shape[1])\n",
        "  n.append(w)"
      ],
      "execution_count": 59,
      "outputs": []
    },
    {
      "cell_type": "code",
      "metadata": {
        "colab": {
          "base_uri": "https://localhost:8080/"
        },
        "id": "I1qDi1_Me6-a",
        "outputId": "d8bcd00a-0b62-416d-c4c6-8e5e42789225"
      },
      "source": [
        "n = tensor(n)\n",
        "n"
      ],
      "execution_count": 60,
      "outputs": [
        {
          "output_type": "execute_result",
          "data": {
            "text/plain": [
              "tensor([[[0.7005, 0.2531, 0.8096,  ..., 0.4255, 0.4135, 0.4429],\n",
              "         [0.0823, 0.8920, 0.8692,  ..., 0.4506, 0.3878, 0.2398],\n",
              "         [0.3724, 0.1110, 0.9711,  ..., 0.5198, 0.2479, 0.0954],\n",
              "         ...,\n",
              "         [0.6162, 0.9282, 0.5001,  ..., 0.2751, 0.5868, 0.6597],\n",
              "         [0.0176, 0.2419, 0.4310,  ..., 0.6508, 0.1442, 0.9349],\n",
              "         [0.9891, 0.4334, 0.5948,  ..., 0.0710, 0.4924, 0.0855]],\n",
              "\n",
              "        [[0.2618, 0.1260, 0.2241,  ..., 0.9539, 0.8821, 0.5637],\n",
              "         [0.6469, 0.8696, 0.7759,  ..., 0.4375, 0.0231, 0.3468],\n",
              "         [0.6990, 0.0901, 0.8883,  ..., 0.5778, 0.1138, 0.4770],\n",
              "         ...,\n",
              "         [0.8453, 0.0097, 0.2202,  ..., 0.5717, 0.1047, 0.1930],\n",
              "         [0.9988, 0.1956, 0.6105,  ..., 0.5911, 0.4819, 0.9780],\n",
              "         [0.8462, 0.4548, 0.7751,  ..., 0.4310, 0.7262, 0.6934]],\n",
              "\n",
              "        [[0.2045, 0.0585, 0.5460,  ..., 0.2898, 0.1839, 0.6742],\n",
              "         [0.6862, 0.6525, 0.4156,  ..., 0.2426, 0.5349, 0.6847],\n",
              "         [0.4487, 0.8630, 0.8695,  ..., 0.2605, 0.6165, 0.9232],\n",
              "         ...,\n",
              "         [0.8437, 0.2933, 0.6549,  ..., 0.2858, 0.1224, 0.7591],\n",
              "         [0.5955, 0.6091, 0.2185,  ..., 0.6018, 0.9300, 0.8567],\n",
              "         [0.4604, 0.8265, 0.4231,  ..., 0.3005, 0.2951, 0.3611]],\n",
              "\n",
              "        ...,\n",
              "\n",
              "        [[0.4732, 0.8574, 0.9273,  ..., 0.4340, 0.5733, 0.9675],\n",
              "         [0.9826, 0.4498, 0.8474,  ..., 0.4531, 0.9376, 0.9144],\n",
              "         [0.2538, 0.4018, 0.6433,  ..., 0.2938, 0.2762, 0.8693],\n",
              "         ...,\n",
              "         [0.7750, 0.9408, 0.3023,  ..., 0.5279, 0.5280, 0.7617],\n",
              "         [0.3588, 0.7168, 0.5781,  ..., 0.1482, 0.4332, 0.7499],\n",
              "         [0.4588, 0.1635, 0.2519,  ..., 0.6294, 0.8744, 0.0011]],\n",
              "\n",
              "        [[0.5302, 0.2146, 0.0942,  ..., 0.2410, 0.3153, 0.1959],\n",
              "         [0.7758, 0.6486, 0.6118,  ..., 0.2505, 0.5909, 0.5341],\n",
              "         [0.8445, 0.7293, 0.8317,  ..., 0.7794, 0.6427, 0.9384],\n",
              "         ...,\n",
              "         [0.5027, 0.0515, 0.2212,  ..., 0.2797, 0.5376, 0.6983],\n",
              "         [0.6306, 0.9416, 0.7956,  ..., 0.3112, 0.5127, 0.1088],\n",
              "         [0.0709, 0.4295, 0.7417,  ..., 0.7558, 0.8598, 0.4861]],\n",
              "\n",
              "        [[0.6199, 0.5373, 0.5625,  ..., 0.6275, 0.0527, 0.7531],\n",
              "         [0.0045, 0.3069, 0.5040,  ..., 0.6170, 0.6006, 0.8599],\n",
              "         [0.0033, 0.1899, 0.2197,  ..., 0.0253, 0.3327, 0.2601],\n",
              "         ...,\n",
              "         [0.8225, 0.2059, 0.8657,  ..., 0.2720, 0.8513, 0.3941],\n",
              "         [0.7097, 0.1477, 0.7558,  ..., 0.5348, 0.9436, 0.0788],\n",
              "         [0.5143, 0.7665, 0.6002,  ..., 0.9561, 0.2315, 0.4856]]])"
            ]
          },
          "metadata": {
            "tags": []
          },
          "execution_count": 60
        }
      ]
    },
    {
      "cell_type": "code",
      "metadata": {
        "id": "uWZGqwPJgA47"
      },
      "source": [
        ""
      ],
      "execution_count": null,
      "outputs": []
    }
  ]
}