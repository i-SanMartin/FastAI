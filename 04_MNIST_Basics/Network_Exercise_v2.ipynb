{
  "nbformat": 4,
  "nbformat_minor": 0,
  "metadata": {
    "colab": {
      "name": "Network.ipynb",
      "provenance": [],
      "collapsed_sections": [],
      "authorship_tag": "ABX9TyOUiCo88tH62dEKFgSiNPal",
      "include_colab_link": true
    },
    "kernelspec": {
      "name": "python3",
      "display_name": "Python 3"
    },
    "language_info": {
      "name": "python"
    },
    "accelerator": "GPU"
  },
  "cells": [
    {
      "cell_type": "markdown",
      "metadata": {
        "id": "view-in-github",
        "colab_type": "text"
      },
      "source": [
        "<a href=\"https://colab.research.google.com/github/i-SanMartin/FastAI/blob/main/04_MNIST_Basics/Network_Exercise_v2.ipynb\" target=\"_parent\"><img src=\"https://colab.research.google.com/assets/colab-badge.svg\" alt=\"Open In Colab\"/></a>"
      ]
    },
    {
      "cell_type": "code",
      "metadata": {
        "id": "ikhhHfdT0d_h",
        "colab": {
          "base_uri": "https://localhost:8080/"
        },
        "outputId": "677a8d9b-7734-461c-9fa8-c0b03c6ba9e8"
      },
      "source": [
        "!pip install -Uqq fastbook fastai==2.2.5\n",
        "import fastbook"
      ],
      "execution_count": 1,
      "outputs": [
        {
          "output_type": "stream",
          "text": [
            "\u001b[K     |████████████████████████████████| 727kB 5.4MB/s \n",
            "\u001b[K     |████████████████████████████████| 194kB 8.3MB/s \n",
            "\u001b[K     |████████████████████████████████| 51kB 4.3MB/s \n",
            "\u001b[K     |████████████████████████████████| 1.2MB 8.8MB/s \n",
            "\u001b[K     |████████████████████████████████| 12.8MB 293kB/s \n",
            "\u001b[K     |████████████████████████████████| 776.8MB 22kB/s \n",
            "\u001b[K     |████████████████████████████████| 61kB 6.9MB/s \n",
            "\u001b[K     |████████████████████████████████| 51kB 5.7MB/s \n",
            "\u001b[31mERROR: torchtext 0.9.1 has requirement torch==1.8.1, but you'll have torch 1.7.1 which is incompatible.\u001b[0m\n",
            "\u001b[?25h"
          ],
          "name": "stdout"
        }
      ]
    },
    {
      "cell_type": "code",
      "metadata": {
        "id": "8de0lIn531PL"
      },
      "source": [
        "from fastai.vision.all import *\n",
        "from fastbook import *\n",
        "\n",
        "matplotlib.rc('image', cmap='Greys')"
      ],
      "execution_count": 2,
      "outputs": []
    },
    {
      "cell_type": "code",
      "metadata": {
        "id": "KlBoYAPM4BEa",
        "colab": {
          "base_uri": "https://localhost:8080/",
          "height": 17
        },
        "outputId": "46c0a8ca-5eda-4436-fff6-a2719702fe20"
      },
      "source": [
        "path = untar_data(URLs.MNIST)"
      ],
      "execution_count": 3,
      "outputs": [
        {
          "output_type": "display_data",
          "data": {
            "text/html": [
              ""
            ],
            "text/plain": [
              "<IPython.core.display.HTML object>"
            ]
          },
          "metadata": {
            "tags": []
          }
        }
      ]
    },
    {
      "cell_type": "code",
      "metadata": {
        "id": "aMZcieEO5b3_"
      },
      "source": [
        "Path.BASE_PATH = path"
      ],
      "execution_count": 4,
      "outputs": []
    },
    {
      "cell_type": "code",
      "metadata": {
        "colab": {
          "base_uri": "https://localhost:8080/"
        },
        "id": "9fr_Hg905-gZ",
        "outputId": "0d4581ac-0153-4a98-cd2d-1a8fc42730fb"
      },
      "source": [
        "categories = tuple(x for x in range(0,10))\n",
        "categories"
      ],
      "execution_count": 5,
      "outputs": [
        {
          "output_type": "execute_result",
          "data": {
            "text/plain": [
              "(0, 1, 2, 3, 4, 5, 6, 7, 8, 9)"
            ]
          },
          "metadata": {
            "tags": []
          },
          "execution_count": 5
        }
      ]
    },
    {
      "cell_type": "code",
      "metadata": {
        "id": "BbHzBe1ZBEsw"
      },
      "source": [
        "#Training data\n",
        "train_x = torch.tensor([])\n",
        "train_y = torch.tensor([])\n",
        "\n",
        "for x in categories:\n",
        "  number_imgs = (path/'training'/str(x)).ls().sorted()\n",
        "  zeros_tensor =  [tensor(Image.open(img)) for img in number_imgs]\n",
        "  stacked_zeros = torch.stack(zeros_tensor)\n",
        "  train_x = torch.cat([train_x,stacked_zeros])\n",
        "  y = torch.tensor([x]*len(number_imgs))\n",
        "  train_y = torch.cat([train_y,y])"
      ],
      "execution_count": 6,
      "outputs": []
    },
    {
      "cell_type": "code",
      "metadata": {
        "id": "aHFQUykCF9ur"
      },
      "source": [
        "#Validation data\n",
        "valid_x = torch.tensor([])\n",
        "valid_y = torch.tensor([])\n",
        "\n",
        "for x in categories:\n",
        "  number_imgs = (path/'testing'/str(x)).ls().sorted()\n",
        "  zeros_tensor =  [tensor(Image.open(img)) for img in number_imgs]\n",
        "  stacked_zeros = torch.stack(zeros_tensor)\n",
        "  valid_x = torch.cat([valid_x,stacked_zeros])\n",
        "  y = torch.tensor([x]*len(number_imgs))\n",
        "  valid_y = torch.cat([valid_y,y])"
      ],
      "execution_count": 7,
      "outputs": []
    },
    {
      "cell_type": "code",
      "metadata": {
        "colab": {
          "base_uri": "https://localhost:8080/"
        },
        "id": "gokLHx8u_sEf",
        "outputId": "b2461108-63fa-4f62-f0c1-db5aa0e6cdcb"
      },
      "source": [
        "#Reshape data\n",
        "train_x = train_x.view(-1,28*28).float()/255\n",
        "valid_x = valid_x.view(-1,28*28).float()/255\n",
        "train_y = train_y.unsqueeze(1).long()\n",
        "valid_y = valid_y.unsqueeze(1).long()\n",
        "train_x.shape, train_y.shape, valid_x.shape, valid_y.shape"
      ],
      "execution_count": 8,
      "outputs": [
        {
          "output_type": "execute_result",
          "data": {
            "text/plain": [
              "(torch.Size([60000, 784]),\n",
              " torch.Size([60000, 1]),\n",
              " torch.Size([10000, 784]),\n",
              " torch.Size([10000, 1]))"
            ]
          },
          "metadata": {
            "tags": []
          },
          "execution_count": 8
        }
      ]
    },
    {
      "cell_type": "code",
      "metadata": {
        "id": "b_x_YPqxGnte"
      },
      "source": [
        "#Create datasets\n",
        "batch_size=256\n",
        "dset = list(zip(train_x,train_y))\n",
        "dl = DataLoader(dset, batch_size=batch_size)\n",
        "valid_dset = list(zip(valid_x,valid_y))\n",
        "valid_dl = DataLoader(dset, batch_size=batch_size)\n",
        "dls = DataLoaders(dl, valid_dl)"
      ],
      "execution_count": 12,
      "outputs": []
    },
    {
      "cell_type": "code",
      "metadata": {
        "id": "kwERlaxEMn_K"
      },
      "source": [
        "#Optimizer\n",
        "class Sgd():\n",
        "  def __init__(self, parameters, lr):\n",
        "    self.parameters = list(parameters)\n",
        "    self.lr = lr\n",
        "  def step(self):\n",
        "    for p in self.parameters:\n",
        "      p.data -= p.grad * self.lr\n",
        "  def zero_grad(self):\n",
        "    for p in self.parameters:\n",
        "      p.grad = None"
      ],
      "execution_count": 10,
      "outputs": []
    },
    {
      "cell_type": "code",
      "metadata": {
        "id": "WSeO7NQdHJC1"
      },
      "source": [
        "#Neural network\n",
        "simple_net = nn.Sequential(\n",
        "    nn.Linear(28*28,50),\n",
        "    nn.ReLU(),\n",
        "    nn.Linear(50,40),\n",
        "    nn.ReLU(),\n",
        "    nn.Linear(40,30),\n",
        "    nn.ReLU(),\n",
        "    nn.Linear(30,len(categories)),\n",
        "    nn.Sigmoid()\n",
        ")"
      ],
      "execution_count": 45,
      "outputs": []
    },
    {
      "cell_type": "code",
      "metadata": {
        "id": "sHx9tbPSThtt"
      },
      "source": [
        "#Metric function\n",
        "def batch_accuracy(x,y):\n",
        "    pred = simple_net(x)\n",
        "    pred_class = torch.tensor([torch.argmax(i) for i in pred])\n",
        "    correct = (pred_class == y.squeeze(1)).float().sum()\n",
        "    return correct"
      ],
      "execution_count": 13,
      "outputs": []
    },
    {
      "cell_type": "code",
      "metadata": {
        "id": "QRcY-CGSIkzM"
      },
      "source": [
        "#Learner\n",
        "class learner():\n",
        "  def __init__(self, Dls, model, optimize, loss_func, metrics):\n",
        "    self.dls = Dls\n",
        "    self.model = model\n",
        "    self.opt = optimize\n",
        "    self.loss_func = loss_func\n",
        "    self.metrics = metrics\n",
        "\n",
        "  def train(self, epochs, lr):\n",
        "    self.Opt = self.opt(self.model.parameters(), lr)\n",
        "    metric = self.validate_epoch(valid_dl).item()\n",
        "    loss = self.loss_func(self.model(valid_x),valid_y.squeeze(1))\n",
        "    for i in range(epochs):\n",
        "      print(\"Epoch: {}   Metric:  {}   Loss:   {:0.4f}\".format(i, metric, loss))\n",
        "      self.train_epoch(dl)\n",
        "      metric = self.validate_epoch(valid_dl).item()\n",
        "      loss = self.loss_func(self.model(valid_x),valid_y.squeeze(1))\n",
        "    print(\"Epoch: {}   Metric:  {}   Loss:   {:0.4f}\".format(i, metric, loss))\n",
        "\n",
        "  def predict(x):\n",
        "    pred = torch.argmax(self.model(x))\n",
        "    return(pred)\n",
        "\n",
        "  def train_epoch(self, data):\n",
        "    for dx, dy in data:\n",
        "      self.calc_grad(dx,dy)\n",
        "      self.Opt.step()\n",
        "      self.Opt.zero_grad()\n",
        "\n",
        "  def validate_epoch(self, data):\n",
        "    accs = torch.tensor([0.])\n",
        "    for xb,yb in data:\n",
        "      accs += self.metrics(xb,yb)\n",
        "    return accs/len(data.dataset)\n",
        "\n",
        "  def calc_grad(self,x,y): \n",
        "    pred = self.model(x)\n",
        "    loss = self.loss_func(pred,y.squeeze(1))\n",
        "    loss.backward()\n",
        "    return loss\n",
        "  "
      ],
      "execution_count": 37,
      "outputs": []
    },
    {
      "cell_type": "code",
      "metadata": {
        "id": "ObSvGv21uv9o"
      },
      "source": [
        "learn = learner(dls, simple_net, Sgd, nn.CrossEntropyLoss(), batch_accuracy)"
      ],
      "execution_count": 46,
      "outputs": []
    },
    {
      "cell_type": "code",
      "metadata": {
        "id": "_ml9ZklgGYcF",
        "colab": {
          "base_uri": "https://localhost:8080/"
        },
        "outputId": "f8bd1a22-c6c6-4241-f5ff-72b3dd1a3451"
      },
      "source": [
        "#Intentar conseguir que llegue a una metrica de 0.8 en 20 \n",
        "learn.train(50, 0.1)"
      ],
      "execution_count": 47,
      "outputs": [
        {
          "output_type": "stream",
          "text": [
            "Epoch: 0   Metric:  0.05608333274722099   Loss:   2.3038\n",
            "Epoch: 1   Metric:  0.268449991941452   Loss:   2.2897\n",
            "Epoch: 2   Metric:  0.46853333711624146   Loss:   2.1100\n",
            "Epoch: 3   Metric:  0.5612833499908447   Loss:   1.8231\n",
            "Epoch: 4   Metric:  0.6464499831199646   Loss:   1.7334\n",
            "Epoch: 5   Metric:  0.7162833213806152   Loss:   1.6884\n",
            "Epoch: 6   Metric:  0.7525833249092102   Loss:   1.6521\n",
            "Epoch: 7   Metric:  0.7799000144004822   Loss:   1.6271\n",
            "Epoch: 8   Metric:  0.7997833490371704   Loss:   1.6101\n",
            "Epoch: 9   Metric:  0.8077666759490967   Loss:   1.5959\n",
            "Epoch: 10   Metric:  0.828416645526886   Loss:   1.5850\n",
            "Epoch: 11   Metric:  0.8360000252723694   Loss:   1.5768\n",
            "Epoch: 12   Metric:  0.848716676235199   Loss:   1.5705\n",
            "Epoch: 13   Metric:  0.8714500069618225   Loss:   1.5644\n",
            "Epoch: 14   Metric:  0.8817333579063416   Loss:   1.5606\n",
            "Epoch: 15   Metric:  0.8890500068664551   Loss:   1.5552\n",
            "Epoch: 16   Metric:  0.8997166752815247   Loss:   1.5508\n",
            "Epoch: 17   Metric:  0.9053833484649658   Loss:   1.5470\n",
            "Epoch: 18   Metric:  0.90788334608078   Loss:   1.5447\n",
            "Epoch: 19   Metric:  0.9117833375930786   Loss:   1.5408\n",
            "Epoch: 20   Metric:  0.9149500131607056   Loss:   1.5388\n",
            "Epoch: 21   Metric:  0.9180833101272583   Loss:   1.5361\n",
            "Epoch: 22   Metric:  0.9189333319664001   Loss:   1.5344\n",
            "Epoch: 23   Metric:  0.9231500029563904   Loss:   1.5321\n",
            "Epoch: 24   Metric:  0.9247000217437744   Loss:   1.5307\n",
            "Epoch: 25   Metric:  0.9255499839782715   Loss:   1.5301\n",
            "Epoch: 26   Metric:  0.928933322429657   Loss:   1.5274\n",
            "Epoch: 27   Metric:  0.9296500086784363   Loss:   1.5256\n",
            "Epoch: 28   Metric:  0.9309333562850952   Loss:   1.5251\n",
            "Epoch: 29   Metric:  0.9315833449363708   Loss:   1.5246\n",
            "Epoch: 30   Metric:  0.9335500001907349   Loss:   1.5220\n",
            "Epoch: 31   Metric:  0.9358166456222534   Loss:   1.5203\n",
            "Epoch: 32   Metric:  0.9380333423614502   Loss:   1.5192\n",
            "Epoch: 33   Metric:  0.9372000098228455   Loss:   1.5191\n",
            "Epoch: 34   Metric:  0.9391000270843506   Loss:   1.5179\n",
            "Epoch: 35   Metric:  0.9419500231742859   Loss:   1.5158\n",
            "Epoch: 36   Metric:  0.9417999982833862   Loss:   1.5158\n",
            "Epoch: 37   Metric:  0.9445000290870667   Loss:   1.5135\n",
            "Epoch: 38   Metric:  0.9454333186149597   Loss:   1.5127\n",
            "Epoch: 39   Metric:  0.9461833238601685   Loss:   1.5121\n",
            "Epoch: 40   Metric:  0.946316659450531   Loss:   1.5120\n",
            "Epoch: 41   Metric:  0.9460999965667725   Loss:   1.5114\n",
            "Epoch: 42   Metric:  0.9488333463668823   Loss:   1.5097\n",
            "Epoch: 43   Metric:  0.9489666819572449   Loss:   1.5103\n",
            "Epoch: 44   Metric:  0.9498833417892456   Loss:   1.5087\n",
            "Epoch: 45   Metric:  0.9510833621025085   Loss:   1.5091\n",
            "Epoch: 46   Metric:  0.9521999955177307   Loss:   1.5073\n",
            "Epoch: 47   Metric:  0.9523666501045227   Loss:   1.5075\n",
            "Epoch: 48   Metric:  0.9533500075340271   Loss:   1.5068\n",
            "Epoch: 49   Metric:  0.9540500044822693   Loss:   1.5064\n",
            "Epoch: 49   Metric:  0.9525166749954224   Loss:   1.5073\n"
          ],
          "name": "stdout"
        }
      ]
    },
    {
      "cell_type": "code",
      "metadata": {
        "colab": {
          "base_uri": "https://localhost:8080/"
        },
        "id": "n2JBhV3A6Akh",
        "outputId": "756c6fe1-76de-4050-b37f-55939bcca46b"
      },
      "source": [
        "simple_net(train_x[20000])"
      ],
      "execution_count": 51,
      "outputs": [
        {
          "output_type": "execute_result",
          "data": {
            "text/plain": [
              "tensor([1.9483e-14, 4.7293e-10, 1.0334e-04, 1.0000e+00, 6.0645e-30, 3.5568e-11, 2.7157e-26, 2.6243e-10, 6.9453e-07, 2.4112e-12], grad_fn=<SigmoidBackward>)"
            ]
          },
          "metadata": {
            "tags": []
          },
          "execution_count": 51
        }
      ]
    }
  ]
}