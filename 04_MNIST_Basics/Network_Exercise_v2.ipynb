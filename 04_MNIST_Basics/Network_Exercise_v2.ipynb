{
  "nbformat": 4,
  "nbformat_minor": 0,
  "metadata": {
    "colab": {
      "name": "Network.ipynb",
      "provenance": [],
      "collapsed_sections": [],
      "authorship_tag": "ABX9TyOpAMeguNf8tC/pTM+VAQCJ",
      "include_colab_link": true
    },
    "kernelspec": {
      "name": "python3",
      "display_name": "Python 3"
    },
    "language_info": {
      "name": "python"
    },
    "accelerator": "GPU"
  },
  "cells": [
    {
      "cell_type": "markdown",
      "metadata": {
        "id": "view-in-github",
        "colab_type": "text"
      },
      "source": [
        "<a href=\"https://colab.research.google.com/github/i-SanMartin/FastAI/blob/main/04_MNIST_Basics/Network_Exercise_v2.ipynb\" target=\"_parent\"><img src=\"https://colab.research.google.com/assets/colab-badge.svg\" alt=\"Open In Colab\"/></a>"
      ]
    },
    {
      "cell_type": "code",
      "metadata": {
        "colab": {
          "base_uri": "https://localhost:8080/"
        },
        "id": "ikhhHfdT0d_h",
        "outputId": "01fb27b1-f7cf-41de-8ca0-d2a56918d326"
      },
      "source": [
        "!pip install -Uqq fastbook fastai==2.2.5\n",
        "import fastbook"
      ],
      "execution_count": 1,
      "outputs": [
        {
          "output_type": "stream",
          "text": [
            "\u001b[K     |████████████████████████████████| 727kB 6.2MB/s \n",
            "\u001b[K     |████████████████████████████████| 194kB 10.3MB/s \n",
            "\u001b[K     |████████████████████████████████| 1.2MB 11.4MB/s \n",
            "\u001b[K     |████████████████████████████████| 51kB 4.8MB/s \n",
            "\u001b[K     |████████████████████████████████| 12.8MB 289kB/s \n",
            "\u001b[K     |████████████████████████████████| 61kB 4.6MB/s \n",
            "\u001b[K     |████████████████████████████████| 776.8MB 20kB/s \n",
            "\u001b[K     |████████████████████████████████| 51kB 4.5MB/s \n",
            "\u001b[31mERROR: torchtext 0.9.1 has requirement torch==1.8.1, but you'll have torch 1.7.1 which is incompatible.\u001b[0m\n",
            "\u001b[?25h"
          ],
          "name": "stdout"
        }
      ]
    },
    {
      "cell_type": "code",
      "metadata": {
        "id": "8de0lIn531PL"
      },
      "source": [
        "from fastai.vision.all import *\n",
        "from fastbook import *\n",
        "\n",
        "matplotlib.rc('image', cmap='Greys')"
      ],
      "execution_count": 2,
      "outputs": []
    },
    {
      "cell_type": "code",
      "metadata": {
        "colab": {
          "base_uri": "https://localhost:8080/",
          "height": 17
        },
        "id": "KlBoYAPM4BEa",
        "outputId": "42a652a3-f20e-4039-ac3a-78e5e7e0c9dc"
      },
      "source": [
        "path = untar_data(URLs.MNIST)"
      ],
      "execution_count": 3,
      "outputs": [
        {
          "output_type": "display_data",
          "data": {
            "text/html": [
              ""
            ],
            "text/plain": [
              "<IPython.core.display.HTML object>"
            ]
          },
          "metadata": {
            "tags": []
          }
        }
      ]
    },
    {
      "cell_type": "code",
      "metadata": {
        "colab": {
          "base_uri": "https://localhost:8080/"
        },
        "id": "qXtR9gU84yxj",
        "outputId": "29e7eb1d-ca59-4899-d1be-a7b459c0e89f"
      },
      "source": [
        "path.ls()"
      ],
      "execution_count": 4,
      "outputs": [
        {
          "output_type": "execute_result",
          "data": {
            "text/plain": [
              "(#2) [Path('/root/.fastai/data/mnist_png/training'),Path('/root/.fastai/data/mnist_png/testing')]"
            ]
          },
          "metadata": {
            "tags": []
          },
          "execution_count": 4
        }
      ]
    },
    {
      "cell_type": "code",
      "metadata": {
        "id": "aMZcieEO5b3_"
      },
      "source": [
        "Path.BASE_PATH = path"
      ],
      "execution_count": 5,
      "outputs": []
    },
    {
      "cell_type": "code",
      "metadata": {
        "colab": {
          "base_uri": "https://localhost:8080/"
        },
        "id": "ugTiSPZr5QZS",
        "outputId": "3b3617b1-5bf6-4056-86b8-52025aaa8b91"
      },
      "source": [
        "(path/'training').ls()"
      ],
      "execution_count": 6,
      "outputs": [
        {
          "output_type": "execute_result",
          "data": {
            "text/plain": [
              "(#10) [Path('training/2'),Path('training/4'),Path('training/9'),Path('training/1'),Path('training/6'),Path('training/7'),Path('training/5'),Path('training/8'),Path('training/0'),Path('training/3')]"
            ]
          },
          "metadata": {
            "tags": []
          },
          "execution_count": 6
        }
      ]
    },
    {
      "cell_type": "code",
      "metadata": {
        "colab": {
          "base_uri": "https://localhost:8080/"
        },
        "id": "9fr_Hg905-gZ",
        "outputId": "4a77c321-2f8d-471e-d622-6ccb2d3a3013"
      },
      "source": [
        "categories = [x for x in range(0,10)]\n",
        "categories"
      ],
      "execution_count": 7,
      "outputs": [
        {
          "output_type": "execute_result",
          "data": {
            "text/plain": [
              "[0, 1, 2, 3, 4, 5, 6, 7, 8, 9]"
            ]
          },
          "metadata": {
            "tags": []
          },
          "execution_count": 7
        }
      ]
    },
    {
      "cell_type": "code",
      "metadata": {
        "id": "BpxKoOSPAyPj"
      },
      "source": [
        "train_x = torch.tensor([])\n",
        "train_y = torch.tensor([])\n",
        "valid_x = torch.tensor([])\n",
        "valid_y = torch.tensor([])"
      ],
      "execution_count": 83,
      "outputs": []
    },
    {
      "cell_type": "code",
      "metadata": {
        "id": "BbHzBe1ZBEsw"
      },
      "source": [
        "for x in categories:\n",
        "  number_imgs = (path/'training'/str(x)).ls().sorted()\n",
        "  zeros_tensor =  [tensor(Image.open(img)) for img in number_imgs]\n",
        "  stacked_zeros = torch.stack(zeros_tensor)\n",
        "  train_x = torch.cat([train_x,stacked_zeros])\n",
        "  y = torch.tensor([x]*len(number_imgs))\n",
        "  train_y = torch.cat([train_y,y])"
      ],
      "execution_count": 84,
      "outputs": []
    },
    {
      "cell_type": "code",
      "metadata": {
        "id": "aHFQUykCF9ur"
      },
      "source": [
        "for x in categories:\n",
        "  number_imgs = (path/'testing'/str(x)).ls().sorted()\n",
        "  zeros_tensor =  [tensor(Image.open(img)) for img in number_imgs]\n",
        "  stacked_zeros = torch.stack(zeros_tensor)\n",
        "  valid_x = torch.cat([valid_x,stacked_zeros])\n",
        "  y = torch.tensor([x]*len(number_imgs))\n",
        "  valid_y = torch.cat([valid_y,y])"
      ],
      "execution_count": 85,
      "outputs": []
    },
    {
      "cell_type": "code",
      "metadata": {
        "colab": {
          "base_uri": "https://localhost:8080/"
        },
        "id": "gokLHx8u_sEf",
        "outputId": "9e31c4bc-2f49-492c-c843-38f7bbd04f8a"
      },
      "source": [
        "train_x = train_x.view(-1,28*28).float()/255\n",
        "valid_x = valid_x.view(-1,28*28).float()/255\n",
        "train_y = train_y.unsqueeze(1).long()\n",
        "valid_y = valid_y.unsqueeze(1).long()\n",
        "train_x.shape, train_y.shape, valid_x.shape, valid_y.shape"
      ],
      "execution_count": 86,
      "outputs": [
        {
          "output_type": "execute_result",
          "data": {
            "text/plain": [
              "(torch.Size([60000, 784]),\n",
              " torch.Size([60000, 1]),\n",
              " torch.Size([10000, 784]),\n",
              " torch.Size([10000, 1]))"
            ]
          },
          "metadata": {
            "tags": []
          },
          "execution_count": 86
        }
      ]
    },
    {
      "cell_type": "code",
      "metadata": {
        "id": "b_x_YPqxGnte"
      },
      "source": [
        "dset = list(zip(train_x,train_y))\n",
        "dl = DataLoader(dset, batch_size=256)\n",
        "valid_dset = list(zip(valid_x,valid_y))\n",
        "valid_dl = DataLoader(dset, batch_size=256)\n",
        "dls = DataLoaders(dl, valid_dl)"
      ],
      "execution_count": 87,
      "outputs": []
    },
    {
      "cell_type": "code",
      "metadata": {
        "id": "WSeO7NQdHJC1"
      },
      "source": [
        "simple_net = nn.Sequential(\n",
        "    nn.Linear(28*28,80),\n",
        "    nn.ReLU(),\n",
        "    nn.Linear(80,30),\n",
        "    nn.ReLU(),\n",
        "    nn.Linear(30,10),\n",
        "    nn.Sigmoid()\n",
        ")"
      ],
      "execution_count": 113,
      "outputs": []
    },
    {
      "cell_type": "code",
      "metadata": {
        "id": "A5Z6GbPSDjBS"
      },
      "source": [
        "def class_tensor_loss(size, elements, label):\n",
        "  zeros = torch.zeros((size, elements))\n",
        "  label = label.long()\n",
        "  for _z, _l in zip(zeros, label):\n",
        "    _z[_l] = 1\n",
        "  return zeros"
      ],
      "execution_count": 105,
      "outputs": []
    },
    {
      "cell_type": "code",
      "metadata": {
        "id": "t9HbOSvBQZjf"
      },
      "source": [
        "def loss_f(pred, label):\n",
        "  loss_tensor = class_tensor_loss(pred.shape[0],pred.shape[1],label)\n",
        "  return torch.sqrt(torch.square(pred-loss_tensor)).mean()"
      ],
      "execution_count": 106,
      "outputs": []
    },
    {
      "cell_type": "code",
      "metadata": {
        "id": "q9D0XtMCAEMM"
      },
      "source": [
        "def calc_grad(model,x,y):\n",
        "  pred = model(x)\n",
        "  loss = loss_f(pred,y)\n",
        "  loss.backward()"
      ],
      "execution_count": 107,
      "outputs": []
    },
    {
      "cell_type": "code",
      "metadata": {
        "id": "kwERlaxEMn_K"
      },
      "source": [
        "class optimizer():\n",
        "  def __init__(self, parameters, lr):\n",
        "    self.parameters = list(parameters)\n",
        "    self.lr = lr\n",
        "  def step(self):\n",
        "    for p in self.parameters:\n",
        "      p.data -= p.grad\n",
        "  def grads_zero(self):\n",
        "    for p in self.parameters:\n",
        "      p.grad = None\n"
      ],
      "execution_count": 108,
      "outputs": []
    },
    {
      "cell_type": "code",
      "metadata": {
        "id": "aV4clFlNSZVq"
      },
      "source": [
        "opt = optimizer(simple_net.parameters(), 100)"
      ],
      "execution_count": 109,
      "outputs": []
    },
    {
      "cell_type": "code",
      "metadata": {
        "id": "sHx9tbPSThtt"
      },
      "source": [
        "def batch_accuracy(x,y):\n",
        "    pred = simple_net(train_x[0])\n",
        "    correct = ((pred == pred.max()).nonzero(as_tuple=True)[0] == y).count()"
      ],
      "execution_count": 110,
      "outputs": []
    },
    {
      "cell_type": "code",
      "metadata": {
        "id": "PNIMPTvBxvWZ",
        "colab": {
          "base_uri": "https://localhost:8080/"
        },
        "outputId": "cd3f9c42-d60c-49b9-8487-a9086bdeb389"
      },
      "source": [
        "for i in range(0,10):\n",
        "  for dx, dy in dl:\n",
        "    calc_grad(simple_net,dx,dy)\n",
        "    opt.step()\n",
        "    opt.grads_zero()\n",
        "  print(loss)"
      ],
      "execution_count": 111,
      "outputs": [
        {
          "output_type": "stream",
          "text": [
            "tensor(0.1000, grad_fn=<MeanBackward0>)\n",
            "tensor(0.1000, grad_fn=<MeanBackward0>)\n",
            "tensor(0.1000, grad_fn=<MeanBackward0>)\n",
            "tensor(0.1000, grad_fn=<MeanBackward0>)\n",
            "tensor(0.1000, grad_fn=<MeanBackward0>)\n",
            "tensor(0.1000, grad_fn=<MeanBackward0>)\n",
            "tensor(0.1000, grad_fn=<MeanBackward0>)\n",
            "tensor(0.1000, grad_fn=<MeanBackward0>)\n",
            "tensor(0.1000, grad_fn=<MeanBackward0>)\n",
            "tensor(0.1000, grad_fn=<MeanBackward0>)\n"
          ],
          "name": "stdout"
        }
      ]
    },
    {
      "cell_type": "code",
      "metadata": {
        "id": "nAlY5PeqK4ZJ",
        "outputId": "2ab3f67d-bafd-4b88-bfe4-c68f98834531",
        "colab": {
          "base_uri": "https://localhost:8080/"
        }
      },
      "source": [
        "pr = simple_net(train_x[0])\n",
        "pr"
      ],
      "execution_count": 114,
      "outputs": [
        {
          "output_type": "execute_result",
          "data": {
            "text/plain": [
              "tensor([0.5294, 0.4736, 0.5216, 0.5296, 0.4854, 0.4935, 0.5068, 0.5332, 0.5508, 0.4882], grad_fn=<SigmoidBackward>)"
            ]
          },
          "metadata": {
            "tags": []
          },
          "execution_count": 114
        }
      ]
    }
  ]
}