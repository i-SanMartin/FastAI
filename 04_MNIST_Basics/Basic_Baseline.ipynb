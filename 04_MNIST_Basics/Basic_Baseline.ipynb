{
  "nbformat": 4,
  "nbformat_minor": 0,
  "metadata": {
    "colab": {
      "name": "04_MNIST_Basics/Basic_Baseline.ipynb",
      "provenance": [],
      "authorship_tag": "ABX9TyM95ExRzciyKLqfccVshU89",
      "include_colab_link": true
    },
    "kernelspec": {
      "name": "python3",
      "display_name": "Python 3"
    },
    "language_info": {
      "name": "python"
    }
  },
  "cells": [
    {
      "cell_type": "markdown",
      "metadata": {
        "id": "view-in-github",
        "colab_type": "text"
      },
      "source": [
        "<a href=\"https://colab.research.google.com/github/i-SanMartin/FastAI/blob/main/04_MNIST_Basics/Basic_Baseline.ipynb\" target=\"_parent\"><img src=\"https://colab.research.google.com/assets/colab-badge.svg\" alt=\"Open In Colab\"/></a>"
      ]
    },
    {
      "cell_type": "code",
      "metadata": {
        "id": "MXx8geoFOhHr",
        "colab": {
          "base_uri": "https://localhost:8080/"
        },
        "outputId": "dbb94ac1-e820-472a-f495-790b660eae92"
      },
      "source": [
        "!pip install torch torchtext"
      ],
      "execution_count": 1,
      "outputs": [
        {
          "output_type": "stream",
          "text": [
            "Requirement already satisfied: torch in /usr/local/lib/python3.7/dist-packages (1.8.0+cu101)\n",
            "Requirement already satisfied: torchtext in /usr/local/lib/python3.7/dist-packages (0.9.0)\n",
            "Requirement already satisfied: typing-extensions in /usr/local/lib/python3.7/dist-packages (from torch) (3.7.4.3)\n",
            "Requirement already satisfied: numpy in /usr/local/lib/python3.7/dist-packages (from torch) (1.19.5)\n",
            "Requirement already satisfied: requests in /usr/local/lib/python3.7/dist-packages (from torchtext) (2.23.0)\n",
            "Requirement already satisfied: tqdm in /usr/local/lib/python3.7/dist-packages (from torchtext) (4.41.1)\n",
            "Requirement already satisfied: chardet<4,>=3.0.2 in /usr/local/lib/python3.7/dist-packages (from requests->torchtext) (3.0.4)\n",
            "Requirement already satisfied: certifi>=2017.4.17 in /usr/local/lib/python3.7/dist-packages (from requests->torchtext) (2020.12.5)\n",
            "Requirement already satisfied: urllib3!=1.25.0,!=1.25.1,<1.26,>=1.21.1 in /usr/local/lib/python3.7/dist-packages (from requests->torchtext) (1.24.3)\n",
            "Requirement already satisfied: idna<3,>=2.5 in /usr/local/lib/python3.7/dist-packages (from requests->torchtext) (2.10)\n"
          ],
          "name": "stdout"
        }
      ]
    },
    {
      "cell_type": "code",
      "metadata": {
        "colab": {
          "base_uri": "https://localhost:8080/"
        },
        "id": "ImA5zgqaOmlQ",
        "outputId": "3293b661-9301-4b61-f75b-85da78a0da44"
      },
      "source": [
        "#hide\n",
        "!pip install -Uqq fastbook fastai==2.2.5\n",
        "import fastbook\n",
        "fastbook.setup_book()"
      ],
      "execution_count": 2,
      "outputs": [
        {
          "output_type": "stream",
          "text": [
            "\u001b[K     |████████████████████████████████| 727kB 6.8MB/s \n",
            "\u001b[K     |████████████████████████████████| 194kB 22.0MB/s \n",
            "\u001b[K     |████████████████████████████████| 1.2MB 25.1MB/s \n",
            "\u001b[K     |████████████████████████████████| 51kB 5.4MB/s \n",
            "\u001b[K     |████████████████████████████████| 776.8MB 18kB/s \n",
            "\u001b[K     |████████████████████████████████| 12.8MB 263kB/s \n",
            "\u001b[K     |████████████████████████████████| 61kB 6.2MB/s \n",
            "\u001b[K     |████████████████████████████████| 51kB 5.7MB/s \n",
            "\u001b[31mERROR: torchtext 0.9.0 has requirement torch==1.8.0, but you'll have torch 1.7.1 which is incompatible.\u001b[0m\n",
            "\u001b[?25hMounted at /content/gdrive\n"
          ],
          "name": "stdout"
        }
      ]
    },
    {
      "cell_type": "code",
      "metadata": {
        "id": "7qv7GT_iPUNf"
      },
      "source": [
        "#hide\n",
        "from fastai.vision.all import *\n",
        "from fastbook import *\n",
        "\n",
        "matplotlib.rc('image', cmap='Greys')"
      ],
      "execution_count": 3,
      "outputs": []
    },
    {
      "cell_type": "code",
      "metadata": {
        "id": "mQzNt5AHVRXD",
        "colab": {
          "base_uri": "https://localhost:8080/",
          "height": 17
        },
        "outputId": "bdb7b968-e06e-4752-df96-1bde3304d204"
      },
      "source": [
        "path = untar_data(URLs.MNIST_SAMPLE)"
      ],
      "execution_count": 4,
      "outputs": [
        {
          "output_type": "display_data",
          "data": {
            "text/html": [
              ""
            ],
            "text/plain": [
              "<IPython.core.display.HTML object>"
            ]
          },
          "metadata": {
            "tags": []
          }
        }
      ]
    },
    {
      "cell_type": "code",
      "metadata": {
        "id": "oAF1HafxVTIY"
      },
      "source": [
        "Path.BASE_PATH = path"
      ],
      "execution_count": 5,
      "outputs": []
    },
    {
      "cell_type": "code",
      "metadata": {
        "id": "boLqEQKiVS-u",
        "colab": {
          "base_uri": "https://localhost:8080/"
        },
        "outputId": "c1793840-a405-4639-b1f5-3554f779b00a"
      },
      "source": [
        "path.ls()"
      ],
      "execution_count": 6,
      "outputs": [
        {
          "output_type": "execute_result",
          "data": {
            "text/plain": [
              "(#3) [Path('labels.csv'),Path('train'),Path('valid')]"
            ]
          },
          "metadata": {
            "tags": []
          },
          "execution_count": 6
        }
      ]
    },
    {
      "cell_type": "code",
      "metadata": {
        "id": "Dna45v1oVSqK",
        "colab": {
          "base_uri": "https://localhost:8080/"
        },
        "outputId": "b25eb91d-a724-4aef-f501-e81a8ddc7bd3"
      },
      "source": [
        "(path/'train').ls()"
      ],
      "execution_count": 7,
      "outputs": [
        {
          "output_type": "execute_result",
          "data": {
            "text/plain": [
              "(#2) [Path('train/3'),Path('train/7')]"
            ]
          },
          "metadata": {
            "tags": []
          },
          "execution_count": 7
        }
      ]
    },
    {
      "cell_type": "code",
      "metadata": {
        "id": "nbYk-ZGtVfrU",
        "colab": {
          "base_uri": "https://localhost:8080/"
        },
        "outputId": "635f30ba-2be5-453c-bfe8-3d4e99bfe49a"
      },
      "source": [
        "threes = (path/'train'/'3').ls().sorted()\n",
        "sevens = (path/'train'/'7').ls().sorted()\n",
        "threes"
      ],
      "execution_count": 8,
      "outputs": [
        {
          "output_type": "execute_result",
          "data": {
            "text/plain": [
              "(#6131) [Path('train/3/10.png'),Path('train/3/10000.png'),Path('train/3/10011.png'),Path('train/3/10031.png'),Path('train/3/10034.png'),Path('train/3/10042.png'),Path('train/3/10052.png'),Path('train/3/1007.png'),Path('train/3/10074.png'),Path('train/3/10091.png')...]"
            ]
          },
          "metadata": {
            "tags": []
          },
          "execution_count": 8
        }
      ]
    },
    {
      "cell_type": "code",
      "metadata": {
        "id": "Bc13oqtNVgk4",
        "colab": {
          "base_uri": "https://localhost:8080/",
          "height": 45
        },
        "outputId": "821c6171-5180-4c3e-f6aa-479ad9db5c1b"
      },
      "source": [
        "im3_path = threes[1]\n",
        "im3 = Image.open(im3_path)\n",
        "im3"
      ],
      "execution_count": 9,
      "outputs": [
        {
          "output_type": "execute_result",
          "data": {
            "image/png": "[encoded data removed]",
            "text/plain": [
              "<PIL.PngImagePlugin.PngImageFile image mode=L size=28x28 at 0x7F8ECDB68810>"
            ]
          },
          "metadata": {
            "tags": []
          },
          "execution_count": 9
        }
      ]
    },
    {
      "cell_type": "code",
      "metadata": {
        "colab": {
          "base_uri": "https://localhost:8080/"
        },
        "id": "KPma8nIbD-Cn",
        "outputId": "a3f61343-2b14-41b2-fa57-e9f606aa8c0e"
      },
      "source": [
        "array(im3)[4:11,4:11]"
      ],
      "execution_count": 10,
      "outputs": [
        {
          "output_type": "execute_result",
          "data": {
            "text/plain": [
              "array([[  0,   0,   0,   0,   0,   0,   0],\n",
              "       [  0,   0,   0,   0,   0,  29, 150],\n",
              "       [  0,   0,   0,  48, 166, 224, 253],\n",
              "       [  0,  93, 244, 249, 253, 187,  46],\n",
              "       [  0, 107, 253, 253, 230,  48,   0],\n",
              "       [  0,   3,  20,  20,  15,   0,   0],\n",
              "       [  0,   0,   0,   0,   0,   0,   0]], dtype=uint8)"
            ]
          },
          "metadata": {
            "tags": []
          },
          "execution_count": 10
        }
      ]
    },
    {
      "cell_type": "code",
      "metadata": {
        "colab": {
          "base_uri": "https://localhost:8080/"
        },
        "id": "mJ8nfgjfD9oa",
        "outputId": "04caaf5c-cc1c-4173-8987-27b6016cfe19"
      },
      "source": [
        "tensor(im3)[4:11,4:11]"
      ],
      "execution_count": 11,
      "outputs": [
        {
          "output_type": "execute_result",
          "data": {
            "text/plain": [
              "tensor([[  0,   0,   0,   0,   0,   0,   0],\n",
              "        [  0,   0,   0,   0,   0,  29, 150],\n",
              "        [  0,   0,   0,  48, 166, 224, 253],\n",
              "        [  0,  93, 244, 249, 253, 187,  46],\n",
              "        [  0, 107, 253, 253, 230,  48,   0],\n",
              "        [  0,   3,  20,  20,  15,   0,   0],\n",
              "        [  0,   0,   0,   0,   0,   0,   0]], dtype=torch.uint8)"
            ]
          },
          "metadata": {
            "tags": []
          },
          "execution_count": 11
        }
      ]
    },
    {
      "cell_type": "code",
      "metadata": {
        "colab": {
          "base_uri": "https://localhost:8080/",
          "height": 271
        },
        "id": "131n4ybxEO0t",
        "outputId": "346888ed-678c-4f08-aae5-2217dd35ece2"
      },
      "source": [
        "#hide_output\n",
        "im3_t = tensor(im3)\n",
        "df = pd.DataFrame(im3_t[4:15,4:22])\n",
        "df.style.set_properties(**{'font-size':'6pt'}).background_gradient('Greys')"
      ],
      "execution_count": 12,
      "outputs": [
        {
          "output_type": "execute_result",
          "data": {
            "text/html": [
              "<style  type=\"text/css\" >\n",
              "#T_ea35cf82_8da9_11eb_a6cc_0242ac1c0002row0_col0,#T_ea35cf82_8da9_11eb_a6cc_0242ac1c0002row0_col1,#T_ea35cf82_8da9_11eb_a6cc_0242ac1c0002row0_col2,#T_ea35cf82_8da9_11eb_a6cc_0242ac1c0002row0_col3,#T_ea35cf82_8da9_11eb_a6cc_0242ac1c0002row0_col4,#T_ea35cf82_8da9_11eb_a6cc_0242ac1c0002row0_col5,#T_ea35cf82_8da9_11eb_a6cc_0242ac1c0002row0_col6,#T_ea35cf82_8da9_11eb_a6cc_0242ac1c0002row0_col7,#T_ea35cf82_8da9_11eb_a6cc_0242ac1c0002row0_col8,#T_ea35cf82_8da9_11eb_a6cc_0242ac1c0002row0_col9,#T_ea35cf82_8da9_11eb_a6cc_0242ac1c0002row0_col10,#T_ea35cf82_8da9_11eb_a6cc_0242ac1c0002row0_col11,#T_ea35cf82_8da9_11eb_a6cc_0242ac1c0002row0_col12,#T_ea35cf82_8da9_11eb_a6cc_0242ac1c0002row0_col13,#T_ea35cf82_8da9_11eb_a6cc_0242ac1c0002row0_col14,#T_ea35cf82_8da9_11eb_a6cc_0242ac1c0002row0_col15,#T_ea35cf82_8da9_11eb_a6cc_0242ac1c0002row0_col16,#T_ea35cf82_8da9_11eb_a6cc_0242ac1c0002row0_col17,#T_ea35cf82_8da9_11eb_a6cc_0242ac1c0002row1_col0,#T_ea35cf82_8da9_11eb_a6cc_0242ac1c0002row1_col1,#T_ea35cf82_8da9_11eb_a6cc_0242ac1c0002row1_col2,#T_ea35cf82_8da9_11eb_a6cc_0242ac1c0002row1_col3,#T_ea35cf82_8da9_11eb_a6cc_0242ac1c0002row1_col4,#T_ea35cf82_8da9_11eb_a6cc_0242ac1c0002row1_col15,#T_ea35cf82_8da9_11eb_a6cc_0242ac1c0002row1_col16,#T_ea35cf82_8da9_11eb_a6cc_0242ac1c0002row1_col17,#T_ea35cf82_8da9_11eb_a6cc_0242ac1c0002row2_col0,#T_ea35cf82_8da9_11eb_a6cc_0242ac1c0002row2_col1,#T_ea35cf82_8da9_11eb_a6cc_0242ac1c0002row2_col2,#T_ea35cf82_8da9_11eb_a6cc_0242ac1c0002row2_col15,#T_ea35cf82_8da9_11eb_a6cc_0242ac1c0002row2_col16,#T_ea35cf82_8da9_11eb_a6cc_0242ac1c0002row2_col17,#T_ea35cf82_8da9_11eb_a6cc_0242ac1c0002row3_col0,#T_ea35cf82_8da9_11eb_a6cc_0242ac1c0002row3_col15,#T_ea35cf82_8da9_11eb_a6cc_0242ac1c0002row3_col16,#T_ea35cf82_8da9_11eb_a6cc_0242ac1c0002row3_col17,#T_ea35cf82_8da9_11eb_a6cc_0242ac1c0002row4_col0,#T_ea35cf82_8da9_11eb_a6cc_0242ac1c0002row4_col6,#T_ea35cf82_8da9_11eb_a6cc_0242ac1c0002row4_col7,#T_ea35cf82_8da9_11eb_a6cc_0242ac1c0002row4_col8,#T_ea35cf82_8da9_11eb_a6cc_0242ac1c0002row4_col9,#T_ea35cf82_8da9_11eb_a6cc_0242ac1c0002row4_col10,#T_ea35cf82_8da9_11eb_a6cc_0242ac1c0002row4_col15,#T_ea35cf82_8da9_11eb_a6cc_0242ac1c0002row4_col16,#T_ea35cf82_8da9_11eb_a6cc_0242ac1c0002row4_col17,#T_ea35cf82_8da9_11eb_a6cc_0242ac1c0002row5_col0,#T_ea35cf82_8da9_11eb_a6cc_0242ac1c0002row5_col5,#T_ea35cf82_8da9_11eb_a6cc_0242ac1c0002row5_col6,#T_ea35cf82_8da9_11eb_a6cc_0242ac1c0002row5_col7,#T_ea35cf82_8da9_11eb_a6cc_0242ac1c0002row5_col8,#T_ea35cf82_8da9_11eb_a6cc_0242ac1c0002row5_col9,#T_ea35cf82_8da9_11eb_a6cc_0242ac1c0002row5_col15,#T_ea35cf82_8da9_11eb_a6cc_0242ac1c0002row5_col16,#T_ea35cf82_8da9_11eb_a6cc_0242ac1c0002row5_col17,#T_ea35cf82_8da9_11eb_a6cc_0242ac1c0002row6_col0,#T_ea35cf82_8da9_11eb_a6cc_0242ac1c0002row6_col1,#T_ea35cf82_8da9_11eb_a6cc_0242ac1c0002row6_col2,#T_ea35cf82_8da9_11eb_a6cc_0242ac1c0002row6_col3,#T_ea35cf82_8da9_11eb_a6cc_0242ac1c0002row6_col4,#T_ea35cf82_8da9_11eb_a6cc_0242ac1c0002row6_col5,#T_ea35cf82_8da9_11eb_a6cc_0242ac1c0002row6_col6,#T_ea35cf82_8da9_11eb_a6cc_0242ac1c0002row6_col7,#T_ea35cf82_8da9_11eb_a6cc_0242ac1c0002row6_col8,#T_ea35cf82_8da9_11eb_a6cc_0242ac1c0002row6_col9,#T_ea35cf82_8da9_11eb_a6cc_0242ac1c0002row6_col14,#T_ea35cf82_8da9_11eb_a6cc_0242ac1c0002row6_col15,#T_ea35cf82_8da9_11eb_a6cc_0242ac1c0002row6_col16,#T_ea35cf82_8da9_11eb_a6cc_0242ac1c0002row6_col17,#T_ea35cf82_8da9_11eb_a6cc_0242ac1c0002row7_col0,#T_ea35cf82_8da9_11eb_a6cc_0242ac1c0002row7_col1,#T_ea35cf82_8da9_11eb_a6cc_0242ac1c0002row7_col2,#T_ea35cf82_8da9_11eb_a6cc_0242ac1c0002row7_col3,#T_ea35cf82_8da9_11eb_a6cc_0242ac1c0002row7_col4,#T_ea35cf82_8da9_11eb_a6cc_0242ac1c0002row7_col5,#T_ea35cf82_8da9_11eb_a6cc_0242ac1c0002row7_col6,#T_ea35cf82_8da9_11eb_a6cc_0242ac1c0002row7_col13,#T_ea35cf82_8da9_11eb_a6cc_0242ac1c0002row7_col14,#T_ea35cf82_8da9_11eb_a6cc_0242ac1c0002row7_col15,#T_ea35cf82_8da9_11eb_a6cc_0242ac1c0002row7_col16,#T_ea35cf82_8da9_11eb_a6cc_0242ac1c0002row7_col17,#T_ea35cf82_8da9_11eb_a6cc_0242ac1c0002row8_col0,#T_ea35cf82_8da9_11eb_a6cc_0242ac1c0002row8_col1,#T_ea35cf82_8da9_11eb_a6cc_0242ac1c0002row8_col2,#T_ea35cf82_8da9_11eb_a6cc_0242ac1c0002row8_col3,#T_ea35cf82_8da9_11eb_a6cc_0242ac1c0002row8_col4,#T_ea35cf82_8da9_11eb_a6cc_0242ac1c0002row8_col13,#T_ea35cf82_8da9_11eb_a6cc_0242ac1c0002row8_col14,#T_ea35cf82_8da9_11eb_a6cc_0242ac1c0002row8_col15,#T_ea35cf82_8da9_11eb_a6cc_0242ac1c0002row8_col16,#T_ea35cf82_8da9_11eb_a6cc_0242ac1c0002row8_col17,#T_ea35cf82_8da9_11eb_a6cc_0242ac1c0002row9_col0,#T_ea35cf82_8da9_11eb_a6cc_0242ac1c0002row9_col1,#T_ea35cf82_8da9_11eb_a6cc_0242ac1c0002row9_col2,#T_ea35cf82_8da9_11eb_a6cc_0242ac1c0002row9_col3,#T_ea35cf82_8da9_11eb_a6cc_0242ac1c0002row9_col4,#T_ea35cf82_8da9_11eb_a6cc_0242ac1c0002row9_col16,#T_ea35cf82_8da9_11eb_a6cc_0242ac1c0002row9_col17,#T_ea35cf82_8da9_11eb_a6cc_0242ac1c0002row10_col0,#T_ea35cf82_8da9_11eb_a6cc_0242ac1c0002row10_col1,#T_ea35cf82_8da9_11eb_a6cc_0242ac1c0002row10_col2,#T_ea35cf82_8da9_11eb_a6cc_0242ac1c0002row10_col3,#T_ea35cf82_8da9_11eb_a6cc_0242ac1c0002row10_col4,#T_ea35cf82_8da9_11eb_a6cc_0242ac1c0002row10_col5,#T_ea35cf82_8da9_11eb_a6cc_0242ac1c0002row10_col6,#T_ea35cf82_8da9_11eb_a6cc_0242ac1c0002row10_col17{\n",
              "            font-size:  6pt;\n",
              "            background-color:  #ffffff;\n",
              "            color:  #000000;\n",
              "        }#T_ea35cf82_8da9_11eb_a6cc_0242ac1c0002row1_col5{\n",
              "            font-size:  6pt;\n",
              "            background-color:  #efefef;\n",
              "            color:  #000000;\n",
              "        }#T_ea35cf82_8da9_11eb_a6cc_0242ac1c0002row1_col6,#T_ea35cf82_8da9_11eb_a6cc_0242ac1c0002row1_col13{\n",
              "            font-size:  6pt;\n",
              "            background-color:  #7c7c7c;\n",
              "            color:  #000000;\n",
              "        }#T_ea35cf82_8da9_11eb_a6cc_0242ac1c0002row1_col7{\n",
              "            font-size:  6pt;\n",
              "            background-color:  #4a4a4a;\n",
              "            color:  #f1f1f1;\n",
              "        }#T_ea35cf82_8da9_11eb_a6cc_0242ac1c0002row1_col8,#T_ea35cf82_8da9_11eb_a6cc_0242ac1c0002row1_col9,#T_ea35cf82_8da9_11eb_a6cc_0242ac1c0002row1_col10,#T_ea35cf82_8da9_11eb_a6cc_0242ac1c0002row2_col5,#T_ea35cf82_8da9_11eb_a6cc_0242ac1c0002row2_col6,#T_ea35cf82_8da9_11eb_a6cc_0242ac1c0002row2_col7,#T_ea35cf82_8da9_11eb_a6cc_0242ac1c0002row2_col11,#T_ea35cf82_8da9_11eb_a6cc_0242ac1c0002row2_col12,#T_ea35cf82_8da9_11eb_a6cc_0242ac1c0002row2_col13,#T_ea35cf82_8da9_11eb_a6cc_0242ac1c0002row3_col4,#T_ea35cf82_8da9_11eb_a6cc_0242ac1c0002row3_col12,#T_ea35cf82_8da9_11eb_a6cc_0242ac1c0002row3_col13,#T_ea35cf82_8da9_11eb_a6cc_0242ac1c0002row4_col1,#T_ea35cf82_8da9_11eb_a6cc_0242ac1c0002row4_col2,#T_ea35cf82_8da9_11eb_a6cc_0242ac1c0002row4_col3,#T_ea35cf82_8da9_11eb_a6cc_0242ac1c0002row4_col12,#T_ea35cf82_8da9_11eb_a6cc_0242ac1c0002row4_col13,#T_ea35cf82_8da9_11eb_a6cc_0242ac1c0002row5_col12,#T_ea35cf82_8da9_11eb_a6cc_0242ac1c0002row6_col11,#T_ea35cf82_8da9_11eb_a6cc_0242ac1c0002row9_col11,#T_ea35cf82_8da9_11eb_a6cc_0242ac1c0002row10_col11,#T_ea35cf82_8da9_11eb_a6cc_0242ac1c0002row10_col12,#T_ea35cf82_8da9_11eb_a6cc_0242ac1c0002row10_col13,#T_ea35cf82_8da9_11eb_a6cc_0242ac1c0002row10_col14,#T_ea35cf82_8da9_11eb_a6cc_0242ac1c0002row10_col15,#T_ea35cf82_8da9_11eb_a6cc_0242ac1c0002row10_col16{\n",
              "            font-size:  6pt;\n",
              "            background-color:  #000000;\n",
              "            color:  #f1f1f1;\n",
              "        }#T_ea35cf82_8da9_11eb_a6cc_0242ac1c0002row1_col11{\n",
              "            font-size:  6pt;\n",
              "            background-color:  #606060;\n",
              "            color:  #f1f1f1;\n",
              "        }#T_ea35cf82_8da9_11eb_a6cc_0242ac1c0002row1_col12{\n",
              "            font-size:  6pt;\n",
              "            background-color:  #4d4d4d;\n",
              "            color:  #f1f1f1;\n",
              "        }#T_ea35cf82_8da9_11eb_a6cc_0242ac1c0002row1_col14{\n",
              "            font-size:  6pt;\n",
              "            background-color:  #bbbbbb;\n",
              "            color:  #000000;\n",
              "        }#T_ea35cf82_8da9_11eb_a6cc_0242ac1c0002row2_col3{\n",
              "            font-size:  6pt;\n",
              "            background-color:  #e4e4e4;\n",
              "            color:  #000000;\n",
              "        }#T_ea35cf82_8da9_11eb_a6cc_0242ac1c0002row2_col4,#T_ea35cf82_8da9_11eb_a6cc_0242ac1c0002row8_col6{\n",
              "            font-size:  6pt;\n",
              "            background-color:  #6b6b6b;\n",
              "            color:  #000000;\n",
              "        }#T_ea35cf82_8da9_11eb_a6cc_0242ac1c0002row2_col8,#T_ea35cf82_8da9_11eb_a6cc_0242ac1c0002row2_col14,#T_ea35cf82_8da9_11eb_a6cc_0242ac1c0002row3_col14{\n",
              "            font-size:  6pt;\n",
              "            background-color:  #171717;\n",
              "            color:  #f1f1f1;\n",
              "        }#T_ea35cf82_8da9_11eb_a6cc_0242ac1c0002row2_col9,#T_ea35cf82_8da9_11eb_a6cc_0242ac1c0002row3_col11{\n",
              "            font-size:  6pt;\n",
              "            background-color:  #4b4b4b;\n",
              "            color:  #f1f1f1;\n",
              "        }#T_ea35cf82_8da9_11eb_a6cc_0242ac1c0002row2_col10,#T_ea35cf82_8da9_11eb_a6cc_0242ac1c0002row7_col10,#T_ea35cf82_8da9_11eb_a6cc_0242ac1c0002row8_col8,#T_ea35cf82_8da9_11eb_a6cc_0242ac1c0002row8_col10,#T_ea35cf82_8da9_11eb_a6cc_0242ac1c0002row9_col8,#T_ea35cf82_8da9_11eb_a6cc_0242ac1c0002row9_col10{\n",
              "            font-size:  6pt;\n",
              "            background-color:  #010101;\n",
              "            color:  #f1f1f1;\n",
              "        }#T_ea35cf82_8da9_11eb_a6cc_0242ac1c0002row3_col1{\n",
              "            font-size:  6pt;\n",
              "            background-color:  #272727;\n",
              "            color:  #f1f1f1;\n",
              "        }#T_ea35cf82_8da9_11eb_a6cc_0242ac1c0002row3_col2{\n",
              "            font-size:  6pt;\n",
              "            background-color:  #0a0a0a;\n",
              "            color:  #f1f1f1;\n",
              "        }#T_ea35cf82_8da9_11eb_a6cc_0242ac1c0002row3_col3{\n",
              "            font-size:  6pt;\n",
              "            background-color:  #050505;\n",
              "            color:  #f1f1f1;\n",
              "        }#T_ea35cf82_8da9_11eb_a6cc_0242ac1c0002row3_col5{\n",
              "            font-size:  6pt;\n",
              "            background-color:  #333333;\n",
              "            color:  #f1f1f1;\n",
              "        }#T_ea35cf82_8da9_11eb_a6cc_0242ac1c0002row3_col6{\n",
              "            font-size:  6pt;\n",
              "            background-color:  #e6e6e6;\n",
              "            color:  #000000;\n",
              "        }#T_ea35cf82_8da9_11eb_a6cc_0242ac1c0002row3_col7,#T_ea35cf82_8da9_11eb_a6cc_0242ac1c0002row3_col10{\n",
              "            font-size:  6pt;\n",
              "            background-color:  #fafafa;\n",
              "            color:  #000000;\n",
              "        }#T_ea35cf82_8da9_11eb_a6cc_0242ac1c0002row3_col8{\n",
              "            font-size:  6pt;\n",
              "            background-color:  #fbfbfb;\n",
              "            color:  #000000;\n",
              "        }#T_ea35cf82_8da9_11eb_a6cc_0242ac1c0002row3_col9{\n",
              "            font-size:  6pt;\n",
              "            background-color:  #fdfdfd;\n",
              "            color:  #000000;\n",
              "        }#T_ea35cf82_8da9_11eb_a6cc_0242ac1c0002row4_col4{\n",
              "            font-size:  6pt;\n",
              "            background-color:  #1b1b1b;\n",
              "            color:  #f1f1f1;\n",
              "        }#T_ea35cf82_8da9_11eb_a6cc_0242ac1c0002row4_col5{\n",
              "            font-size:  6pt;\n",
              "            background-color:  #e0e0e0;\n",
              "            color:  #000000;\n",
              "        }#T_ea35cf82_8da9_11eb_a6cc_0242ac1c0002row4_col11{\n",
              "            font-size:  6pt;\n",
              "            background-color:  #4e4e4e;\n",
              "            color:  #f1f1f1;\n",
              "        }#T_ea35cf82_8da9_11eb_a6cc_0242ac1c0002row4_col14{\n",
              "            font-size:  6pt;\n",
              "            background-color:  #767676;\n",
              "            color:  #000000;\n",
              "        }#T_ea35cf82_8da9_11eb_a6cc_0242ac1c0002row5_col1{\n",
              "            font-size:  6pt;\n",
              "            background-color:  #fcfcfc;\n",
              "            color:  #000000;\n",
              "        }#T_ea35cf82_8da9_11eb_a6cc_0242ac1c0002row5_col2,#T_ea35cf82_8da9_11eb_a6cc_0242ac1c0002row5_col3{\n",
              "            font-size:  6pt;\n",
              "            background-color:  #f6f6f6;\n",
              "            color:  #000000;\n",
              "        }#T_ea35cf82_8da9_11eb_a6cc_0242ac1c0002row5_col4,#T_ea35cf82_8da9_11eb_a6cc_0242ac1c0002row7_col7{\n",
              "            font-size:  6pt;\n",
              "            background-color:  #f8f8f8;\n",
              "            color:  #000000;\n",
              "        }#T_ea35cf82_8da9_11eb_a6cc_0242ac1c0002row5_col10,#T_ea35cf82_8da9_11eb_a6cc_0242ac1c0002row10_col7{\n",
              "            font-size:  6pt;\n",
              "            background-color:  #e8e8e8;\n",
              "            color:  #000000;\n",
              "        }#T_ea35cf82_8da9_11eb_a6cc_0242ac1c0002row5_col11{\n",
              "            font-size:  6pt;\n",
              "            background-color:  #222222;\n",
              "            color:  #f1f1f1;\n",
              "        }#T_ea35cf82_8da9_11eb_a6cc_0242ac1c0002row5_col13,#T_ea35cf82_8da9_11eb_a6cc_0242ac1c0002row6_col12{\n",
              "            font-size:  6pt;\n",
              "            background-color:  #090909;\n",
              "            color:  #f1f1f1;\n",
              "        }#T_ea35cf82_8da9_11eb_a6cc_0242ac1c0002row5_col14{\n",
              "            font-size:  6pt;\n",
              "            background-color:  #d0d0d0;\n",
              "            color:  #000000;\n",
              "        }#T_ea35cf82_8da9_11eb_a6cc_0242ac1c0002row6_col10,#T_ea35cf82_8da9_11eb_a6cc_0242ac1c0002row7_col11,#T_ea35cf82_8da9_11eb_a6cc_0242ac1c0002row9_col6{\n",
              "            font-size:  6pt;\n",
              "            background-color:  #060606;\n",
              "            color:  #f1f1f1;\n",
              "        }#T_ea35cf82_8da9_11eb_a6cc_0242ac1c0002row6_col13{\n",
              "            font-size:  6pt;\n",
              "            background-color:  #979797;\n",
              "            color:  #000000;\n",
              "        }#T_ea35cf82_8da9_11eb_a6cc_0242ac1c0002row7_col8{\n",
              "            font-size:  6pt;\n",
              "            background-color:  #b6b6b6;\n",
              "            color:  #000000;\n",
              "        }#T_ea35cf82_8da9_11eb_a6cc_0242ac1c0002row7_col9{\n",
              "            font-size:  6pt;\n",
              "            background-color:  #252525;\n",
              "            color:  #f1f1f1;\n",
              "        }#T_ea35cf82_8da9_11eb_a6cc_0242ac1c0002row7_col12{\n",
              "            font-size:  6pt;\n",
              "            background-color:  #999999;\n",
              "            color:  #000000;\n",
              "        }#T_ea35cf82_8da9_11eb_a6cc_0242ac1c0002row8_col5{\n",
              "            font-size:  6pt;\n",
              "            background-color:  #f9f9f9;\n",
              "            color:  #000000;\n",
              "        }#T_ea35cf82_8da9_11eb_a6cc_0242ac1c0002row8_col7{\n",
              "            font-size:  6pt;\n",
              "            background-color:  #101010;\n",
              "            color:  #f1f1f1;\n",
              "        }#T_ea35cf82_8da9_11eb_a6cc_0242ac1c0002row8_col9,#T_ea35cf82_8da9_11eb_a6cc_0242ac1c0002row9_col9{\n",
              "            font-size:  6pt;\n",
              "            background-color:  #020202;\n",
              "            color:  #f1f1f1;\n",
              "        }#T_ea35cf82_8da9_11eb_a6cc_0242ac1c0002row8_col11{\n",
              "            font-size:  6pt;\n",
              "            background-color:  #545454;\n",
              "            color:  #f1f1f1;\n",
              "        }#T_ea35cf82_8da9_11eb_a6cc_0242ac1c0002row8_col12{\n",
              "            font-size:  6pt;\n",
              "            background-color:  #f1f1f1;\n",
              "            color:  #000000;\n",
              "        }#T_ea35cf82_8da9_11eb_a6cc_0242ac1c0002row9_col5{\n",
              "            font-size:  6pt;\n",
              "            background-color:  #f7f7f7;\n",
              "            color:  #000000;\n",
              "        }#T_ea35cf82_8da9_11eb_a6cc_0242ac1c0002row9_col7{\n",
              "            font-size:  6pt;\n",
              "            background-color:  #030303;\n",
              "            color:  #f1f1f1;\n",
              "        }#T_ea35cf82_8da9_11eb_a6cc_0242ac1c0002row9_col12{\n",
              "            font-size:  6pt;\n",
              "            background-color:  #181818;\n",
              "            color:  #f1f1f1;\n",
              "        }#T_ea35cf82_8da9_11eb_a6cc_0242ac1c0002row9_col13{\n",
              "            font-size:  6pt;\n",
              "            background-color:  #303030;\n",
              "            color:  #f1f1f1;\n",
              "        }#T_ea35cf82_8da9_11eb_a6cc_0242ac1c0002row9_col14{\n",
              "            font-size:  6pt;\n",
              "            background-color:  #a9a9a9;\n",
              "            color:  #000000;\n",
              "        }#T_ea35cf82_8da9_11eb_a6cc_0242ac1c0002row9_col15{\n",
              "            font-size:  6pt;\n",
              "            background-color:  #fefefe;\n",
              "            color:  #000000;\n",
              "        }#T_ea35cf82_8da9_11eb_a6cc_0242ac1c0002row10_col8,#T_ea35cf82_8da9_11eb_a6cc_0242ac1c0002row10_col9{\n",
              "            font-size:  6pt;\n",
              "            background-color:  #bababa;\n",
              "            color:  #000000;\n",
              "        }#T_ea35cf82_8da9_11eb_a6cc_0242ac1c0002row10_col10{\n",
              "            font-size:  6pt;\n",
              "            background-color:  #393939;\n",
              "            color:  #f1f1f1;\n",
              "        }</style><table id=\"T_ea35cf82_8da9_11eb_a6cc_0242ac1c0002\" ><thead>    <tr>        <th class=\"blank level0\" ></th>        <th class=\"col_heading level0 col0\" >0</th>        <th class=\"col_heading level0 col1\" >1</th>        <th class=\"col_heading level0 col2\" >2</th>        <th class=\"col_heading level0 col3\" >3</th>        <th class=\"col_heading level0 col4\" >4</th>        <th class=\"col_heading level0 col5\" >5</th>        <th class=\"col_heading level0 col6\" >6</th>        <th class=\"col_heading level0 col7\" >7</th>        <th class=\"col_heading level0 col8\" >8</th>        <th class=\"col_heading level0 col9\" >9</th>        <th class=\"col_heading level0 col10\" >10</th>        <th class=\"col_heading level0 col11\" >11</th>        <th class=\"col_heading level0 col12\" >12</th>        <th class=\"col_heading level0 col13\" >13</th>        <th class=\"col_heading level0 col14\" >14</th>        <th class=\"col_heading level0 col15\" >15</th>        <th class=\"col_heading level0 col16\" >16</th>        <th class=\"col_heading level0 col17\" >17</th>    </tr></thead><tbody>\n",
              "                <tr>\n",
              "                        <th id=\"T_ea35cf82_8da9_11eb_a6cc_0242ac1c0002level0_row0\" class=\"row_heading level0 row0\" >0</th>\n",
              "                        <td id=\"T_ea35cf82_8da9_11eb_a6cc_0242ac1c0002row0_col0\" class=\"data row0 col0\" >0</td>\n",
              "                        <td id=\"T_ea35cf82_8da9_11eb_a6cc_0242ac1c0002row0_col1\" class=\"data row0 col1\" >0</td>\n",
              "                        <td id=\"T_ea35cf82_8da9_11eb_a6cc_0242ac1c0002row0_col2\" class=\"data row0 col2\" >0</td>\n",
              "                        <td id=\"T_ea35cf82_8da9_11eb_a6cc_0242ac1c0002row0_col3\" class=\"data row0 col3\" >0</td>\n",
              "                        <td id=\"T_ea35cf82_8da9_11eb_a6cc_0242ac1c0002row0_col4\" class=\"data row0 col4\" >0</td>\n",
              "                        <td id=\"T_ea35cf82_8da9_11eb_a6cc_0242ac1c0002row0_col5\" class=\"data row0 col5\" >0</td>\n",
              "                        <td id=\"T_ea35cf82_8da9_11eb_a6cc_0242ac1c0002row0_col6\" class=\"data row0 col6\" >0</td>\n",
              "                        <td id=\"T_ea35cf82_8da9_11eb_a6cc_0242ac1c0002row0_col7\" class=\"data row0 col7\" >0</td>\n",
              "                        <td id=\"T_ea35cf82_8da9_11eb_a6cc_0242ac1c0002row0_col8\" class=\"data row0 col8\" >0</td>\n",
              "                        <td id=\"T_ea35cf82_8da9_11eb_a6cc_0242ac1c0002row0_col9\" class=\"data row0 col9\" >0</td>\n",
              "                        <td id=\"T_ea35cf82_8da9_11eb_a6cc_0242ac1c0002row0_col10\" class=\"data row0 col10\" >0</td>\n",
              "                        <td id=\"T_ea35cf82_8da9_11eb_a6cc_0242ac1c0002row0_col11\" class=\"data row0 col11\" >0</td>\n",
              "                        <td id=\"T_ea35cf82_8da9_11eb_a6cc_0242ac1c0002row0_col12\" class=\"data row0 col12\" >0</td>\n",
              "                        <td id=\"T_ea35cf82_8da9_11eb_a6cc_0242ac1c0002row0_col13\" class=\"data row0 col13\" >0</td>\n",
              "                        <td id=\"T_ea35cf82_8da9_11eb_a6cc_0242ac1c0002row0_col14\" class=\"data row0 col14\" >0</td>\n",
              "                        <td id=\"T_ea35cf82_8da9_11eb_a6cc_0242ac1c0002row0_col15\" class=\"data row0 col15\" >0</td>\n",
              "                        <td id=\"T_ea35cf82_8da9_11eb_a6cc_0242ac1c0002row0_col16\" class=\"data row0 col16\" >0</td>\n",
              "                        <td id=\"T_ea35cf82_8da9_11eb_a6cc_0242ac1c0002row0_col17\" class=\"data row0 col17\" >0</td>\n",
              "            </tr>\n",
              "            <tr>\n",
              "                        <th id=\"T_ea35cf82_8da9_11eb_a6cc_0242ac1c0002level0_row1\" class=\"row_heading level0 row1\" >1</th>\n",
              "                        <td id=\"T_ea35cf82_8da9_11eb_a6cc_0242ac1c0002row1_col0\" class=\"data row1 col0\" >0</td>\n",
              "                        <td id=\"T_ea35cf82_8da9_11eb_a6cc_0242ac1c0002row1_col1\" class=\"data row1 col1\" >0</td>\n",
              "                        <td id=\"T_ea35cf82_8da9_11eb_a6cc_0242ac1c0002row1_col2\" class=\"data row1 col2\" >0</td>\n",
              "                        <td id=\"T_ea35cf82_8da9_11eb_a6cc_0242ac1c0002row1_col3\" class=\"data row1 col3\" >0</td>\n",
              "                        <td id=\"T_ea35cf82_8da9_11eb_a6cc_0242ac1c0002row1_col4\" class=\"data row1 col4\" >0</td>\n",
              "                        <td id=\"T_ea35cf82_8da9_11eb_a6cc_0242ac1c0002row1_col5\" class=\"data row1 col5\" >29</td>\n",
              "                        <td id=\"T_ea35cf82_8da9_11eb_a6cc_0242ac1c0002row1_col6\" class=\"data row1 col6\" >150</td>\n",
              "                        <td id=\"T_ea35cf82_8da9_11eb_a6cc_0242ac1c0002row1_col7\" class=\"data row1 col7\" >195</td>\n",
              "                        <td id=\"T_ea35cf82_8da9_11eb_a6cc_0242ac1c0002row1_col8\" class=\"data row1 col8\" >254</td>\n",
              "                        <td id=\"T_ea35cf82_8da9_11eb_a6cc_0242ac1c0002row1_col9\" class=\"data row1 col9\" >255</td>\n",
              "                        <td id=\"T_ea35cf82_8da9_11eb_a6cc_0242ac1c0002row1_col10\" class=\"data row1 col10\" >254</td>\n",
              "                        <td id=\"T_ea35cf82_8da9_11eb_a6cc_0242ac1c0002row1_col11\" class=\"data row1 col11\" >176</td>\n",
              "                        <td id=\"T_ea35cf82_8da9_11eb_a6cc_0242ac1c0002row1_col12\" class=\"data row1 col12\" >193</td>\n",
              "                        <td id=\"T_ea35cf82_8da9_11eb_a6cc_0242ac1c0002row1_col13\" class=\"data row1 col13\" >150</td>\n",
              "                        <td id=\"T_ea35cf82_8da9_11eb_a6cc_0242ac1c0002row1_col14\" class=\"data row1 col14\" >96</td>\n",
              "                        <td id=\"T_ea35cf82_8da9_11eb_a6cc_0242ac1c0002row1_col15\" class=\"data row1 col15\" >0</td>\n",
              "                        <td id=\"T_ea35cf82_8da9_11eb_a6cc_0242ac1c0002row1_col16\" class=\"data row1 col16\" >0</td>\n",
              "                        <td id=\"T_ea35cf82_8da9_11eb_a6cc_0242ac1c0002row1_col17\" class=\"data row1 col17\" >0</td>\n",
              "            </tr>\n",
              "            <tr>\n",
              "                        <th id=\"T_ea35cf82_8da9_11eb_a6cc_0242ac1c0002level0_row2\" class=\"row_heading level0 row2\" >2</th>\n",
              "                        <td id=\"T_ea35cf82_8da9_11eb_a6cc_0242ac1c0002row2_col0\" class=\"data row2 col0\" >0</td>\n",
              "                        <td id=\"T_ea35cf82_8da9_11eb_a6cc_0242ac1c0002row2_col1\" class=\"data row2 col1\" >0</td>\n",
              "                        <td id=\"T_ea35cf82_8da9_11eb_a6cc_0242ac1c0002row2_col2\" class=\"data row2 col2\" >0</td>\n",
              "                        <td id=\"T_ea35cf82_8da9_11eb_a6cc_0242ac1c0002row2_col3\" class=\"data row2 col3\" >48</td>\n",
              "                        <td id=\"T_ea35cf82_8da9_11eb_a6cc_0242ac1c0002row2_col4\" class=\"data row2 col4\" >166</td>\n",
              "                        <td id=\"T_ea35cf82_8da9_11eb_a6cc_0242ac1c0002row2_col5\" class=\"data row2 col5\" >224</td>\n",
              "                        <td id=\"T_ea35cf82_8da9_11eb_a6cc_0242ac1c0002row2_col6\" class=\"data row2 col6\" >253</td>\n",
              "                        <td id=\"T_ea35cf82_8da9_11eb_a6cc_0242ac1c0002row2_col7\" class=\"data row2 col7\" >253</td>\n",
              "                        <td id=\"T_ea35cf82_8da9_11eb_a6cc_0242ac1c0002row2_col8\" class=\"data row2 col8\" >234</td>\n",
              "                        <td id=\"T_ea35cf82_8da9_11eb_a6cc_0242ac1c0002row2_col9\" class=\"data row2 col9\" >196</td>\n",
              "                        <td id=\"T_ea35cf82_8da9_11eb_a6cc_0242ac1c0002row2_col10\" class=\"data row2 col10\" >253</td>\n",
              "                        <td id=\"T_ea35cf82_8da9_11eb_a6cc_0242ac1c0002row2_col11\" class=\"data row2 col11\" >253</td>\n",
              "                        <td id=\"T_ea35cf82_8da9_11eb_a6cc_0242ac1c0002row2_col12\" class=\"data row2 col12\" >253</td>\n",
              "                        <td id=\"T_ea35cf82_8da9_11eb_a6cc_0242ac1c0002row2_col13\" class=\"data row2 col13\" >253</td>\n",
              "                        <td id=\"T_ea35cf82_8da9_11eb_a6cc_0242ac1c0002row2_col14\" class=\"data row2 col14\" >233</td>\n",
              "                        <td id=\"T_ea35cf82_8da9_11eb_a6cc_0242ac1c0002row2_col15\" class=\"data row2 col15\" >0</td>\n",
              "                        <td id=\"T_ea35cf82_8da9_11eb_a6cc_0242ac1c0002row2_col16\" class=\"data row2 col16\" >0</td>\n",
              "                        <td id=\"T_ea35cf82_8da9_11eb_a6cc_0242ac1c0002row2_col17\" class=\"data row2 col17\" >0</td>\n",
              "            </tr>\n",
              "            <tr>\n",
              "                        <th id=\"T_ea35cf82_8da9_11eb_a6cc_0242ac1c0002level0_row3\" class=\"row_heading level0 row3\" >3</th>\n",
              "                        <td id=\"T_ea35cf82_8da9_11eb_a6cc_0242ac1c0002row3_col0\" class=\"data row3 col0\" >0</td>\n",
              "                        <td id=\"T_ea35cf82_8da9_11eb_a6cc_0242ac1c0002row3_col1\" class=\"data row3 col1\" >93</td>\n",
              "                        <td id=\"T_ea35cf82_8da9_11eb_a6cc_0242ac1c0002row3_col2\" class=\"data row3 col2\" >244</td>\n",
              "                        <td id=\"T_ea35cf82_8da9_11eb_a6cc_0242ac1c0002row3_col3\" class=\"data row3 col3\" >249</td>\n",
              "                        <td id=\"T_ea35cf82_8da9_11eb_a6cc_0242ac1c0002row3_col4\" class=\"data row3 col4\" >253</td>\n",
              "                        <td id=\"T_ea35cf82_8da9_11eb_a6cc_0242ac1c0002row3_col5\" class=\"data row3 col5\" >187</td>\n",
              "                        <td id=\"T_ea35cf82_8da9_11eb_a6cc_0242ac1c0002row3_col6\" class=\"data row3 col6\" >46</td>\n",
              "                        <td id=\"T_ea35cf82_8da9_11eb_a6cc_0242ac1c0002row3_col7\" class=\"data row3 col7\" >10</td>\n",
              "                        <td id=\"T_ea35cf82_8da9_11eb_a6cc_0242ac1c0002row3_col8\" class=\"data row3 col8\" >8</td>\n",
              "                        <td id=\"T_ea35cf82_8da9_11eb_a6cc_0242ac1c0002row3_col9\" class=\"data row3 col9\" >4</td>\n",
              "                        <td id=\"T_ea35cf82_8da9_11eb_a6cc_0242ac1c0002row3_col10\" class=\"data row3 col10\" >10</td>\n",
              "                        <td id=\"T_ea35cf82_8da9_11eb_a6cc_0242ac1c0002row3_col11\" class=\"data row3 col11\" >194</td>\n",
              "                        <td id=\"T_ea35cf82_8da9_11eb_a6cc_0242ac1c0002row3_col12\" class=\"data row3 col12\" >253</td>\n",
              "                        <td id=\"T_ea35cf82_8da9_11eb_a6cc_0242ac1c0002row3_col13\" class=\"data row3 col13\" >253</td>\n",
              "                        <td id=\"T_ea35cf82_8da9_11eb_a6cc_0242ac1c0002row3_col14\" class=\"data row3 col14\" >233</td>\n",
              "                        <td id=\"T_ea35cf82_8da9_11eb_a6cc_0242ac1c0002row3_col15\" class=\"data row3 col15\" >0</td>\n",
              "                        <td id=\"T_ea35cf82_8da9_11eb_a6cc_0242ac1c0002row3_col16\" class=\"data row3 col16\" >0</td>\n",
              "                        <td id=\"T_ea35cf82_8da9_11eb_a6cc_0242ac1c0002row3_col17\" class=\"data row3 col17\" >0</td>\n",
              "            </tr>\n",
              "            <tr>\n",
              "                        <th id=\"T_ea35cf82_8da9_11eb_a6cc_0242ac1c0002level0_row4\" class=\"row_heading level0 row4\" >4</th>\n",
              "                        <td id=\"T_ea35cf82_8da9_11eb_a6cc_0242ac1c0002row4_col0\" class=\"data row4 col0\" >0</td>\n",
              "                        <td id=\"T_ea35cf82_8da9_11eb_a6cc_0242ac1c0002row4_col1\" class=\"data row4 col1\" >107</td>\n",
              "                        <td id=\"T_ea35cf82_8da9_11eb_a6cc_0242ac1c0002row4_col2\" class=\"data row4 col2\" >253</td>\n",
              "                        <td id=\"T_ea35cf82_8da9_11eb_a6cc_0242ac1c0002row4_col3\" class=\"data row4 col3\" >253</td>\n",
              "                        <td id=\"T_ea35cf82_8da9_11eb_a6cc_0242ac1c0002row4_col4\" class=\"data row4 col4\" >230</td>\n",
              "                        <td id=\"T_ea35cf82_8da9_11eb_a6cc_0242ac1c0002row4_col5\" class=\"data row4 col5\" >48</td>\n",
              "                        <td id=\"T_ea35cf82_8da9_11eb_a6cc_0242ac1c0002row4_col6\" class=\"data row4 col6\" >0</td>\n",
              "                        <td id=\"T_ea35cf82_8da9_11eb_a6cc_0242ac1c0002row4_col7\" class=\"data row4 col7\" >0</td>\n",
              "                        <td id=\"T_ea35cf82_8da9_11eb_a6cc_0242ac1c0002row4_col8\" class=\"data row4 col8\" >0</td>\n",
              "                        <td id=\"T_ea35cf82_8da9_11eb_a6cc_0242ac1c0002row4_col9\" class=\"data row4 col9\" >0</td>\n",
              "                        <td id=\"T_ea35cf82_8da9_11eb_a6cc_0242ac1c0002row4_col10\" class=\"data row4 col10\" >0</td>\n",
              "                        <td id=\"T_ea35cf82_8da9_11eb_a6cc_0242ac1c0002row4_col11\" class=\"data row4 col11\" >192</td>\n",
              "                        <td id=\"T_ea35cf82_8da9_11eb_a6cc_0242ac1c0002row4_col12\" class=\"data row4 col12\" >253</td>\n",
              "                        <td id=\"T_ea35cf82_8da9_11eb_a6cc_0242ac1c0002row4_col13\" class=\"data row4 col13\" >253</td>\n",
              "                        <td id=\"T_ea35cf82_8da9_11eb_a6cc_0242ac1c0002row4_col14\" class=\"data row4 col14\" >156</td>\n",
              "                        <td id=\"T_ea35cf82_8da9_11eb_a6cc_0242ac1c0002row4_col15\" class=\"data row4 col15\" >0</td>\n",
              "                        <td id=\"T_ea35cf82_8da9_11eb_a6cc_0242ac1c0002row4_col16\" class=\"data row4 col16\" >0</td>\n",
              "                        <td id=\"T_ea35cf82_8da9_11eb_a6cc_0242ac1c0002row4_col17\" class=\"data row4 col17\" >0</td>\n",
              "            </tr>\n",
              "            <tr>\n",
              "                        <th id=\"T_ea35cf82_8da9_11eb_a6cc_0242ac1c0002level0_row5\" class=\"row_heading level0 row5\" >5</th>\n",
              "                        <td id=\"T_ea35cf82_8da9_11eb_a6cc_0242ac1c0002row5_col0\" class=\"data row5 col0\" >0</td>\n",
              "                        <td id=\"T_ea35cf82_8da9_11eb_a6cc_0242ac1c0002row5_col1\" class=\"data row5 col1\" >3</td>\n",
              "                        <td id=\"T_ea35cf82_8da9_11eb_a6cc_0242ac1c0002row5_col2\" class=\"data row5 col2\" >20</td>\n",
              "                        <td id=\"T_ea35cf82_8da9_11eb_a6cc_0242ac1c0002row5_col3\" class=\"data row5 col3\" >20</td>\n",
              "                        <td id=\"T_ea35cf82_8da9_11eb_a6cc_0242ac1c0002row5_col4\" class=\"data row5 col4\" >15</td>\n",
              "                        <td id=\"T_ea35cf82_8da9_11eb_a6cc_0242ac1c0002row5_col5\" class=\"data row5 col5\" >0</td>\n",
              "                        <td id=\"T_ea35cf82_8da9_11eb_a6cc_0242ac1c0002row5_col6\" class=\"data row5 col6\" >0</td>\n",
              "                        <td id=\"T_ea35cf82_8da9_11eb_a6cc_0242ac1c0002row5_col7\" class=\"data row5 col7\" >0</td>\n",
              "                        <td id=\"T_ea35cf82_8da9_11eb_a6cc_0242ac1c0002row5_col8\" class=\"data row5 col8\" >0</td>\n",
              "                        <td id=\"T_ea35cf82_8da9_11eb_a6cc_0242ac1c0002row5_col9\" class=\"data row5 col9\" >0</td>\n",
              "                        <td id=\"T_ea35cf82_8da9_11eb_a6cc_0242ac1c0002row5_col10\" class=\"data row5 col10\" >43</td>\n",
              "                        <td id=\"T_ea35cf82_8da9_11eb_a6cc_0242ac1c0002row5_col11\" class=\"data row5 col11\" >224</td>\n",
              "                        <td id=\"T_ea35cf82_8da9_11eb_a6cc_0242ac1c0002row5_col12\" class=\"data row5 col12\" >253</td>\n",
              "                        <td id=\"T_ea35cf82_8da9_11eb_a6cc_0242ac1c0002row5_col13\" class=\"data row5 col13\" >245</td>\n",
              "                        <td id=\"T_ea35cf82_8da9_11eb_a6cc_0242ac1c0002row5_col14\" class=\"data row5 col14\" >74</td>\n",
              "                        <td id=\"T_ea35cf82_8da9_11eb_a6cc_0242ac1c0002row5_col15\" class=\"data row5 col15\" >0</td>\n",
              "                        <td id=\"T_ea35cf82_8da9_11eb_a6cc_0242ac1c0002row5_col16\" class=\"data row5 col16\" >0</td>\n",
              "                        <td id=\"T_ea35cf82_8da9_11eb_a6cc_0242ac1c0002row5_col17\" class=\"data row5 col17\" >0</td>\n",
              "            </tr>\n",
              "            <tr>\n",
              "                        <th id=\"T_ea35cf82_8da9_11eb_a6cc_0242ac1c0002level0_row6\" class=\"row_heading level0 row6\" >6</th>\n",
              "                        <td id=\"T_ea35cf82_8da9_11eb_a6cc_0242ac1c0002row6_col0\" class=\"data row6 col0\" >0</td>\n",
              "                        <td id=\"T_ea35cf82_8da9_11eb_a6cc_0242ac1c0002row6_col1\" class=\"data row6 col1\" >0</td>\n",
              "                        <td id=\"T_ea35cf82_8da9_11eb_a6cc_0242ac1c0002row6_col2\" class=\"data row6 col2\" >0</td>\n",
              "                        <td id=\"T_ea35cf82_8da9_11eb_a6cc_0242ac1c0002row6_col3\" class=\"data row6 col3\" >0</td>\n",
              "                        <td id=\"T_ea35cf82_8da9_11eb_a6cc_0242ac1c0002row6_col4\" class=\"data row6 col4\" >0</td>\n",
              "                        <td id=\"T_ea35cf82_8da9_11eb_a6cc_0242ac1c0002row6_col5\" class=\"data row6 col5\" >0</td>\n",
              "                        <td id=\"T_ea35cf82_8da9_11eb_a6cc_0242ac1c0002row6_col6\" class=\"data row6 col6\" >0</td>\n",
              "                        <td id=\"T_ea35cf82_8da9_11eb_a6cc_0242ac1c0002row6_col7\" class=\"data row6 col7\" >0</td>\n",
              "                        <td id=\"T_ea35cf82_8da9_11eb_a6cc_0242ac1c0002row6_col8\" class=\"data row6 col8\" >0</td>\n",
              "                        <td id=\"T_ea35cf82_8da9_11eb_a6cc_0242ac1c0002row6_col9\" class=\"data row6 col9\" >0</td>\n",
              "                        <td id=\"T_ea35cf82_8da9_11eb_a6cc_0242ac1c0002row6_col10\" class=\"data row6 col10\" >249</td>\n",
              "                        <td id=\"T_ea35cf82_8da9_11eb_a6cc_0242ac1c0002row6_col11\" class=\"data row6 col11\" >253</td>\n",
              "                        <td id=\"T_ea35cf82_8da9_11eb_a6cc_0242ac1c0002row6_col12\" class=\"data row6 col12\" >245</td>\n",
              "                        <td id=\"T_ea35cf82_8da9_11eb_a6cc_0242ac1c0002row6_col13\" class=\"data row6 col13\" >126</td>\n",
              "                        <td id=\"T_ea35cf82_8da9_11eb_a6cc_0242ac1c0002row6_col14\" class=\"data row6 col14\" >0</td>\n",
              "                        <td id=\"T_ea35cf82_8da9_11eb_a6cc_0242ac1c0002row6_col15\" class=\"data row6 col15\" >0</td>\n",
              "                        <td id=\"T_ea35cf82_8da9_11eb_a6cc_0242ac1c0002row6_col16\" class=\"data row6 col16\" >0</td>\n",
              "                        <td id=\"T_ea35cf82_8da9_11eb_a6cc_0242ac1c0002row6_col17\" class=\"data row6 col17\" >0</td>\n",
              "            </tr>\n",
              "            <tr>\n",
              "                        <th id=\"T_ea35cf82_8da9_11eb_a6cc_0242ac1c0002level0_row7\" class=\"row_heading level0 row7\" >7</th>\n",
              "                        <td id=\"T_ea35cf82_8da9_11eb_a6cc_0242ac1c0002row7_col0\" class=\"data row7 col0\" >0</td>\n",
              "                        <td id=\"T_ea35cf82_8da9_11eb_a6cc_0242ac1c0002row7_col1\" class=\"data row7 col1\" >0</td>\n",
              "                        <td id=\"T_ea35cf82_8da9_11eb_a6cc_0242ac1c0002row7_col2\" class=\"data row7 col2\" >0</td>\n",
              "                        <td id=\"T_ea35cf82_8da9_11eb_a6cc_0242ac1c0002row7_col3\" class=\"data row7 col3\" >0</td>\n",
              "                        <td id=\"T_ea35cf82_8da9_11eb_a6cc_0242ac1c0002row7_col4\" class=\"data row7 col4\" >0</td>\n",
              "                        <td id=\"T_ea35cf82_8da9_11eb_a6cc_0242ac1c0002row7_col5\" class=\"data row7 col5\" >0</td>\n",
              "                        <td id=\"T_ea35cf82_8da9_11eb_a6cc_0242ac1c0002row7_col6\" class=\"data row7 col6\" >0</td>\n",
              "                        <td id=\"T_ea35cf82_8da9_11eb_a6cc_0242ac1c0002row7_col7\" class=\"data row7 col7\" >14</td>\n",
              "                        <td id=\"T_ea35cf82_8da9_11eb_a6cc_0242ac1c0002row7_col8\" class=\"data row7 col8\" >101</td>\n",
              "                        <td id=\"T_ea35cf82_8da9_11eb_a6cc_0242ac1c0002row7_col9\" class=\"data row7 col9\" >223</td>\n",
              "                        <td id=\"T_ea35cf82_8da9_11eb_a6cc_0242ac1c0002row7_col10\" class=\"data row7 col10\" >253</td>\n",
              "                        <td id=\"T_ea35cf82_8da9_11eb_a6cc_0242ac1c0002row7_col11\" class=\"data row7 col11\" >248</td>\n",
              "                        <td id=\"T_ea35cf82_8da9_11eb_a6cc_0242ac1c0002row7_col12\" class=\"data row7 col12\" >124</td>\n",
              "                        <td id=\"T_ea35cf82_8da9_11eb_a6cc_0242ac1c0002row7_col13\" class=\"data row7 col13\" >0</td>\n",
              "                        <td id=\"T_ea35cf82_8da9_11eb_a6cc_0242ac1c0002row7_col14\" class=\"data row7 col14\" >0</td>\n",
              "                        <td id=\"T_ea35cf82_8da9_11eb_a6cc_0242ac1c0002row7_col15\" class=\"data row7 col15\" >0</td>\n",
              "                        <td id=\"T_ea35cf82_8da9_11eb_a6cc_0242ac1c0002row7_col16\" class=\"data row7 col16\" >0</td>\n",
              "                        <td id=\"T_ea35cf82_8da9_11eb_a6cc_0242ac1c0002row7_col17\" class=\"data row7 col17\" >0</td>\n",
              "            </tr>\n",
              "            <tr>\n",
              "                        <th id=\"T_ea35cf82_8da9_11eb_a6cc_0242ac1c0002level0_row8\" class=\"row_heading level0 row8\" >8</th>\n",
              "                        <td id=\"T_ea35cf82_8da9_11eb_a6cc_0242ac1c0002row8_col0\" class=\"data row8 col0\" >0</td>\n",
              "                        <td id=\"T_ea35cf82_8da9_11eb_a6cc_0242ac1c0002row8_col1\" class=\"data row8 col1\" >0</td>\n",
              "                        <td id=\"T_ea35cf82_8da9_11eb_a6cc_0242ac1c0002row8_col2\" class=\"data row8 col2\" >0</td>\n",
              "                        <td id=\"T_ea35cf82_8da9_11eb_a6cc_0242ac1c0002row8_col3\" class=\"data row8 col3\" >0</td>\n",
              "                        <td id=\"T_ea35cf82_8da9_11eb_a6cc_0242ac1c0002row8_col4\" class=\"data row8 col4\" >0</td>\n",
              "                        <td id=\"T_ea35cf82_8da9_11eb_a6cc_0242ac1c0002row8_col5\" class=\"data row8 col5\" >11</td>\n",
              "                        <td id=\"T_ea35cf82_8da9_11eb_a6cc_0242ac1c0002row8_col6\" class=\"data row8 col6\" >166</td>\n",
              "                        <td id=\"T_ea35cf82_8da9_11eb_a6cc_0242ac1c0002row8_col7\" class=\"data row8 col7\" >239</td>\n",
              "                        <td id=\"T_ea35cf82_8da9_11eb_a6cc_0242ac1c0002row8_col8\" class=\"data row8 col8\" >253</td>\n",
              "                        <td id=\"T_ea35cf82_8da9_11eb_a6cc_0242ac1c0002row8_col9\" class=\"data row8 col9\" >253</td>\n",
              "                        <td id=\"T_ea35cf82_8da9_11eb_a6cc_0242ac1c0002row8_col10\" class=\"data row8 col10\" >253</td>\n",
              "                        <td id=\"T_ea35cf82_8da9_11eb_a6cc_0242ac1c0002row8_col11\" class=\"data row8 col11\" >187</td>\n",
              "                        <td id=\"T_ea35cf82_8da9_11eb_a6cc_0242ac1c0002row8_col12\" class=\"data row8 col12\" >30</td>\n",
              "                        <td id=\"T_ea35cf82_8da9_11eb_a6cc_0242ac1c0002row8_col13\" class=\"data row8 col13\" >0</td>\n",
              "                        <td id=\"T_ea35cf82_8da9_11eb_a6cc_0242ac1c0002row8_col14\" class=\"data row8 col14\" >0</td>\n",
              "                        <td id=\"T_ea35cf82_8da9_11eb_a6cc_0242ac1c0002row8_col15\" class=\"data row8 col15\" >0</td>\n",
              "                        <td id=\"T_ea35cf82_8da9_11eb_a6cc_0242ac1c0002row8_col16\" class=\"data row8 col16\" >0</td>\n",
              "                        <td id=\"T_ea35cf82_8da9_11eb_a6cc_0242ac1c0002row8_col17\" class=\"data row8 col17\" >0</td>\n",
              "            </tr>\n",
              "            <tr>\n",
              "                        <th id=\"T_ea35cf82_8da9_11eb_a6cc_0242ac1c0002level0_row9\" class=\"row_heading level0 row9\" >9</th>\n",
              "                        <td id=\"T_ea35cf82_8da9_11eb_a6cc_0242ac1c0002row9_col0\" class=\"data row9 col0\" >0</td>\n",
              "                        <td id=\"T_ea35cf82_8da9_11eb_a6cc_0242ac1c0002row9_col1\" class=\"data row9 col1\" >0</td>\n",
              "                        <td id=\"T_ea35cf82_8da9_11eb_a6cc_0242ac1c0002row9_col2\" class=\"data row9 col2\" >0</td>\n",
              "                        <td id=\"T_ea35cf82_8da9_11eb_a6cc_0242ac1c0002row9_col3\" class=\"data row9 col3\" >0</td>\n",
              "                        <td id=\"T_ea35cf82_8da9_11eb_a6cc_0242ac1c0002row9_col4\" class=\"data row9 col4\" >0</td>\n",
              "                        <td id=\"T_ea35cf82_8da9_11eb_a6cc_0242ac1c0002row9_col5\" class=\"data row9 col5\" >16</td>\n",
              "                        <td id=\"T_ea35cf82_8da9_11eb_a6cc_0242ac1c0002row9_col6\" class=\"data row9 col6\" >248</td>\n",
              "                        <td id=\"T_ea35cf82_8da9_11eb_a6cc_0242ac1c0002row9_col7\" class=\"data row9 col7\" >250</td>\n",
              "                        <td id=\"T_ea35cf82_8da9_11eb_a6cc_0242ac1c0002row9_col8\" class=\"data row9 col8\" >253</td>\n",
              "                        <td id=\"T_ea35cf82_8da9_11eb_a6cc_0242ac1c0002row9_col9\" class=\"data row9 col9\" >253</td>\n",
              "                        <td id=\"T_ea35cf82_8da9_11eb_a6cc_0242ac1c0002row9_col10\" class=\"data row9 col10\" >253</td>\n",
              "                        <td id=\"T_ea35cf82_8da9_11eb_a6cc_0242ac1c0002row9_col11\" class=\"data row9 col11\" >253</td>\n",
              "                        <td id=\"T_ea35cf82_8da9_11eb_a6cc_0242ac1c0002row9_col12\" class=\"data row9 col12\" >232</td>\n",
              "                        <td id=\"T_ea35cf82_8da9_11eb_a6cc_0242ac1c0002row9_col13\" class=\"data row9 col13\" >213</td>\n",
              "                        <td id=\"T_ea35cf82_8da9_11eb_a6cc_0242ac1c0002row9_col14\" class=\"data row9 col14\" >111</td>\n",
              "                        <td id=\"T_ea35cf82_8da9_11eb_a6cc_0242ac1c0002row9_col15\" class=\"data row9 col15\" >2</td>\n",
              "                        <td id=\"T_ea35cf82_8da9_11eb_a6cc_0242ac1c0002row9_col16\" class=\"data row9 col16\" >0</td>\n",
              "                        <td id=\"T_ea35cf82_8da9_11eb_a6cc_0242ac1c0002row9_col17\" class=\"data row9 col17\" >0</td>\n",
              "            </tr>\n",
              "            <tr>\n",
              "                        <th id=\"T_ea35cf82_8da9_11eb_a6cc_0242ac1c0002level0_row10\" class=\"row_heading level0 row10\" >10</th>\n",
              "                        <td id=\"T_ea35cf82_8da9_11eb_a6cc_0242ac1c0002row10_col0\" class=\"data row10 col0\" >0</td>\n",
              "                        <td id=\"T_ea35cf82_8da9_11eb_a6cc_0242ac1c0002row10_col1\" class=\"data row10 col1\" >0</td>\n",
              "                        <td id=\"T_ea35cf82_8da9_11eb_a6cc_0242ac1c0002row10_col2\" class=\"data row10 col2\" >0</td>\n",
              "                        <td id=\"T_ea35cf82_8da9_11eb_a6cc_0242ac1c0002row10_col3\" class=\"data row10 col3\" >0</td>\n",
              "                        <td id=\"T_ea35cf82_8da9_11eb_a6cc_0242ac1c0002row10_col4\" class=\"data row10 col4\" >0</td>\n",
              "                        <td id=\"T_ea35cf82_8da9_11eb_a6cc_0242ac1c0002row10_col5\" class=\"data row10 col5\" >0</td>\n",
              "                        <td id=\"T_ea35cf82_8da9_11eb_a6cc_0242ac1c0002row10_col6\" class=\"data row10 col6\" >0</td>\n",
              "                        <td id=\"T_ea35cf82_8da9_11eb_a6cc_0242ac1c0002row10_col7\" class=\"data row10 col7\" >43</td>\n",
              "                        <td id=\"T_ea35cf82_8da9_11eb_a6cc_0242ac1c0002row10_col8\" class=\"data row10 col8\" >98</td>\n",
              "                        <td id=\"T_ea35cf82_8da9_11eb_a6cc_0242ac1c0002row10_col9\" class=\"data row10 col9\" >98</td>\n",
              "                        <td id=\"T_ea35cf82_8da9_11eb_a6cc_0242ac1c0002row10_col10\" class=\"data row10 col10\" >208</td>\n",
              "                        <td id=\"T_ea35cf82_8da9_11eb_a6cc_0242ac1c0002row10_col11\" class=\"data row10 col11\" >253</td>\n",
              "                        <td id=\"T_ea35cf82_8da9_11eb_a6cc_0242ac1c0002row10_col12\" class=\"data row10 col12\" >253</td>\n",
              "                        <td id=\"T_ea35cf82_8da9_11eb_a6cc_0242ac1c0002row10_col13\" class=\"data row10 col13\" >253</td>\n",
              "                        <td id=\"T_ea35cf82_8da9_11eb_a6cc_0242ac1c0002row10_col14\" class=\"data row10 col14\" >253</td>\n",
              "                        <td id=\"T_ea35cf82_8da9_11eb_a6cc_0242ac1c0002row10_col15\" class=\"data row10 col15\" >187</td>\n",
              "                        <td id=\"T_ea35cf82_8da9_11eb_a6cc_0242ac1c0002row10_col16\" class=\"data row10 col16\" >22</td>\n",
              "                        <td id=\"T_ea35cf82_8da9_11eb_a6cc_0242ac1c0002row10_col17\" class=\"data row10 col17\" >0</td>\n",
              "            </tr>\n",
              "    </tbody></table>"
            ],
            "text/plain": [
              "<pandas.io.formats.style.Styler at 0x7f8ece5cff50>"
            ]
          },
          "metadata": {
            "tags": []
          },
          "execution_count": 12
        }
      ]
    },
    {
      "cell_type": "code",
      "metadata": {
        "colab": {
          "base_uri": "https://localhost:8080/"
        },
        "id": "z7SJQzmzEdW8",
        "outputId": "d6b72246-eb5d-438a-d113-f01dc73b0962"
      },
      "source": [
        "#See nº of images\n",
        "seven_tensors = [tensor(Image.open(o)) for o in sevens]\n",
        "three_tensors = [tensor(Image.open(o)) for o in threes]\n",
        "len(three_tensors),len(seven_tensors)"
      ],
      "execution_count": 13,
      "outputs": [
        {
          "output_type": "execute_result",
          "data": {
            "text/plain": [
              "(6131, 6265)"
            ]
          },
          "metadata": {
            "tags": []
          },
          "execution_count": 13
        }
      ]
    },
    {
      "cell_type": "code",
      "metadata": {
        "colab": {
          "base_uri": "https://localhost:8080/",
          "height": 85
        },
        "id": "MSBA84sqFEp4",
        "outputId": "b9ffa4c6-040c-489a-b0b1-329f97d6944d"
      },
      "source": [
        "show_image(three_tensors[1]);"
      ],
      "execution_count": 14,
      "outputs": [
        {
          "output_type": "display_data",
          "data": {
            "image/png": "[encoded data removed]",
            "text/plain": [
              "<Figure size 72x72 with 1 Axes>"
            ]
          },
          "metadata": {
            "tags": [],
            "needs_background": "light"
          }
        }
      ]
    },
    {
      "cell_type": "code",
      "metadata": {
        "colab": {
          "base_uri": "https://localhost:8080/"
        },
        "id": "eKtkvGFIFqCO",
        "outputId": "6f29bc03-51de-4cf5-ad53-4771ced77be6"
      },
      "source": [
        "stacked_sevens = torch.stack(seven_tensors).float()/255\n",
        "stacked_threes = torch.stack(three_tensors).float()/255\n",
        "stacked_threes.shape"
      ],
      "execution_count": 15,
      "outputs": [
        {
          "output_type": "execute_result",
          "data": {
            "text/plain": [
              "torch.Size([6131, 28, 28])"
            ]
          },
          "metadata": {
            "tags": []
          },
          "execution_count": 15
        }
      ]
    },
    {
      "cell_type": "code",
      "metadata": {
        "colab": {
          "base_uri": "https://localhost:8080/",
          "height": 85
        },
        "id": "DbaPZipDLEzp",
        "outputId": "c77f70a7-0a4b-4f8a-e83f-d74c709bdb59"
      },
      "source": [
        "mean3 = stacked_threes.mean(0)\n",
        "show_image(mean3);"
      ],
      "execution_count": 16,
      "outputs": [
        {
          "output_type": "display_data",
          "data": {
            "image/png": "[encoded data removed]",
            "text/plain": [
              "<Figure size 72x72 with 1 Axes>"
            ]
          },
          "metadata": {
            "tags": [],
            "needs_background": "light"
          }
        }
      ]
    },
    {
      "cell_type": "code",
      "metadata": {
        "colab": {
          "base_uri": "https://localhost:8080/",
          "height": 85
        },
        "id": "NxavORsQLPyE",
        "outputId": "0650b2a6-075a-4322-ebc2-e8aff04e3c4d"
      },
      "source": [
        "mean7 = stacked_sevens.mean(0)\n",
        "show_image(mean7);"
      ],
      "execution_count": 17,
      "outputs": [
        {
          "output_type": "display_data",
          "data": {
            "image/png": "[encoded data removed]",
            "text/plain": [
              "<Figure size 72x72 with 1 Axes>"
            ]
          },
          "metadata": {
            "tags": [],
            "needs_background": "light"
          }
        }
      ]
    },
    {
      "cell_type": "code",
      "metadata": {
        "colab": {
          "base_uri": "https://localhost:8080/"
        },
        "id": "y_yTTWmALhYR",
        "outputId": "d0b0edae-0a8e-43ff-e8a5-744afd0ba0d7"
      },
      "source": [
        "is_three_prob = (stacked_threes[40] - mean3).abs().mean()\n",
        "is_seven_prob = (stacked_threes[40] - mean7).abs().mean()\n",
        "if is_three_prob < is_seven_prob:\n",
        "  print(\"Is three\")\n",
        "else:\n",
        "  print(\"Is seven\")"
      ],
      "execution_count": 49,
      "outputs": [
        {
          "output_type": "stream",
          "text": [
            "Is three\n"
          ],
          "name": "stdout"
        }
      ]
    },
    {
      "cell_type": "code",
      "metadata": {
        "id": "Ixj7h6O1I2fV",
        "outputId": "b88862a7-374c-41bc-a1fa-0175196ba004",
        "colab": {
          "base_uri": "https://localhost:8080/"
        }
      },
      "source": [
        "is_three_prob = (stacked_sevens[3] - mean3).abs().mean()\n",
        "is_seven_prob = (stacked_sevens[3] - mean7).abs().mean()\n",
        "if is_three_prob < is_seven_prob:\n",
        "  print(\"Is three\")\n",
        "else:\n",
        "  print(\"Is seven\")"
      ],
      "execution_count": 48,
      "outputs": [
        {
          "output_type": "stream",
          "text": [
            "Is seven\n"
          ],
          "name": "stdout"
        }
      ]
    }
  ]
}