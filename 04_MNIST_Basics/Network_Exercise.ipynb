{
  "nbformat": 4,
  "nbformat_minor": 0,
  "metadata": {
    "colab": {
      "name": "Network.ipynb",
      "provenance": [],
      "collapsed_sections": [],
      "authorship_tag": "ABX9TyNR1PfFylKqv1hSJ+T1A84w",
      "include_colab_link": true
    },
    "kernelspec": {
      "name": "python3",
      "display_name": "Python 3"
    },
    "language_info": {
      "name": "python"
    },
    "accelerator": "GPU"
  },
  "cells": [
    {
      "cell_type": "markdown",
      "metadata": {
        "id": "view-in-github",
        "colab_type": "text"
      },
      "source": [
        "<a href=\"https://colab.research.google.com/github/i-SanMartin/FastAI/blob/main/04_MNIST_Basics/Network_Exercise.ipynb\" target=\"_parent\"><img src=\"https://colab.research.google.com/assets/colab-badge.svg\" alt=\"Open In Colab\"/></a>"
      ]
    },
    {
      "cell_type": "code",
      "metadata": {
        "colab": {
          "base_uri": "https://localhost:8080/"
        },
        "id": "ikhhHfdT0d_h",
        "outputId": "b6ac8f7f-6991-4cfc-cc69-912fb13b0ece"
      },
      "source": [
        "!pip install -Uqq fastbook fastai==2.2.5\n",
        "import fastbook"
      ],
      "execution_count": 1,
      "outputs": [
        {
          "output_type": "stream",
          "text": [
            "\u001b[?25l\r\u001b[K     |▌                               | 10kB 25.6MB/s eta 0:00:01\r\u001b[K     |█                               | 20kB 32.5MB/s eta 0:00:01\r\u001b[K     |█▍                              | 30kB 23.3MB/s eta 0:00:01\r\u001b[K     |█▉                              | 40kB 26.6MB/s eta 0:00:01\r\u001b[K     |██▎                             | 51kB 24.2MB/s eta 0:00:01\r\u001b[K     |██▊                             | 61kB 26.7MB/s eta 0:00:01\r\u001b[K     |███▏                            | 71kB 18.5MB/s eta 0:00:01\r\u001b[K     |███▋                            | 81kB 19.8MB/s eta 0:00:01\r\u001b[K     |████                            | 92kB 18.9MB/s eta 0:00:01\r\u001b[K     |████▌                           | 102kB 18.7MB/s eta 0:00:01\r\u001b[K     |█████                           | 112kB 18.7MB/s eta 0:00:01\r\u001b[K     |█████▌                          | 122kB 18.7MB/s eta 0:00:01\r\u001b[K     |██████                          | 133kB 18.7MB/s eta 0:00:01\r\u001b[K     |██████▍                         | 143kB 18.7MB/s eta 0:00:01\r\u001b[K     |██████▉                         | 153kB 18.7MB/s eta 0:00:01\r\u001b[K     |███████▎                        | 163kB 18.7MB/s eta 0:00:01\r\u001b[K     |███████▊                        | 174kB 18.7MB/s eta 0:00:01\r\u001b[K     |████████▏                       | 184kB 18.7MB/s eta 0:00:01\r\u001b[K     |████████▋                       | 194kB 18.7MB/s eta 0:00:01\r\u001b[K     |█████████                       | 204kB 18.7MB/s eta 0:00:01\r\u001b[K     |█████████▋                      | 215kB 18.7MB/s eta 0:00:01\r\u001b[K     |██████████                      | 225kB 18.7MB/s eta 0:00:01\r\u001b[K     |██████████▌                     | 235kB 18.7MB/s eta 0:00:01\r\u001b[K     |███████████                     | 245kB 18.7MB/s eta 0:00:01\r\u001b[K     |███████████▍                    | 256kB 18.7MB/s eta 0:00:01\r\u001b[K     |███████████▉                    | 266kB 18.7MB/s eta 0:00:01\r\u001b[K     |████████████▎                   | 276kB 18.7MB/s eta 0:00:01\r\u001b[K     |████████████▊                   | 286kB 18.7MB/s eta 0:00:01\r\u001b[K     |█████████████▏                  | 296kB 18.7MB/s eta 0:00:01\r\u001b[K     |█████████████▋                  | 307kB 18.7MB/s eta 0:00:01\r\u001b[K     |██████████████                  | 317kB 18.7MB/s eta 0:00:01\r\u001b[K     |██████████████▋                 | 327kB 18.7MB/s eta 0:00:01\r\u001b[K     |███████████████                 | 337kB 18.7MB/s eta 0:00:01\r\u001b[K     |███████████████▌                | 348kB 18.7MB/s eta 0:00:01\r\u001b[K     |████████████████                | 358kB 18.7MB/s eta 0:00:01\r\u001b[K     |████████████████▍               | 368kB 18.7MB/s eta 0:00:01\r\u001b[K     |████████████████▉               | 378kB 18.7MB/s eta 0:00:01\r\u001b[K     |█████████████████▎              | 389kB 18.7MB/s eta 0:00:01\r\u001b[K     |█████████████████▊              | 399kB 18.7MB/s eta 0:00:01\r\u001b[K     |██████████████████▏             | 409kB 18.7MB/s eta 0:00:01\r\u001b[K     |██████████████████▋             | 419kB 18.7MB/s eta 0:00:01\r\u001b[K     |███████████████████▏            | 430kB 18.7MB/s eta 0:00:01\r\u001b[K     |███████████████████▋            | 440kB 18.7MB/s eta 0:00:01\r\u001b[K     |████████████████████            | 450kB 18.7MB/s eta 0:00:01\r\u001b[K     |████████████████████▌           | 460kB 18.7MB/s eta 0:00:01\r\u001b[K     |█████████████████████           | 471kB 18.7MB/s eta 0:00:01\r\u001b[K     |█████████████████████▍          | 481kB 18.7MB/s eta 0:00:01\r\u001b[K     |█████████████████████▉          | 491kB 18.7MB/s eta 0:00:01\r\u001b[K     |██████████████████████▎         | 501kB 18.7MB/s eta 0:00:01\r\u001b[K     |██████████████████████▊         | 512kB 18.7MB/s eta 0:00:01\r\u001b[K     |███████████████████████▏        | 522kB 18.7MB/s eta 0:00:01\r\u001b[K     |███████████████████████▋        | 532kB 18.7MB/s eta 0:00:01\r\u001b[K     |████████████████████████▏       | 542kB 18.7MB/s eta 0:00:01\r\u001b[K     |████████████████████████▋       | 552kB 18.7MB/s eta 0:00:01\r\u001b[K     |█████████████████████████       | 563kB 18.7MB/s eta 0:00:01\r\u001b[K     |█████████████████████████▌      | 573kB 18.7MB/s eta 0:00:01\r\u001b[K     |██████████████████████████      | 583kB 18.7MB/s eta 0:00:01\r\u001b[K     |██████████████████████████▍     | 593kB 18.7MB/s eta 0:00:01\r\u001b[K     |██████████████████████████▉     | 604kB 18.7MB/s eta 0:00:01\r\u001b[K     |███████████████████████████▎    | 614kB 18.7MB/s eta 0:00:01\r\u001b[K     |███████████████████████████▊    | 624kB 18.7MB/s eta 0:00:01\r\u001b[K     |████████████████████████████▏   | 634kB 18.7MB/s eta 0:00:01\r\u001b[K     |████████████████████████████▊   | 645kB 18.7MB/s eta 0:00:01\r\u001b[K     |█████████████████████████████▏  | 655kB 18.7MB/s eta 0:00:01\r\u001b[K     |█████████████████████████████▋  | 665kB 18.7MB/s eta 0:00:01\r\u001b[K     |██████████████████████████████  | 675kB 18.7MB/s eta 0:00:01\r\u001b[K     |██████████████████████████████▌ | 686kB 18.7MB/s eta 0:00:01\r\u001b[K     |███████████████████████████████ | 696kB 18.7MB/s eta 0:00:01\r\u001b[K     |███████████████████████████████▍| 706kB 18.7MB/s eta 0:00:01\r\u001b[K     |███████████████████████████████▉| 716kB 18.7MB/s eta 0:00:01\r\u001b[K     |████████████████████████████████| 727kB 18.7MB/s \n",
            "\u001b[K     |████████████████████████████████| 194kB 47.8MB/s \n",
            "\u001b[K     |████████████████████████████████| 1.2MB 52.8MB/s \n",
            "\u001b[K     |████████████████████████████████| 51kB 8.0MB/s \n",
            "\u001b[K     |████████████████████████████████| 61kB 9.1MB/s \n",
            "\u001b[K     |████████████████████████████████| 776.8MB 23kB/s \n",
            "\u001b[K     |████████████████████████████████| 12.8MB 244kB/s \n",
            "\u001b[K     |████████████████████████████████| 51kB 8.2MB/s \n",
            "\u001b[31mERROR: torchtext 0.9.1 has requirement torch==1.8.1, but you'll have torch 1.7.1 which is incompatible.\u001b[0m\n",
            "\u001b[?25h"
          ],
          "name": "stdout"
        }
      ]
    },
    {
      "cell_type": "code",
      "metadata": {
        "id": "8de0lIn531PL"
      },
      "source": [
        "from fastai.vision.all import *\n",
        "from fastbook import *\n",
        "\n",
        "matplotlib.rc('image', cmap='Greys')"
      ],
      "execution_count": 2,
      "outputs": []
    },
    {
      "cell_type": "code",
      "metadata": {
        "colab": {
          "base_uri": "https://localhost:8080/",
          "height": 17
        },
        "id": "KlBoYAPM4BEa",
        "outputId": "529ee38c-1f8d-448e-a746-1a5a96fd98cd"
      },
      "source": [
        "path = untar_data(URLs.MNIST)"
      ],
      "execution_count": 3,
      "outputs": [
        {
          "output_type": "display_data",
          "data": {
            "text/html": [
              ""
            ],
            "text/plain": [
              "<IPython.core.display.HTML object>"
            ]
          },
          "metadata": {
            "tags": []
          }
        }
      ]
    },
    {
      "cell_type": "code",
      "metadata": {
        "colab": {
          "base_uri": "https://localhost:8080/"
        },
        "id": "qXtR9gU84yxj",
        "outputId": "72ea5889-e393-4a81-8b81-40134e96fd7c"
      },
      "source": [
        "path.ls()"
      ],
      "execution_count": 4,
      "outputs": [
        {
          "output_type": "execute_result",
          "data": {
            "text/plain": [
              "(#2) [Path('/root/.fastai/data/mnist_png/testing'),Path('/root/.fastai/data/mnist_png/training')]"
            ]
          },
          "metadata": {
            "tags": []
          },
          "execution_count": 4
        }
      ]
    },
    {
      "cell_type": "code",
      "metadata": {
        "id": "aMZcieEO5b3_"
      },
      "source": [
        "Path.BASE_PATH = path"
      ],
      "execution_count": 5,
      "outputs": []
    },
    {
      "cell_type": "code",
      "metadata": {
        "colab": {
          "base_uri": "https://localhost:8080/"
        },
        "id": "ugTiSPZr5QZS",
        "outputId": "4e0055c5-e170-447d-9950-a1b848d0e30a"
      },
      "source": [
        "(path/'training').ls()"
      ],
      "execution_count": 6,
      "outputs": [
        {
          "output_type": "execute_result",
          "data": {
            "text/plain": [
              "(#10) [Path('training/9'),Path('training/5'),Path('training/6'),Path('training/7'),Path('training/1'),Path('training/2'),Path('training/0'),Path('training/4'),Path('training/3'),Path('training/8')]"
            ]
          },
          "metadata": {
            "tags": []
          },
          "execution_count": 6
        }
      ]
    },
    {
      "cell_type": "code",
      "metadata": {
        "colab": {
          "base_uri": "https://localhost:8080/"
        },
        "id": "9fr_Hg905-gZ",
        "outputId": "45a63eec-48c9-49d5-c028-1c9e00f90b20"
      },
      "source": [
        "categories = [x for x in range(0,10)]\n",
        "categories"
      ],
      "execution_count": 7,
      "outputs": [
        {
          "output_type": "execute_result",
          "data": {
            "text/plain": [
              "[0, 1, 2, 3, 4, 5, 6, 7, 8, 9]"
            ]
          },
          "metadata": {
            "tags": []
          },
          "execution_count": 7
        }
      ]
    },
    {
      "cell_type": "code",
      "metadata": {
        "id": "BpxKoOSPAyPj"
      },
      "source": [
        "train_x = torch.tensor([])\n",
        "train_y = torch.tensor([])\n",
        "valid_x = torch.tensor([])\n",
        "valid_y = torch.tensor([])"
      ],
      "execution_count": 14,
      "outputs": []
    },
    {
      "cell_type": "code",
      "metadata": {
        "id": "BbHzBe1ZBEsw"
      },
      "source": [
        "for x in categories:\n",
        "  number_imgs = (path/'training'/str(x)).ls().sorted()\n",
        "  zeros_tensor =  [tensor(Image.open(img)) for img in number_imgs]\n",
        "  stacked_zeros = torch.stack(zeros_tensor)\n",
        "  train_x = torch.cat([train_x,stacked_zeros])\n",
        "  y = torch.tensor([x]*len(number_imgs))\n",
        "  train_y = torch.cat([train_y,y])"
      ],
      "execution_count": 15,
      "outputs": []
    },
    {
      "cell_type": "code",
      "metadata": {
        "id": "aHFQUykCF9ur"
      },
      "source": [
        "for x in categories:\n",
        "  number_imgs = (path/'testing'/str(x)).ls().sorted()\n",
        "  zeros_tensor =  [tensor(Image.open(img)) for img in number_imgs]\n",
        "  stacked_zeros = torch.stack(zeros_tensor)\n",
        "  valid_x = torch.cat([valid_x,stacked_zeros])\n",
        "  y = torch.tensor([x]*len(number_imgs))\n",
        "  valid_y = torch.cat([valid_y,y])"
      ],
      "execution_count": 16,
      "outputs": []
    },
    {
      "cell_type": "code",
      "metadata": {
        "colab": {
          "base_uri": "https://localhost:8080/"
        },
        "id": "gokLHx8u_sEf",
        "outputId": "5556b47c-3f2e-4c37-99f1-1cef29215737"
      },
      "source": [
        "train_x = train_x.view(-1,28*28)\n",
        "valid_x = valid_x.view(-1,28*28)\n",
        "train_x.shape, train_y.shape, valid_x.shape, valid_y.shape"
      ],
      "execution_count": 25,
      "outputs": [
        {
          "output_type": "execute_result",
          "data": {
            "text/plain": [
              "(torch.Size([60000, 784]),\n",
              " torch.Size([60000]),\n",
              " torch.Size([10000, 784]),\n",
              " torch.Size([10000]))"
            ]
          },
          "metadata": {
            "tags": []
          },
          "execution_count": 25
        }
      ]
    },
    {
      "cell_type": "code",
      "metadata": {
        "id": "b_x_YPqxGnte"
      },
      "source": [
        "dset = list(zip(train_x,train_y))\n",
        "dl = DataLoader(dset, batch_size=256)\n",
        "valid_dset = list(zip(valid_x,valid_y))\n",
        "valid_dl = DataLoader(dset, batch_size=256)\n",
        "dls = DataLoaders(dl, valid_dl)"
      ],
      "execution_count": 26,
      "outputs": []
    },
    {
      "cell_type": "code",
      "metadata": {
        "id": "WSeO7NQdHJC1"
      },
      "source": [
        "simple_net = nn.Sequential(\n",
        "    nn.Linear(28*28,50),\n",
        "    nn.ReLU(),\n",
        "    nn.Linear(50,30),\n",
        "    nn.ReLU(),\n",
        "    nn.Linear(30,10),\n",
        "    nn.Sigmoid()\n",
        ")"
      ],
      "execution_count": 38,
      "outputs": []
    },
    {
      "cell_type": "code",
      "metadata": {
        "colab": {
          "base_uri": "https://localhost:8080/"
        },
        "id": "I-iC7NWWHysq",
        "outputId": "92ef1f2f-9d7a-4c46-fe37-d2d3ea4f8e5b"
      },
      "source": [
        "pred = torch.max(simple_net(train_x[0]))\n",
        "pred"
      ],
      "execution_count": 39,
      "outputs": [
        {
          "output_type": "execute_result",
          "data": {
            "text/plain": [
              "tensor(0.9981, grad_fn=<MaxBackward1>)"
            ]
          },
          "metadata": {
            "tags": []
          },
          "execution_count": 39
        }
      ]
    },
    {
      "cell_type": "code",
      "metadata": {
        "colab": {
          "base_uri": "https://localhost:8080/",
          "height": 163
        },
        "id": "kwERlaxEMn_K",
        "outputId": "c8a49f34-5ca2-40bd-a423-5410d2e45d9f"
      },
      "source": [
        "class optimizer():\n"
      ],
      "execution_count": 40,
      "outputs": [
        {
          "output_type": "error",
          "ename": "NameError",
          "evalue": "ignored",
          "traceback": [
            "\u001b[0;31m---------------------------------------------------------------------------\u001b[0m",
            "\u001b[0;31mNameError\u001b[0m                                 Traceback (most recent call last)",
            "\u001b[0;32m<ipython-input-40-a3b946728065>\u001b[0m in \u001b[0;36m<module>\u001b[0;34m()\u001b[0m\n\u001b[0;32m----> 1\u001b[0;31m \u001b[0moptimizer\u001b[0m\u001b[0;34m\u001b[0m\u001b[0;34m\u001b[0m\u001b[0m\n\u001b[0m",
            "\u001b[0;31mNameError\u001b[0m: name 'optimizer' is not defined"
          ]
        }
      ]
    }
  ]
}