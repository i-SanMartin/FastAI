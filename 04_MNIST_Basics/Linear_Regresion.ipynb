{
  "nbformat": 4,
  "nbformat_minor": 0,
  "metadata": {
    "colab": {
      "name": "Untitled20.ipynb",
      "provenance": [],
      "authorship_tag": "ABX9TyNZMJvqI5rftsVgoBefrzu6",
      "include_colab_link": true
    },
    "kernelspec": {
      "name": "python3",
      "display_name": "Python 3"
    },
    "language_info": {
      "name": "python"
    }
  },
  "cells": [
    {
      "cell_type": "markdown",
      "metadata": {
        "id": "view-in-github",
        "colab_type": "text"
      },
      "source": [
        "<a href=\"https://colab.research.google.com/github/i-SanMartin/FastAI/blob/main/04_MNIST_Basics/Linear_Regresion.ipynb\" target=\"_parent\"><img src=\"https://colab.research.google.com/assets/colab-badge.svg\" alt=\"Open In Colab\"/></a>"
      ]
    },
    {
      "cell_type": "code",
      "metadata": {
        "id": "mRKljvkJbP8f",
        "outputId": "2f31e32e-cf44-42d1-ab27-f840b6bf2f72",
        "colab": {
          "base_uri": "https://localhost:8080/"
        }
      },
      "source": [
        "!pip install -Uqq fastbook fastai==2.2.5\n",
        "import fastbook\n",
        "fastbook.setup_book()"
      ],
      "execution_count": 1,
      "outputs": [
        {
          "output_type": "stream",
          "text": [
            "\u001b[K     |████████████████████████████████| 727kB 6.9MB/s \n",
            "\u001b[K     |████████████████████████████████| 194kB 15.4MB/s \n",
            "\u001b[K     |████████████████████████████████| 51kB 5.0MB/s \n",
            "\u001b[K     |████████████████████████████████| 1.2MB 15.3MB/s \n",
            "\u001b[K     |████████████████████████████████| 61kB 6.8MB/s \n",
            "\u001b[K     |████████████████████████████████| 776.8MB 22kB/s \n",
            "\u001b[K     |████████████████████████████████| 12.8MB 43.3MB/s \n",
            "\u001b[K     |████████████████████████████████| 51kB 5.6MB/s \n",
            "\u001b[31mERROR: torchtext 0.9.1 has requirement torch==1.8.1, but you'll have torch 1.7.1 which is incompatible.\u001b[0m\n",
            "\u001b[?25hMounted at /content/gdrive\n"
          ],
          "name": "stdout"
        }
      ]
    },
    {
      "cell_type": "code",
      "metadata": {
        "id": "r9wgNR4Eb0hc"
      },
      "source": [
        "#hide\n",
        "from fastai.vision.all import *\n",
        "from fastbook import *\n",
        "\n",
        "matplotlib.rc('image', cmap='Greys')"
      ],
      "execution_count": 2,
      "outputs": []
    },
    {
      "cell_type": "code",
      "metadata": {
        "colab": {
          "base_uri": "https://localhost:8080/",
          "height": 136
        },
        "id": "TrqIOnz-cABd",
        "outputId": "bc84f1f1-a5c0-454a-937a-eb78590e594f"
      },
      "source": [
        "#Download training data\n",
        "path = untar_data(URLs.MNIST_SAMPLE)\n",
        "Path.BASE_PATH = path\n",
        "path.ls()\n",
        "(path/'train').ls()\n",
        "threes = (path/'train'/'3').ls().sorted()\n",
        "sevens = (path/'train'/'7').ls().sorted()\n",
        "seven_tensors = [tensor(Image.open(o)) for o in sevens]\n",
        "three_tensors = [tensor(Image.open(o)) for o in threes]\n",
        "stacked_sevens = torch.stack(seven_tensors).float()/255\n",
        "stacked_threes = torch.stack(three_tensors).float()/255\n",
        "train_x = torch.cat([stacked_threes, stacked_sevens]).view(-1, 28*28)\n",
        "train_y = tensor([0]*len(stacked_threes)+ [1]*(len(stacked_sevens))).unsqueeze(1)\n",
        "show_image(stacked_sevens[1]*255), train_x.shape, train_y.shape"
      ],
      "execution_count": 3,
      "outputs": [
        {
          "output_type": "display_data",
          "data": {
            "text/html": [
              ""
            ],
            "text/plain": [
              "<IPython.core.display.HTML object>"
            ]
          },
          "metadata": {
            "tags": []
          }
        },
        {
          "output_type": "execute_result",
          "data": {
            "text/plain": [
              "(<matplotlib.axes._subplots.AxesSubplot at 0x7f17fa2b54d0>,\n",
              " torch.Size([12396, 784]),\n",
              " torch.Size([12396, 1]))"
            ]
          },
          "metadata": {
            "tags": []
          },
          "execution_count": 3
        },
        {
          "output_type": "display_data",
          "data": {
            "image/png": "[encoded data removed]",
            "text/plain": [
              "<Figure size 72x72 with 1 Axes>"
            ]
          },
          "metadata": {
            "tags": [],
            "needs_background": "light"
          }
        }
      ]
    },
    {
      "cell_type": "code",
      "metadata": {
        "id": "P9NAqtRerwwU"
      },
      "source": [
        "#Download validation data\n",
        "threes = (path/'valid'/'3').ls().sorted()\n",
        "sevens = (path/'valid'/'7').ls().sorted()\n",
        "seven_tensors = [tensor(Image.open(o)) for o in sevens]\n",
        "three_tensors = [tensor(Image.open(o)) for o in threes]\n",
        "stacked_sevens = torch.stack(seven_tensors[0: 600]).float()/255\n",
        "stacked_threes = torch.stack(three_tensors[0: 600]).float()/255\n",
        "valid_x = torch.cat([stacked_threes, stacked_sevens]).view(-1, 28*28)\n",
        "valid_y = tensor([0]*len(stacked_threes)+ [1]*(len(stacked_sevens))).unsqueeze(1)"
      ],
      "execution_count": 4,
      "outputs": []
    },
    {
      "cell_type": "code",
      "metadata": {
        "colab": {
          "base_uri": "https://localhost:8080/"
        },
        "id": "KVD0ij5Mjqo0",
        "outputId": "710d0ada-57af-4ca6-c2eb-ed8e330c467b"
      },
      "source": [
        "#Create dataset with training data\n",
        "dset = list(zip(train_x,train_y))\n",
        "x,y = dset[0]\n",
        "x.shape,y"
      ],
      "execution_count": 5,
      "outputs": [
        {
          "output_type": "execute_result",
          "data": {
            "text/plain": [
              "(torch.Size([784]), tensor([0]))"
            ]
          },
          "metadata": {
            "tags": []
          },
          "execution_count": 5
        }
      ]
    },
    {
      "cell_type": "code",
      "metadata": {
        "colab": {
          "base_uri": "https://localhost:8080/"
        },
        "id": "5bJrHDiLiPs_",
        "outputId": "15750257-4f32-46c1-f5f5-f183dd4cb245"
      },
      "source": [
        "#Create DataLoader of size 256 with dataset\n",
        "dl = DataLoader(dset, batch_size=256)\n",
        "xb,yb = first(dl)\n",
        "xb.shape,yb.shape"
      ],
      "execution_count": 6,
      "outputs": [
        {
          "output_type": "execute_result",
          "data": {
            "text/plain": [
              "(torch.Size([256, 784]), torch.Size([256, 1]))"
            ]
          },
          "metadata": {
            "tags": []
          },
          "execution_count": 6
        }
      ]
    },
    {
      "cell_type": "code",
      "metadata": {
        "id": "4Y5sDeZcj1Xn"
      },
      "source": [
        "#Create datase anda dataloader with validation data\n",
        "valid_dset = list(zip(valid_x,valid_y))\n",
        "valid_dl = DataLoader(dset, batch_size=256)"
      ],
      "execution_count": 7,
      "outputs": []
    },
    {
      "cell_type": "code",
      "metadata": {
        "id": "Nh01mEIXuyQE"
      },
      "source": [
        "#Take model from torch module\n",
        "linear1 = torch.nn.Linear(28*28,1)"
      ],
      "execution_count": 22,
      "outputs": []
    },
    {
      "cell_type": "code",
      "metadata": {
        "id": "s-dCaSFEh_4_",
        "colab": {
          "base_uri": "https://localhost:8080/"
        },
        "outputId": "ccf172bc-5242-4e1a-deaf-cd0b477b65c1"
      },
      "source": [
        "#See weight and bias\n",
        "w,b = linear_model.parameters()\n",
        "w.shape,b.shape"
      ],
      "execution_count": 28,
      "outputs": [
        {
          "output_type": "execute_result",
          "data": {
            "text/plain": [
              "(torch.Size([1, 784]), torch.Size([1]))"
            ]
          },
          "metadata": {
            "tags": []
          },
          "execution_count": 28
        }
      ]
    },
    {
      "cell_type": "code",
      "metadata": {
        "id": "FIcXEjXTxefV"
      },
      "source": [
        "#Optimizer class\n",
        "class BasicOptim:\n",
        "    def __init__(self,params,lr): self.params,self.lr = list(params),lr\n",
        "\n",
        "    def step(self, *args, **kwargs):\n",
        "        for p in self.params: p.data -= p.grad.data * self.lr\n",
        "\n",
        "    def zero_grad(self, *args, **kwargs):\n",
        "        for p in self.params: p.grad = None"
      ],
      "execution_count": 29,
      "outputs": []
    },
    {
      "cell_type": "code",
      "metadata": {
        "id": "39vwNH1xx3pR"
      },
      "source": [
        "#Create optimizer object\n",
        "lr = 1\n",
        "opt = BasicOptim(linear1.parameters(), lr)"
      ],
      "execution_count": 49,
      "outputs": []
    },
    {
      "cell_type": "code",
      "metadata": {
        "id": "FzgPgZmQ0IGB"
      },
      "source": [
        "#Loss function\n",
        "def mnist_loss(predictions, targets):\n",
        "    return torch.where(targets==1, 1-predictions, predictions).mean()"
      ],
      "execution_count": 50,
      "outputs": []
    },
    {
      "cell_type": "code",
      "metadata": {
        "id": "CqGDNnwX0c22"
      },
      "source": [
        "#Function to calculate gradients\n",
        "def calc_grad(xb, yb, model):\n",
        "    preds = model(xb)\n",
        "    loss = mnist_loss(preds, yb)\n",
        "    loss.backward()"
      ],
      "execution_count": 51,
      "outputs": []
    },
    {
      "cell_type": "code",
      "metadata": {
        "id": "Y2Nhy9niz1a4"
      },
      "source": [
        "def train_epoch(model):\n",
        "    for xb,yb in dl:\n",
        "        calc_grad(xb, yb, model)\n",
        "        opt.step()\n",
        "        opt.zero_grad()"
      ],
      "execution_count": 52,
      "outputs": []
    },
    {
      "cell_type": "code",
      "metadata": {
        "id": "emmYp3Of_Ts8"
      },
      "source": [
        "#Function to see the accuracy of a batch\n",
        "def batch_accuracy(xb, yb):\n",
        "    preds = xb.sigmoid()\n",
        "    correct = (preds>0.5) == yb\n",
        "    return correct.float().mean()"
      ],
      "execution_count": 53,
      "outputs": []
    },
    {
      "cell_type": "code",
      "metadata": {
        "id": "JEQ9yLm4_n7d"
      },
      "source": [
        "#Function to validate the accuracy of all the validatin DataLoader\n",
        "def validate_epoch(model):\n",
        "    accs = [batch_accuracy(model(xb), yb) for xb,yb in valid_dl]\n",
        "    return round(torch.stack(accs).mean().item(), 4)"
      ],
      "execution_count": 54,
      "outputs": []
    },
    {
      "cell_type": "code",
      "metadata": {
        "colab": {
          "base_uri": "https://localhost:8080/"
        },
        "id": "qBj8KGBt_p9w",
        "outputId": "7e377fca-9a8b-4660-c2ee-4ba606977bc6"
      },
      "source": [
        "#Try the function\n",
        "validate_epoch(linear1)"
      ],
      "execution_count": 55,
      "outputs": [
        {
          "output_type": "execute_result",
          "data": {
            "text/plain": [
              "0.4975"
            ]
          },
          "metadata": {
            "tags": []
          },
          "execution_count": 55
        }
      ]
    },
    {
      "cell_type": "code",
      "metadata": {
        "id": "oNHHPvaa_-zj",
        "colab": {
          "base_uri": "https://localhost:8080/"
        },
        "outputId": "3fbb93fb-f4be-4fba-f2fd-efb4608e882c"
      },
      "source": [
        "#train 20 epchs\n",
        "for i in range(20):\n",
        "    train_epoch(linear1)\n",
        "    print(validate_epoch(linear1), end=' ')"
      ],
      "execution_count": 56,
      "outputs": [
        {
          "output_type": "stream",
          "text": [
            "0.9363 0.9516 0.9554 0.9571 0.9577 0.9582 0.9591 0.9593 0.9595 0.9599 0.9599 0.9601 0.96 0.9602 0.9603 0.9604 0.9603 0.9603 0.9604 0.9604 "
          ],
          "name": "stdout"
        }
      ]
    }
  ]
}