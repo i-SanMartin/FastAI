{
  "nbformat": 4,
  "nbformat_minor": 0,
  "metadata": {
    "colab": {
      "name": "Untitled20.ipynb",
      "provenance": [],
      "authorship_tag": "ABX9TyOxNDTFnQl9QQt1UMCxuLyP",
      "include_colab_link": true
    },
    "kernelspec": {
      "name": "python3",
      "display_name": "Python 3"
    },
    "language_info": {
      "name": "python"
    }
  },
  "cells": [
    {
      "cell_type": "markdown",
      "metadata": {
        "id": "view-in-github",
        "colab_type": "text"
      },
      "source": [
        "<a href=\"https://colab.research.google.com/github/i-SanMartin/FastAI/blob/main/04_MNIST_Basics/Linear_Regresion.ipynb\" target=\"_parent\"><img src=\"https://colab.research.google.com/assets/colab-badge.svg\" alt=\"Open In Colab\"/></a>"
      ]
    },
    {
      "cell_type": "code",
      "metadata": {
        "id": "mRKljvkJbP8f"
      },
      "source": [
        "!pip install -Uqq fastbook fastai==2.2.5\n",
        "import fastbook\n",
        "fastbook.setup_book()"
      ],
      "execution_count": 194,
      "outputs": []
    },
    {
      "cell_type": "code",
      "metadata": {
        "id": "r9wgNR4Eb0hc"
      },
      "source": [
        "#hide\n",
        "from fastai.vision.all import *\n",
        "from fastbook import *\n",
        "\n",
        "matplotlib.rc('image', cmap='Greys')"
      ],
      "execution_count": 195,
      "outputs": []
    },
    {
      "cell_type": "code",
      "metadata": {
        "colab": {
          "base_uri": "https://localhost:8080/",
          "height": 136
        },
        "id": "TrqIOnz-cABd",
        "outputId": "23780ae7-ba12-4ce1-f6c6-3de532b4d558"
      },
      "source": [
        "#Download training data\n",
        "path = untar_data(URLs.MNIST_SAMPLE)\n",
        "Path.BASE_PATH = path\n",
        "path.ls()\n",
        "(path/'train').ls()\n",
        "threes = (path/'train'/'3').ls().sorted()\n",
        "sevens = (path/'train'/'7').ls().sorted()\n",
        "seven_tensors = [tensor(Image.open(o)) for o in sevens]\n",
        "three_tensors = [tensor(Image.open(o)) for o in threes]\n",
        "stacked_sevens = torch.stack(seven_tensors).float()/255\n",
        "stacked_threes = torch.stack(three_tensors).float()/255\n",
        "train_x = torch.cat([stacked_threes, stacked_sevens]).view(-1, 28*28)\n",
        "train_y = tensor([0]*len(stacked_threes)+ [1]*(len(stacked_sevens))).unsqueeze(1)\n",
        "show_image(stacked_sevens[1]*255), train_x.shape, train_y.shape"
      ],
      "execution_count": 196,
      "outputs": [
        {
          "output_type": "execute_result",
          "data": {
            "text/plain": [
              "(<matplotlib.axes._subplots.AxesSubplot at 0x7f704d128ed0>,\n",
              " torch.Size([12396, 784]),\n",
              " torch.Size([12396, 1]))"
            ]
          },
          "metadata": {
            "tags": []
          },
          "execution_count": 196
        },
        {
          "output_type": "display_data",
          "data": {
            "image/png": "[encoded data removed]",
            "text/plain": [
              "<Figure size 72x72 with 1 Axes>"
            ]
          },
          "metadata": {
            "tags": [],
            "needs_background": "light"
          }
        }
      ]
    },
    {
      "cell_type": "code",
      "metadata": {
        "id": "P9NAqtRerwwU"
      },
      "source": [
        "#Download validation data\n",
        "threes = (path/'valid'/'3').ls().sorted()\n",
        "sevens = (path/'valid'/'7').ls().sorted()\n",
        "seven_tensors = [tensor(Image.open(o)) for o in sevens]\n",
        "three_tensors = [tensor(Image.open(o)) for o in threes]\n",
        "stacked_sevens = torch.stack(seven_tensors[0: 600]).float()/255\n",
        "stacked_threes = torch.stack(three_tensors[0: 600]).float()/255\n",
        "valid_x = torch.cat([stacked_threes, stacked_sevens]).view(-1, 28*28)\n",
        "valid_y = tensor([0]*len(stacked_threes)+ [1]*(len(stacked_sevens))).unsqueeze(1)"
      ],
      "execution_count": 197,
      "outputs": []
    },
    {
      "cell_type": "code",
      "metadata": {
        "id": "9uLFuus8g-93"
      },
      "source": [
        "#Function to create weight and bias\n",
        "def init_params(size, std=1.0): return (torch.randn(size)*std).requires_grad_()"
      ],
      "execution_count": 198,
      "outputs": []
    },
    {
      "cell_type": "code",
      "metadata": {
        "id": "s-dCaSFEh_4_",
        "colab": {
          "base_uri": "https://localhost:8080/"
        },
        "outputId": "fece219b-4918-4a78-91ed-34427ddce0fe"
      },
      "source": [
        "#Create weight and bias\n",
        "weights = init_params((28*28,1))\n",
        "bias = init_params(1)\n",
        "weights.shape, bias"
      ],
      "execution_count": 199,
      "outputs": [
        {
          "output_type": "execute_result",
          "data": {
            "text/plain": [
              "(torch.Size([784, 1]), tensor([0.0849], requires_grad=True))"
            ]
          },
          "metadata": {
            "tags": []
          },
          "execution_count": 199
        }
      ]
    },
    {
      "cell_type": "code",
      "metadata": {
        "colab": {
          "base_uri": "https://localhost:8080/"
        },
        "id": "KVD0ij5Mjqo0",
        "outputId": "b7db9e2c-6439-4018-e134-5f476ae80c6a"
      },
      "source": [
        "#Create dataset with training data\n",
        "dset = list(zip(train_x,train_y))\n",
        "x,y = dset[0]\n",
        "x.shape,y"
      ],
      "execution_count": 200,
      "outputs": [
        {
          "output_type": "execute_result",
          "data": {
            "text/plain": [
              "(torch.Size([784]), tensor([0]))"
            ]
          },
          "metadata": {
            "tags": []
          },
          "execution_count": 200
        }
      ]
    },
    {
      "cell_type": "code",
      "metadata": {
        "colab": {
          "base_uri": "https://localhost:8080/"
        },
        "id": "5bJrHDiLiPs_",
        "outputId": "df7aac8f-41f7-4ecd-ca90-c574475d956f"
      },
      "source": [
        "#Create DataLoader of size 256 with dataset\n",
        "dl = DataLoader(dset, batch_size=256)\n",
        "xb,yb = first(dl)\n",
        "xb.shape,yb.shape"
      ],
      "execution_count": 201,
      "outputs": [
        {
          "output_type": "execute_result",
          "data": {
            "text/plain": [
              "(torch.Size([256, 784]), torch.Size([256, 1]))"
            ]
          },
          "metadata": {
            "tags": []
          },
          "execution_count": 201
        }
      ]
    },
    {
      "cell_type": "code",
      "metadata": {
        "id": "4Y5sDeZcj1Xn"
      },
      "source": [
        "#Create datase anda dataloader with validation data\n",
        "valid_dset = list(zip(valid_x,valid_y))\n",
        "valid_dl = DataLoader(dset, batch_size=256)"
      ],
      "execution_count": 202,
      "outputs": []
    },
    {
      "cell_type": "code",
      "metadata": {
        "colab": {
          "base_uri": "https://localhost:8080/"
        },
        "id": "GfrLuofCsBzs",
        "outputId": "e1ce2c6e-7d33-470d-8aff-7e1aff79bb5c"
      },
      "source": [
        "#Take a small batch of the datset\n",
        "batch = train_x[:4]\n",
        "batch.shape"
      ],
      "execution_count": 203,
      "outputs": [
        {
          "output_type": "execute_result",
          "data": {
            "text/plain": [
              "torch.Size([4, 784])"
            ]
          },
          "metadata": {
            "tags": []
          },
          "execution_count": 203
        }
      ]
    },
    {
      "cell_type": "code",
      "metadata": {
        "id": "i6p0Gj9Iz_Jr"
      },
      "source": [
        "#Function to predict\n",
        "def linear1(xb): return xb@weights + bias"
      ],
      "execution_count": 204,
      "outputs": []
    },
    {
      "cell_type": "code",
      "metadata": {
        "colab": {
          "base_uri": "https://localhost:8080/"
        },
        "id": "J9UDLaPDzvpr",
        "outputId": "ebcce69d-669d-435d-af0a-305754072ce6"
      },
      "source": [
        "#Make some predictions\n",
        "preds = linear1(batch)\n",
        "preds"
      ],
      "execution_count": 205,
      "outputs": [
        {
          "output_type": "execute_result",
          "data": {
            "text/plain": [
              "tensor([[ -5.5905],\n",
              "        [  1.8283],\n",
              "        [-12.6169],\n",
              "        [-11.7690]], grad_fn=<AddBackward0>)"
            ]
          },
          "metadata": {
            "tags": []
          },
          "execution_count": 205
        }
      ]
    },
    {
      "cell_type": "code",
      "metadata": {
        "id": "FzgPgZmQ0IGB"
      },
      "source": [
        "#Loss function\n",
        "def mnist_loss(predictions, targets):\n",
        "    return torch.where(targets==1, 1-predictions, predictions).mean()"
      ],
      "execution_count": 206,
      "outputs": []
    },
    {
      "cell_type": "code",
      "metadata": {
        "colab": {
          "base_uri": "https://localhost:8080/"
        },
        "id": "Y2Nhy9niz1a4",
        "outputId": "4e9b22de-2e1e-4ee0-a2cc-5c2aeb7e8477"
      },
      "source": [
        "#Calculate some losses\n",
        "loss = mnist_loss(preds, train_y[:4])\n",
        "loss"
      ],
      "execution_count": 207,
      "outputs": [
        {
          "output_type": "execute_result",
          "data": {
            "text/plain": [
              "tensor(-7.0370, grad_fn=<MeanBackward0>)"
            ]
          },
          "metadata": {
            "tags": []
          },
          "execution_count": 207
        }
      ]
    },
    {
      "cell_type": "code",
      "metadata": {
        "colab": {
          "base_uri": "https://localhost:8080/"
        },
        "id": "Eg6zJ-jZ0HJN",
        "outputId": "2ad35d6f-8ca2-4385-c0a7-4bf6c5e91bb8"
      },
      "source": [
        "#Calculate gradients\n",
        "loss.backward()\n",
        "weights.grad.shape,weights.grad.mean(),bias.grad"
      ],
      "execution_count": 208,
      "outputs": [
        {
          "output_type": "execute_result",
          "data": {
            "text/plain": [
              "(torch.Size([784, 1]), tensor(0.1511), tensor([1.]))"
            ]
          },
          "metadata": {
            "tags": []
          },
          "execution_count": 208
        }
      ]
    },
    {
      "cell_type": "code",
      "metadata": {
        "id": "CqGDNnwX0c22"
      },
      "source": [
        "#Function to calculate gradients\n",
        "def calc_grad(xb, yb, model):\n",
        "    preds = model(xb)\n",
        "    loss = mnist_loss(preds, yb)\n",
        "    loss.backward()"
      ],
      "execution_count": 209,
      "outputs": []
    },
    {
      "cell_type": "code",
      "metadata": {
        "colab": {
          "base_uri": "https://localhost:8080/"
        },
        "id": "ejKaG4e33rTJ",
        "outputId": "c6b376fd-ac91-4176-e99e-8d95692d7766"
      },
      "source": [
        "#Try function (put gradients to 0, backward() acumulates it in tensor.grad)\n",
        "weights.grad.zero_()\n",
        "bias.grad.zero_()\n",
        "\n",
        "calc_grad(batch, train_y[:4], linear1)\n",
        "weights.grad.mean(),bias.grad"
      ],
      "execution_count": 210,
      "outputs": [
        {
          "output_type": "execute_result",
          "data": {
            "text/plain": [
              "(tensor(0.1511), tensor([1.]))"
            ]
          },
          "metadata": {
            "tags": []
          },
          "execution_count": 210
        }
      ]
    },
    {
      "cell_type": "code",
      "metadata": {
        "id": "kNmRtbvK3var"
      },
      "source": [
        "#Function to train on epoch\n",
        "def train_epoch(model, lr, params):\n",
        "    for xb,yb in dl:\n",
        "        calc_grad(xb, yb, model)\n",
        "        for p in params:\n",
        "            p.data -= p.grad*lr\n",
        "            p.grad.zero_()"
      ],
      "execution_count": 211,
      "outputs": []
    },
    {
      "cell_type": "code",
      "metadata": {
        "colab": {
          "base_uri": "https://localhost:8080/"
        },
        "id": "m-5UAmjl-bVo",
        "outputId": "7f3c3f30-ac29-47f7-e1a1-763d9d83aec3"
      },
      "source": [
        "#See some predictions' result\n",
        "(preds>0.0).float() == train_y[:4]"
      ],
      "execution_count": 212,
      "outputs": [
        {
          "output_type": "execute_result",
          "data": {
            "text/plain": [
              "tensor([[ True],\n",
              "        [False],\n",
              "        [ True],\n",
              "        [ True]])"
            ]
          },
          "metadata": {
            "tags": []
          },
          "execution_count": 212
        }
      ]
    },
    {
      "cell_type": "code",
      "metadata": {
        "id": "emmYp3Of_Ts8"
      },
      "source": [
        "#Function to see the accuracy of a batch\n",
        "def batch_accuracy(xb, yb):\n",
        "    preds = xb.sigmoid()\n",
        "    correct = (preds>0.5) == yb\n",
        "    return correct.float().mean()"
      ],
      "execution_count": 213,
      "outputs": []
    },
    {
      "cell_type": "code",
      "metadata": {
        "colab": {
          "base_uri": "https://localhost:8080/"
        },
        "id": "yWC29d6b_dSS",
        "outputId": "c7ac4e63-d751-49a0-b95f-68f0c51a2f66"
      },
      "source": [
        "#Try the function\n",
        "batch_accuracy(linear1(batch), train_y[:4])"
      ],
      "execution_count": 214,
      "outputs": [
        {
          "output_type": "execute_result",
          "data": {
            "text/plain": [
              "tensor(0.7500)"
            ]
          },
          "metadata": {
            "tags": []
          },
          "execution_count": 214
        }
      ]
    },
    {
      "cell_type": "code",
      "metadata": {
        "id": "JEQ9yLm4_n7d"
      },
      "source": [
        "#Function to validate the accuracy of all the validatin DataLoader\n",
        "def validate_epoch(model):\n",
        "    accs = [batch_accuracy(model(xb), yb) for xb,yb in valid_dl]\n",
        "    return round(torch.stack(accs).mean().item(), 4)"
      ],
      "execution_count": 215,
      "outputs": []
    },
    {
      "cell_type": "code",
      "metadata": {
        "colab": {
          "base_uri": "https://localhost:8080/"
        },
        "id": "qBj8KGBt_p9w",
        "outputId": "5c232f92-fda5-4111-dac5-fcd50d04eed0"
      },
      "source": [
        "#Try the function\n",
        "validate_epoch(linear1)"
      ],
      "execution_count": 216,
      "outputs": [
        {
          "output_type": "execute_result",
          "data": {
            "text/plain": [
              "0.4196"
            ]
          },
          "metadata": {
            "tags": []
          },
          "execution_count": 216
        }
      ]
    },
    {
      "cell_type": "code",
      "metadata": {
        "colab": {
          "base_uri": "https://localhost:8080/"
        },
        "id": "hTQ9vszm_6Kd",
        "outputId": "a1297136-e485-4a5a-912e-8749e26cc85a"
      },
      "source": [
        "#train one epoch and validate\n",
        "lr = 0.5\n",
        "params = weights,bias\n",
        "train_epoch(linear1, lr, params)\n",
        "validate_epoch(linear1)"
      ],
      "execution_count": 217,
      "outputs": [
        {
          "output_type": "execute_result",
          "data": {
            "text/plain": [
              "0.9424"
            ]
          },
          "metadata": {
            "tags": []
          },
          "execution_count": 217
        }
      ]
    },
    {
      "cell_type": "code",
      "metadata": {
        "id": "oNHHPvaa_-zj",
        "colab": {
          "base_uri": "https://localhost:8080/"
        },
        "outputId": "4d47e5c7-349e-4e96-b439-a993e015babe"
      },
      "source": [
        "#train 20 epchs\n",
        "for i in range(20):\n",
        "    train_epoch(linear1, lr, params)\n",
        "    print(validate_epoch(linear1), end=' ')"
      ],
      "execution_count": 218,
      "outputs": [
        {
          "output_type": "stream",
          "text": [
            "0.9541 0.9569 0.9576 0.9582 0.9593 0.9597 0.96 0.9603 0.9603 0.9605 0.9607 0.9607 0.9607 0.9607 0.9608 0.9608 0.9609 0.9609 0.9611 0.9611 "
          ],
          "name": "stdout"
        }
      ]
    }
  ]
}