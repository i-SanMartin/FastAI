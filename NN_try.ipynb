{
  "nbformat": 4,
  "nbformat_minor": 0,
  "metadata": {
    "colab": {
      "name": "NN_try.ipynb",
      "provenance": [],
      "collapsed_sections": [],
      "authorship_tag": "ABX9TyPdWRGNMESFQljPS1J6rqhX",
      "include_colab_link": true
    },
    "kernelspec": {
      "name": "python3",
      "display_name": "Python 3"
    },
    "language_info": {
      "name": "python"
    }
  },
  "cells": [
    {
      "cell_type": "markdown",
      "metadata": {
        "id": "view-in-github",
        "colab_type": "text"
      },
      "source": [
        "<a href=\"https://colab.research.google.com/github/i-SanMartin/FastAI/blob/main/NN_try.ipynb\" target=\"_parent\"><img src=\"https://colab.research.google.com/assets/colab-badge.svg\" alt=\"Open In Colab\"/></a>"
      ]
    },
    {
      "cell_type": "code",
      "metadata": {
        "id": "tF7lgX7EccfF",
        "colab": {
          "base_uri": "https://localhost:8080/"
        },
        "outputId": "4e1bd906-01ee-46cc-e741-053f68fbbb85"
      },
      "source": [
        "!pip install torch\n",
        "!pip install -Uqq fastbook\n",
        "import fastbook"
      ],
      "execution_count": null,
      "outputs": [
        {
          "output_type": "stream",
          "text": [
            "Requirement already satisfied: torch in /usr/local/lib/python3.7/dist-packages (1.8.1+cu101)\n",
            "Requirement already satisfied: typing-extensions in /usr/local/lib/python3.7/dist-packages (from torch) (3.7.4.3)\n",
            "Requirement already satisfied: numpy in /usr/local/lib/python3.7/dist-packages (from torch) (1.19.5)\n",
            "\u001b[K     |████████████████████████████████| 727kB 5.2MB/s \n",
            "\u001b[K     |████████████████████████████████| 1.2MB 8.1MB/s \n",
            "\u001b[K     |████████████████████████████████| 194kB 17.7MB/s \n",
            "\u001b[K     |████████████████████████████████| 51kB 5.2MB/s \n",
            "\u001b[K     |████████████████████████████████| 61kB 6.5MB/s \n",
            "\u001b[K     |████████████████████████████████| 12.8MB 309kB/s \n",
            "\u001b[K     |████████████████████████████████| 776.8MB 13kB/s \n",
            "\u001b[K     |████████████████████████████████| 51kB 5.5MB/s \n",
            "\u001b[31mERROR: torchtext 0.9.1 has requirement torch==1.8.1, but you'll have torch 1.7.1 which is incompatible.\u001b[0m\n",
            "\u001b[?25h"
          ],
          "name": "stdout"
        }
      ]
    },
    {
      "cell_type": "code",
      "metadata": {
        "id": "OfA7kO4xcjmW"
      },
      "source": [
        "import torch\n",
        "from fastai.vision.all import *\n",
        "from fastbook import *"
      ],
      "execution_count": null,
      "outputs": []
    },
    {
      "cell_type": "code",
      "metadata": {
        "colab": {
          "base_uri": "https://localhost:8080/",
          "height": 102
        },
        "id": "TT65nJpFvJbI",
        "outputId": "ce816626-6da7-42a9-bd64-2b4fdfd32f51"
      },
      "source": [
        "path = untar_data(URLs.MNIST_SAMPLE)\n",
        "Path.BASE_PATH = path\n",
        "path.ls()\n",
        "(path/'train').ls()\n",
        "threes = (path/'train'/'3').ls().sorted()\n",
        "sevens = (path/'train'/'7').ls().sorted()\n",
        "seven_tensors = [tensor(Image.open(o)) for o in sevens]\n",
        "three_tensors = [tensor(Image.open(o)) for o in threes]\n",
        "stacked_sevens = torch.stack(seven_tensors[0: 600]).float()/255\n",
        "stacked_threes = torch.stack(three_tensors[0: 600]).float()/255\n",
        "train_x = torch.cat([stacked_threes, stacked_sevens]).view(-1, 28*28)\n",
        "train_y = tensor([3]*600 + [7]*600).unsqueeze(1)\n",
        "show_image(stacked_sevens[1]*255)"
      ],
      "execution_count": null,
      "outputs": [
        {
          "output_type": "execute_result",
          "data": {
            "text/plain": [
              "<matplotlib.axes._subplots.AxesSubplot at 0x7f2c022fb790>"
            ]
          },
          "metadata": {
            "tags": []
          },
          "execution_count": 51
        },
        {
          "output_type": "display_data",
          "data": {
            "image/png": "[encoded data removed]",
            "text/plain": [
              "<Figure size 72x72 with 1 Axes>"
            ]
          },
          "metadata": {
            "tags": [],
            "needs_background": "light"
          }
        }
      ]
    },
    {
      "cell_type": "code",
      "metadata": {
        "id": "Nx7_h8kOGUFM"
      },
      "source": [
        "class Net:\n",
        "  cats = []\n",
        "  lys = []\n",
        "  biases = []\n",
        "  def __init__(self, arch, input_size, cates):\n",
        "    self.cats = cates\n",
        "    #Clear weights and bias\n",
        "    self.lys.clear()\n",
        "    self.biases.clear()\n",
        "\n",
        "    _ly = 0#Save previous layer\n",
        " \n",
        "    for i, ly in enumerate(arch) :\n",
        "      if i == 0:\n",
        "        self.lys.append(torch.rand(ly, input_size) - 0.5)\n",
        "      else:\n",
        "        self.lys.append(torch.rand(ly, _ly) - 0.5)\n",
        "\n",
        "      self.biases.append(torch.rand(ly) - 0.5)\n",
        "      _ly = ly\n",
        "    \n",
        "\n",
        "  def predict(self, input_data):\n",
        "    \n",
        "    output = torch.tensor(input_data)\n",
        "    for ly, bias in zip(self.lys, self.biases):\n",
        "      output = torch.sigmoid(output @ ly.T +bias)\n",
        "    return output\n",
        "\n",
        "  def loss_f(self, out, train_labels): return torch.sqrt(torch.square(1 - out[self.cats.index(train_labels)])) #Tiene que tener tantas neuronas de salida como categorias\n",
        "\n",
        "  def train(self, train_data, train_labels):\n",
        "    out = self.predict(train_data)\n",
        "    for ly in reversed(self.lys):\n",
        "      ly.requires_grad_()\n",
        "      yt = self.loss_f(out, train_data, train_labels)\n",
        "      yt.backward()\n",
        "      \n",
        "\n"
      ],
      "execution_count": null,
      "outputs": []
    },
    {
      "cell_type": "code",
      "metadata": {
        "colab": {
          "base_uri": "https://localhost:8080/"
        },
        "id": "4pNdT-wVQ-qL",
        "outputId": "46182d70-18de-4057-c9c7-34a27fbcf4f8"
      },
      "source": [
        "architecture = [8, 6, 4, 2]\n",
        "net = Net(architecture, 2, [\"3\", \"7\"])\n",
        "net.lys, net.biases"
      ],
      "execution_count": null,
      "outputs": [
        {
          "output_type": "execute_result",
          "data": {
            "text/plain": [
              "([tensor([[ 0.0782, -0.4400],\n",
              "          [-0.2154, -0.2993],\n",
              "          [ 0.0014, -0.1861],\n",
              "          [-0.0346, -0.3388],\n",
              "          [-0.3432, -0.2917],\n",
              "          [-0.1711, -0.3946],\n",
              "          [ 0.4192, -0.0992],\n",
              "          [ 0.4302,  0.1558]]),\n",
              "  tensor([[ 0.1947, -0.4103,  0.3712, -0.3670, -0.0863,  0.1044,  0.2581,  0.4037],\n",
              "          [ 0.4555, -0.3965,  0.1258, -0.2151, -0.0548, -0.3742,  0.4554, -0.3670],\n",
              "          [ 0.2672,  0.1757,  0.1625, -0.2703,  0.4545,  0.1099,  0.0643, -0.4406],\n",
              "          [ 0.2099, -0.0750, -0.2291,  0.4295,  0.1115, -0.2766, -0.2531, -0.0239],\n",
              "          [ 0.2792, -0.1278, -0.2853, -0.1712, -0.3735,  0.1783,  0.3870, -0.4707],\n",
              "          [ 0.1161,  0.2583,  0.0907, -0.1781,  0.2610,  0.2628,  0.1870, -0.0879]]),\n",
              "  tensor([[-0.0495, -0.1119,  0.0073, -0.0299,  0.1202,  0.1401],\n",
              "          [-0.4541, -0.1845,  0.4211,  0.1948, -0.0249, -0.3015],\n",
              "          [-0.3059, -0.4479, -0.1630,  0.1689,  0.3188,  0.2308],\n",
              "          [-0.4420, -0.3007, -0.0789,  0.4837,  0.0723, -0.1295]]),\n",
              "  tensor([[-0.2274, -0.1002, -0.4974,  0.3346],\n",
              "          [ 0.3788,  0.1822, -0.3486, -0.4935]])],\n",
              " [tensor([-0.4234,  0.3460, -0.1376, -0.1917, -0.4150, -0.4971,  0.1431, -0.1092]),\n",
              "  tensor([-0.1324,  0.0535, -0.0883, -0.1490,  0.3196,  0.4297]),\n",
              "  tensor([ 0.2069, -0.1904, -0.3236,  0.3649]),\n",
              "  tensor([-0.4061,  0.3729])])"
            ]
          },
          "metadata": {
            "tags": []
          },
          "execution_count": 52
        }
      ]
    },
    {
      "cell_type": "code",
      "metadata": {
        "id": "weNd4tpLs4E-",
        "colab": {
          "base_uri": "https://localhost:8080/"
        },
        "outputId": "8453ef32-6159-45ef-daed-9be9860e9fce"
      },
      "source": [
        "res = net.predict([2., 3.])\n",
        "res"
      ],
      "execution_count": null,
      "outputs": [
        {
          "output_type": "execute_result",
          "data": {
            "text/plain": [
              "tensor([0.3549, 0.5649])"
            ]
          },
          "metadata": {
            "tags": []
          },
          "execution_count": 53
        }
      ]
    },
    {
      "cell_type": "code",
      "metadata": {
        "id": "agVLSW7PUcIA",
        "colab": {
          "base_uri": "https://localhost:8080/"
        },
        "outputId": "21623214-1245-4fdc-84f4-cd8886cd6dda"
      },
      "source": [
        "net.loss_f(res, \"3\")"
      ],
      "execution_count": null,
      "outputs": [
        {
          "output_type": "execute_result",
          "data": {
            "text/plain": [
              "tensor(0.6451)"
            ]
          },
          "metadata": {
            "tags": []
          },
          "execution_count": 54
        }
      ]
    },
    {
      "cell_type": "code",
      "metadata": {
        "id": "L0Sx6NApmD42"
      },
      "source": [
        "net.train(train_x,train_y)"
      ],
      "execution_count": null,
      "outputs": []
    }
  ]
}