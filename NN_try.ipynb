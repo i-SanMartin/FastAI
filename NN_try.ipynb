{
  "nbformat": 4,
  "nbformat_minor": 0,
  "metadata": {
    "colab": {
      "name": "NN_try.ipynb",
      "provenance": [],
      "collapsed_sections": [],
      "authorship_tag": "ABX9TyNJYXmWIpJaGsZxpNPihkcy",
      "include_colab_link": true
    },
    "kernelspec": {
      "name": "python3",
      "display_name": "Python 3"
    },
    "language_info": {
      "name": "python"
    }
  },
  "cells": [
    {
      "cell_type": "markdown",
      "metadata": {
        "id": "view-in-github",
        "colab_type": "text"
      },
      "source": [
        "<a href=\"https://colab.research.google.com/github/i-SanMartin/FastAI/blob/main/NN_try.ipynb\" target=\"_parent\"><img src=\"https://colab.research.google.com/assets/colab-badge.svg\" alt=\"Open In Colab\"/></a>"
      ]
    },
    {
      "cell_type": "code",
      "metadata": {
        "id": "tF7lgX7EccfF",
        "colab": {
          "base_uri": "https://localhost:8080/"
        },
        "outputId": "fc9c984c-5fb5-49fe-bcc1-6886b2410cf4"
      },
      "source": [
        "!pip install torch\n",
        "!pip install -Uqq fastbook\n",
        "import fastbook"
      ],
      "execution_count": 2,
      "outputs": [
        {
          "output_type": "stream",
          "text": [
            "Requirement already satisfied: torch in /usr/local/lib/python3.7/dist-packages (1.8.1+cu101)\n",
            "Requirement already satisfied: typing-extensions in /usr/local/lib/python3.7/dist-packages (from torch) (3.7.4.3)\n",
            "Requirement already satisfied: numpy in /usr/local/lib/python3.7/dist-packages (from torch) (1.19.5)\n",
            "\u001b[K     |████████████████████████████████| 727kB 4.5MB/s \n",
            "\u001b[K     |████████████████████████████████| 1.2MB 35.3MB/s \n",
            "\u001b[K     |████████████████████████████████| 194kB 42.1MB/s \n",
            "\u001b[K     |████████████████████████████████| 51kB 5.5MB/s \n",
            "\u001b[K     |████████████████████████████████| 776.8MB 20kB/s \n",
            "\u001b[K     |████████████████████████████████| 12.8MB 31.3MB/s \n",
            "\u001b[K     |████████████████████████████████| 61kB 4.6MB/s \n",
            "\u001b[K     |████████████████████████████████| 51kB 3.8MB/s \n",
            "\u001b[31mERROR: torchtext 0.9.1 has requirement torch==1.8.1, but you'll have torch 1.7.1 which is incompatible.\u001b[0m\n",
            "\u001b[?25h"
          ],
          "name": "stdout"
        }
      ]
    },
    {
      "cell_type": "code",
      "metadata": {
        "id": "OfA7kO4xcjmW"
      },
      "source": [
        "import torch\n",
        "from fastai.vision.all import *\n",
        "from fastbook import *"
      ],
      "execution_count": 3,
      "outputs": []
    },
    {
      "cell_type": "code",
      "metadata": {
        "colab": {
          "base_uri": "https://localhost:8080/",
          "height": 102
        },
        "id": "TT65nJpFvJbI",
        "outputId": "28d9b360-3fbb-4016-89f2-fd800385a834"
      },
      "source": [
        "path = untar_data(URLs.MNIST_SAMPLE)\n",
        "Path.BASE_PATH = path\n",
        "path.ls()\n",
        "(path/'train').ls()\n",
        "threes = (path/'train'/'3').ls().sorted()\n",
        "sevens = (path/'train'/'7').ls().sorted()\n",
        "seven_tensors = [tensor(Image.open(o)) for o in sevens]\n",
        "three_tensors = [tensor(Image.open(o)) for o in threes]\n",
        "stacked_sevens = torch.stack(seven_tensors[0: 600]).float()/255\n",
        "stacked_threes = torch.stack(three_tensors[0: 600]).float()/255\n",
        "train_x = torch.cat([stacked_threes, stacked_sevens]).view(-1, 28*28)\n",
        "train_y = tensor([3]*600 + [7]*600).unsqueeze(1)\n",
        "show_image(stacked_sevens[1]*255)"
      ],
      "execution_count": 4,
      "outputs": [
        {
          "output_type": "display_data",
          "data": {
            "text/html": [
              ""
            ],
            "text/plain": [
              "<IPython.core.display.HTML object>"
            ]
          },
          "metadata": {
            "tags": []
          }
        },
        {
          "output_type": "execute_result",
          "data": {
            "text/plain": [
              "<matplotlib.axes._subplots.AxesSubplot at 0x7ff887aca0d0>"
            ]
          },
          "metadata": {
            "tags": []
          },
          "execution_count": 4
        },
        {
          "output_type": "display_data",
          "data": {
            "image/png": "[encoded data removed]",
            "text/plain": [
              "<Figure size 72x72 with 1 Axes>"
            ]
          },
          "metadata": {
            "tags": [],
            "needs_background": "light"
          }
        }
      ]
    },
    {
      "cell_type": "code",
      "metadata": {
        "id": "Nx7_h8kOGUFM"
      },
      "source": [
        "class Net:\n",
        "  cats = []\n",
        "  lys = []\n",
        "  biases = []\n",
        "  def __init__(self, arch, input_size, cates):\n",
        "    self.cats.clear()\n",
        "    self.cats = cates\n",
        "    #Clear weights and bias\n",
        "    self.lys.clear()\n",
        "    self.biases.clear()\n",
        "\n",
        "    _ly = 0#Save previous layer\n",
        " \n",
        "    for i, ly in enumerate(arch) :\n",
        "      if i == 0:\n",
        "        self.lys.append(torch.rand(ly, input_size) - 0.5)\n",
        "      else:\n",
        "        self.lys.append(torch.rand(ly, _ly) - 0.5)\n",
        "\n",
        "      self.biases.append(torch.rand(ly) - 0.5)\n",
        "      _ly = ly\n",
        "    \n",
        "\n",
        "  def predict(self, input_data):\n",
        "    \n",
        "    output = torch.tensor(input_data)\n",
        "    for ly, bias in zip(self.lys, self.biases):\n",
        "      output = torch.sigmoid(output @ ly.T +bias)\n",
        "    return output\n",
        "\n",
        "  def loss_f(self, out, train_labels): return torch.sqrt(torch.square(1 - out[0]))\n",
        "\n",
        "  def train(self, train_data, train_labels):\n",
        "    out = self.predict(train_data)\n",
        "    lys.requires_grad_()\n",
        "    biases.requires_grad_()\n",
        "    yt = self.loss_f(out, train_data, train_labels)\n",
        "    yt.backward()\n",
        "      \n",
        "\n"
      ],
      "execution_count": 60,
      "outputs": []
    },
    {
      "cell_type": "code",
      "metadata": {
        "colab": {
          "base_uri": "https://localhost:8080/"
        },
        "id": "4pNdT-wVQ-qL",
        "outputId": "b5fd23f6-f534-4c0c-a822-2c32fcb67453"
      },
      "source": [
        "architecture = [8, 6, 4, 2]\n",
        "net = Net(architecture, 2, [3, 7])\n",
        "net.lys, net.biases"
      ],
      "execution_count": 55,
      "outputs": [
        {
          "output_type": "execute_result",
          "data": {
            "text/plain": [
              "([tensor([[-0.3585, -0.1888],\n",
              "          [ 0.4130,  0.0512],\n",
              "          [-0.3739,  0.0031],\n",
              "          [-0.3883, -0.1095],\n",
              "          [-0.1375,  0.4328],\n",
              "          [ 0.1549, -0.0872],\n",
              "          [ 0.0845, -0.1443],\n",
              "          [ 0.1965,  0.1978]]),\n",
              "  tensor([[ 0.1481, -0.1704,  0.2539,  0.4290, -0.4904, -0.0619, -0.3410,  0.0932],\n",
              "          [ 0.2068, -0.1033, -0.0418,  0.2251, -0.0840, -0.4199,  0.4001, -0.2517],\n",
              "          [-0.0549,  0.0472, -0.0300, -0.4703,  0.2294, -0.2271, -0.2593,  0.1195],\n",
              "          [-0.2609, -0.2311, -0.1685, -0.1878, -0.2088, -0.1348,  0.1299, -0.4046],\n",
              "          [-0.3026,  0.0073,  0.0695,  0.2761, -0.3512,  0.1596,  0.2842,  0.2776],\n",
              "          [-0.4657, -0.1908, -0.4298, -0.3164,  0.2785, -0.0747,  0.2124, -0.2935]]),\n",
              "  tensor([[ 1.6518e-03,  4.7474e-01,  2.4269e-01, -2.6677e-01,  6.7244e-03, -5.4824e-02],\n",
              "          [-4.0254e-01,  3.9205e-01,  8.0603e-03,  1.0530e-01, -2.0191e-01, -2.3396e-01],\n",
              "          [ 8.2445e-02,  1.8486e-01,  1.1215e-01, -2.4097e-01,  4.8545e-01, -7.3602e-02],\n",
              "          [-3.0621e-01, -2.3386e-01,  4.9221e-01,  2.4080e-05, -6.7872e-02, -2.0808e-01]]),\n",
              "  tensor([[ 0.4277,  0.4772, -0.3610,  0.2704],\n",
              "          [-0.3095,  0.2983,  0.3608,  0.3869]])],\n",
              " [tensor([ 0.1343, -0.1949,  0.4266, -0.0722, -0.1947,  0.3132,  0.4075,  0.4976]),\n",
              "  tensor([ 0.0760, -0.3024,  0.2499, -0.2187, -0.1254, -0.4338]),\n",
              "  tensor([-0.1311, -0.4211, -0.3973,  0.2926]),\n",
              "  tensor([0.3600, 0.3128])])"
            ]
          },
          "metadata": {
            "tags": []
          },
          "execution_count": 55
        }
      ]
    },
    {
      "cell_type": "code",
      "metadata": {
        "id": "weNd4tpLs4E-",
        "colab": {
          "base_uri": "https://localhost:8080/"
        },
        "outputId": "6252a88e-23f8-4431-a319-9809b667bf51"
      },
      "source": [
        "data = torch.randn(4,2)*2\n",
        "data.requires_grad_()\n",
        "data"
      ],
      "execution_count": 56,
      "outputs": [
        {
          "output_type": "execute_result",
          "data": {
            "text/plain": [
              "tensor([[ 2.2903,  1.2192],\n",
              "        [-0.5365, -2.3577],\n",
              "        [ 1.7291, -1.3152],\n",
              "        [-0.1886,  2.8644]], requires_grad=True)"
            ]
          },
          "metadata": {
            "tags": []
          },
          "execution_count": 56
        }
      ]
    },
    {
      "cell_type": "code",
      "metadata": {
        "colab": {
          "base_uri": "https://localhost:8080/"
        },
        "id": "PZP5fICxsfFq",
        "outputId": "6b8d3a1c-78f9-4bdd-a673-2418c40fb5dc"
      },
      "source": [
        "res = net.predict(data)\n",
        "res"
      ],
      "execution_count": 67,
      "outputs": [
        {
          "output_type": "stream",
          "text": [
            "/usr/local/lib/python3.7/dist-packages/ipykernel_launcher.py:26: UserWarning: To copy construct from a tensor, it is recommended to use sourceTensor.clone().detach() or sourceTensor.clone().detach().requires_grad_(True), rather than torch.tensor(sourceTensor).\n"
          ],
          "name": "stderr"
        },
        {
          "output_type": "execute_result",
          "data": {
            "text/plain": [
              "tensor([[0.6741, 0.6565],\n",
              "        [0.6731, 0.6550],\n",
              "        [0.6734, 0.6559],\n",
              "        [0.6746, 0.6562]])"
            ]
          },
          "metadata": {
            "tags": []
          },
          "execution_count": 67
        }
      ]
    },
    {
      "cell_type": "code",
      "metadata": {
        "id": "agVLSW7PUcIA",
        "colab": {
          "base_uri": "https://localhost:8080/"
        },
        "outputId": "388ec437-9965-45f7-ad4d-de9ca2796900"
      },
      "source": [
        "labels = torch.tensor([3]*4).unsqueeze(1)\n",
        "labels"
      ],
      "execution_count": 68,
      "outputs": [
        {
          "output_type": "execute_result",
          "data": {
            "text/plain": [
              "tensor([[3],\n",
              "        [3],\n",
              "        [3],\n",
              "        [3]])"
            ]
          },
          "metadata": {
            "tags": []
          },
          "execution_count": 68
        }
      ]
    },
    {
      "cell_type": "code",
      "metadata": {
        "colab": {
          "base_uri": "https://localhost:8080/"
        },
        "id": "73VGkey7zLNu",
        "outputId": "41870e53-23e1-490a-d54f-55338c0fb8d0"
      },
      "source": [
        "net.loss_f(res, labels)"
      ],
      "execution_count": 69,
      "outputs": [
        {
          "output_type": "execute_result",
          "data": {
            "text/plain": [
              "tensor([0.3259, 0.3435])"
            ]
          },
          "metadata": {
            "tags": []
          },
          "execution_count": 69
        }
      ]
    },
    {
      "cell_type": "code",
      "metadata": {
        "id": "L0Sx6NApmD42",
        "colab": {
          "base_uri": "https://localhost:8080/",
          "height": 343
        },
        "outputId": "7e7edfe8-0889-4c84-a36b-5b46dc5c6a5b"
      },
      "source": [
        "net.train(train_x,train_y)"
      ],
      "execution_count": 61,
      "outputs": [
        {
          "output_type": "stream",
          "text": [
            "/usr/local/lib/python3.7/dist-packages/ipykernel_launcher.py:26: UserWarning: To copy construct from a tensor, it is recommended to use sourceTensor.clone().detach() or sourceTensor.clone().detach().requires_grad_(True), rather than torch.tensor(sourceTensor).\n"
          ],
          "name": "stderr"
        },
        {
          "output_type": "error",
          "ename": "RuntimeError",
          "evalue": "ignored",
          "traceback": [
            "\u001b[0;31m---------------------------------------------------------------------------\u001b[0m",
            "\u001b[0;31mRuntimeError\u001b[0m                              Traceback (most recent call last)",
            "\u001b[0;32m<ipython-input-61-3952ad1db5ea>\u001b[0m in \u001b[0;36m<module>\u001b[0;34m()\u001b[0m\n\u001b[0;32m----> 1\u001b[0;31m \u001b[0mnet\u001b[0m\u001b[0;34m.\u001b[0m\u001b[0mtrain\u001b[0m\u001b[0;34m(\u001b[0m\u001b[0mtrain_x\u001b[0m\u001b[0;34m,\u001b[0m\u001b[0mtrain_y\u001b[0m\u001b[0;34m)\u001b[0m\u001b[0;34m\u001b[0m\u001b[0;34m\u001b[0m\u001b[0m\n\u001b[0m",
            "\u001b[0;32m<ipython-input-54-bbd783b17bcf>\u001b[0m in \u001b[0;36mtrain\u001b[0;34m(self, train_data, train_labels)\u001b[0m\n\u001b[1;32m     32\u001b[0m \u001b[0;34m\u001b[0m\u001b[0m\n\u001b[1;32m     33\u001b[0m   \u001b[0;32mdef\u001b[0m \u001b[0mtrain\u001b[0m\u001b[0;34m(\u001b[0m\u001b[0mself\u001b[0m\u001b[0;34m,\u001b[0m \u001b[0mtrain_data\u001b[0m\u001b[0;34m,\u001b[0m \u001b[0mtrain_labels\u001b[0m\u001b[0;34m)\u001b[0m\u001b[0;34m:\u001b[0m\u001b[0;34m\u001b[0m\u001b[0;34m\u001b[0m\u001b[0m\n\u001b[0;32m---> 34\u001b[0;31m     \u001b[0mout\u001b[0m \u001b[0;34m=\u001b[0m \u001b[0mself\u001b[0m\u001b[0;34m.\u001b[0m\u001b[0mpredict\u001b[0m\u001b[0;34m(\u001b[0m\u001b[0mtrain_data\u001b[0m\u001b[0;34m)\u001b[0m\u001b[0;34m\u001b[0m\u001b[0;34m\u001b[0m\u001b[0m\n\u001b[0m\u001b[1;32m     35\u001b[0m     \u001b[0mlys\u001b[0m\u001b[0;34m.\u001b[0m\u001b[0mrequires_grad_\u001b[0m\u001b[0;34m(\u001b[0m\u001b[0;34m)\u001b[0m\u001b[0;34m\u001b[0m\u001b[0;34m\u001b[0m\u001b[0m\n\u001b[1;32m     36\u001b[0m     \u001b[0mbiases\u001b[0m\u001b[0;34m.\u001b[0m\u001b[0mrequires_grad_\u001b[0m\u001b[0;34m(\u001b[0m\u001b[0;34m)\u001b[0m\u001b[0;34m\u001b[0m\u001b[0;34m\u001b[0m\u001b[0m\n",
            "\u001b[0;32m<ipython-input-54-bbd783b17bcf>\u001b[0m in \u001b[0;36mpredict\u001b[0;34m(self, input_data)\u001b[0m\n\u001b[1;32m     26\u001b[0m     \u001b[0moutput\u001b[0m \u001b[0;34m=\u001b[0m \u001b[0mtorch\u001b[0m\u001b[0;34m.\u001b[0m\u001b[0mtensor\u001b[0m\u001b[0;34m(\u001b[0m\u001b[0minput_data\u001b[0m\u001b[0;34m)\u001b[0m\u001b[0;34m\u001b[0m\u001b[0;34m\u001b[0m\u001b[0m\n\u001b[1;32m     27\u001b[0m     \u001b[0;32mfor\u001b[0m \u001b[0mly\u001b[0m\u001b[0;34m,\u001b[0m \u001b[0mbias\u001b[0m \u001b[0;32min\u001b[0m \u001b[0mzip\u001b[0m\u001b[0;34m(\u001b[0m\u001b[0mself\u001b[0m\u001b[0;34m.\u001b[0m\u001b[0mlys\u001b[0m\u001b[0;34m,\u001b[0m \u001b[0mself\u001b[0m\u001b[0;34m.\u001b[0m\u001b[0mbiases\u001b[0m\u001b[0;34m)\u001b[0m\u001b[0;34m:\u001b[0m\u001b[0;34m\u001b[0m\u001b[0;34m\u001b[0m\u001b[0m\n\u001b[0;32m---> 28\u001b[0;31m       \u001b[0moutput\u001b[0m \u001b[0;34m=\u001b[0m \u001b[0mtorch\u001b[0m\u001b[0;34m.\u001b[0m\u001b[0msigmoid\u001b[0m\u001b[0;34m(\u001b[0m\u001b[0moutput\u001b[0m \u001b[0;34m@\u001b[0m \u001b[0mly\u001b[0m\u001b[0;34m.\u001b[0m\u001b[0mT\u001b[0m \u001b[0;34m+\u001b[0m\u001b[0mbias\u001b[0m\u001b[0;34m)\u001b[0m\u001b[0;34m\u001b[0m\u001b[0;34m\u001b[0m\u001b[0m\n\u001b[0m\u001b[1;32m     29\u001b[0m     \u001b[0;32mreturn\u001b[0m \u001b[0moutput\u001b[0m\u001b[0;34m\u001b[0m\u001b[0;34m\u001b[0m\u001b[0m\n\u001b[1;32m     30\u001b[0m \u001b[0;34m\u001b[0m\u001b[0m\n",
            "\u001b[0;31mRuntimeError\u001b[0m: mat1 and mat2 shapes cannot be multiplied (1200x784 and 2x8)"
          ]
        }
      ]
    }
  ]
}