{
  "nbformat": 4,
  "nbformat_minor": 0,
  "metadata": {
    "colab": {
      "name": "05_Pet_breeds/Classifier.ipynb",
      "provenance": [],
      "authorship_tag": "ABX9TyNzUn2kY1MBHEG1sxcfaovq",
      "include_colab_link": true
    },
    "kernelspec": {
      "name": "python3",
      "display_name": "Python 3"
    },
    "language_info": {
      "name": "python"
    },
    "accelerator": "GPU",
    "widgets": {
      "application/vnd.jupyter.widget-state+json": {
        "d740aa26bb3f4fabb65357b38737e733": {
          "model_module": "@jupyter-widgets/controls",
          "model_name": "HBoxModel",
          "state": {
            "_view_name": "HBoxView",
            "_dom_classes": [],
            "_model_name": "HBoxModel",
            "_view_module": "@jupyter-widgets/controls",
            "_model_module_version": "1.5.0",
            "_view_count": null,
            "_view_module_version": "1.5.0",
            "box_style": "",
            "layout": "IPY_MODEL_53198fb207f84f8fbdee7a2de4024411",
            "_model_module": "@jupyter-widgets/controls",
            "children": [
              "IPY_MODEL_0045bbd202fd494cbb98fa7e701d5106",
              "IPY_MODEL_065920bdc94e416e9cfe5869f48ed3ab"
            ]
          }
        },
        "53198fb207f84f8fbdee7a2de4024411": {
          "model_module": "@jupyter-widgets/base",
          "model_name": "LayoutModel",
          "state": {
            "_view_name": "LayoutView",
            "grid_template_rows": null,
            "right": null,
            "justify_content": null,
            "_view_module": "@jupyter-widgets/base",
            "overflow": null,
            "_model_module_version": "1.2.0",
            "_view_count": null,
            "flex_flow": null,
            "width": null,
            "min_width": null,
            "border": null,
            "align_items": null,
            "bottom": null,
            "_model_module": "@jupyter-widgets/base",
            "top": null,
            "grid_column": null,
            "overflow_y": null,
            "overflow_x": null,
            "grid_auto_flow": null,
            "grid_area": null,
            "grid_template_columns": null,
            "flex": null,
            "_model_name": "LayoutModel",
            "justify_items": null,
            "grid_row": null,
            "max_height": null,
            "align_content": null,
            "visibility": null,
            "align_self": null,
            "height": null,
            "min_height": null,
            "padding": null,
            "grid_auto_rows": null,
            "grid_gap": null,
            "max_width": null,
            "order": null,
            "_view_module_version": "1.2.0",
            "grid_template_areas": null,
            "object_position": null,
            "object_fit": null,
            "grid_auto_columns": null,
            "margin": null,
            "display": null,
            "left": null
          }
        },
        "0045bbd202fd494cbb98fa7e701d5106": {
          "model_module": "@jupyter-widgets/controls",
          "model_name": "FloatProgressModel",
          "state": {
            "_view_name": "ProgressView",
            "style": "IPY_MODEL_1ba8f462cc964f108518b4eda2d57d75",
            "_dom_classes": [],
            "description": "100%",
            "_model_name": "FloatProgressModel",
            "bar_style": "success",
            "max": 87306240,
            "_view_module": "@jupyter-widgets/controls",
            "_model_module_version": "1.5.0",
            "value": 87306240,
            "_view_count": null,
            "_view_module_version": "1.5.0",
            "orientation": "horizontal",
            "min": 0,
            "description_tooltip": null,
            "_model_module": "@jupyter-widgets/controls",
            "layout": "IPY_MODEL_cc444d27f1bb4f49af3ad1e90a23a3ec"
          }
        },
        "065920bdc94e416e9cfe5869f48ed3ab": {
          "model_module": "@jupyter-widgets/controls",
          "model_name": "HTMLModel",
          "state": {
            "_view_name": "HTMLView",
            "style": "IPY_MODEL_546cd47cf88b473481ca6b34bf869a3a",
            "_dom_classes": [],
            "description": "",
            "_model_name": "HTMLModel",
            "placeholder": "​",
            "_view_module": "@jupyter-widgets/controls",
            "_model_module_version": "1.5.0",
            "value": " 83.3M/83.3M [01:34&lt;00:00, 921kB/s]",
            "_view_count": null,
            "_view_module_version": "1.5.0",
            "description_tooltip": null,
            "_model_module": "@jupyter-widgets/controls",
            "layout": "IPY_MODEL_54d99d79a99641f8a445652e484bf84f"
          }
        },
        "1ba8f462cc964f108518b4eda2d57d75": {
          "model_module": "@jupyter-widgets/controls",
          "model_name": "ProgressStyleModel",
          "state": {
            "_view_name": "StyleView",
            "_model_name": "ProgressStyleModel",
            "description_width": "initial",
            "_view_module": "@jupyter-widgets/base",
            "_model_module_version": "1.5.0",
            "_view_count": null,
            "_view_module_version": "1.2.0",
            "bar_color": null,
            "_model_module": "@jupyter-widgets/controls"
          }
        },
        "cc444d27f1bb4f49af3ad1e90a23a3ec": {
          "model_module": "@jupyter-widgets/base",
          "model_name": "LayoutModel",
          "state": {
            "_view_name": "LayoutView",
            "grid_template_rows": null,
            "right": null,
            "justify_content": null,
            "_view_module": "@jupyter-widgets/base",
            "overflow": null,
            "_model_module_version": "1.2.0",
            "_view_count": null,
            "flex_flow": null,
            "width": null,
            "min_width": null,
            "border": null,
            "align_items": null,
            "bottom": null,
            "_model_module": "@jupyter-widgets/base",
            "top": null,
            "grid_column": null,
            "overflow_y": null,
            "overflow_x": null,
            "grid_auto_flow": null,
            "grid_area": null,
            "grid_template_columns": null,
            "flex": null,
            "_model_name": "LayoutModel",
            "justify_items": null,
            "grid_row": null,
            "max_height": null,
            "align_content": null,
            "visibility": null,
            "align_self": null,
            "height": null,
            "min_height": null,
            "padding": null,
            "grid_auto_rows": null,
            "grid_gap": null,
            "max_width": null,
            "order": null,
            "_view_module_version": "1.2.0",
            "grid_template_areas": null,
            "object_position": null,
            "object_fit": null,
            "grid_auto_columns": null,
            "margin": null,
            "display": null,
            "left": null
          }
        },
        "546cd47cf88b473481ca6b34bf869a3a": {
          "model_module": "@jupyter-widgets/controls",
          "model_name": "DescriptionStyleModel",
          "state": {
            "_view_name": "StyleView",
            "_model_name": "DescriptionStyleModel",
            "description_width": "",
            "_view_module": "@jupyter-widgets/base",
            "_model_module_version": "1.5.0",
            "_view_count": null,
            "_view_module_version": "1.2.0",
            "_model_module": "@jupyter-widgets/controls"
          }
        },
        "54d99d79a99641f8a445652e484bf84f": {
          "model_module": "@jupyter-widgets/base",
          "model_name": "LayoutModel",
          "state": {
            "_view_name": "LayoutView",
            "grid_template_rows": null,
            "right": null,
            "justify_content": null,
            "_view_module": "@jupyter-widgets/base",
            "overflow": null,
            "_model_module_version": "1.2.0",
            "_view_count": null,
            "flex_flow": null,
            "width": null,
            "min_width": null,
            "border": null,
            "align_items": null,
            "bottom": null,
            "_model_module": "@jupyter-widgets/base",
            "top": null,
            "grid_column": null,
            "overflow_y": null,
            "overflow_x": null,
            "grid_auto_flow": null,
            "grid_area": null,
            "grid_template_columns": null,
            "flex": null,
            "_model_name": "LayoutModel",
            "justify_items": null,
            "grid_row": null,
            "max_height": null,
            "align_content": null,
            "visibility": null,
            "align_self": null,
            "height": null,
            "min_height": null,
            "padding": null,
            "grid_auto_rows": null,
            "grid_gap": null,
            "max_width": null,
            "order": null,
            "_view_module_version": "1.2.0",
            "grid_template_areas": null,
            "object_position": null,
            "object_fit": null,
            "grid_auto_columns": null,
            "margin": null,
            "display": null,
            "left": null
          }
        },
        "16c6bf5283404b30b7c052eb9e63ba58": {
          "model_module": "@jupyter-widgets/controls",
          "model_name": "HBoxModel",
          "state": {
            "_view_name": "HBoxView",
            "_dom_classes": [],
            "_model_name": "HBoxModel",
            "_view_module": "@jupyter-widgets/controls",
            "_model_module_version": "1.5.0",
            "_view_count": null,
            "_view_module_version": "1.5.0",
            "box_style": "",
            "layout": "IPY_MODEL_00c3b742471c4b50b50af9a9b8a1451a",
            "_model_module": "@jupyter-widgets/controls",
            "children": [
              "IPY_MODEL_35e5de28c1d14977b935844a70c1d1bb",
              "IPY_MODEL_ff54848429164c09b3325ff06b77319f"
            ]
          }
        },
        "00c3b742471c4b50b50af9a9b8a1451a": {
          "model_module": "@jupyter-widgets/base",
          "model_name": "LayoutModel",
          "state": {
            "_view_name": "LayoutView",
            "grid_template_rows": null,
            "right": null,
            "justify_content": null,
            "_view_module": "@jupyter-widgets/base",
            "overflow": null,
            "_model_module_version": "1.2.0",
            "_view_count": null,
            "flex_flow": null,
            "width": null,
            "min_width": null,
            "border": null,
            "align_items": null,
            "bottom": null,
            "_model_module": "@jupyter-widgets/base",
            "top": null,
            "grid_column": null,
            "overflow_y": null,
            "overflow_x": null,
            "grid_auto_flow": null,
            "grid_area": null,
            "grid_template_columns": null,
            "flex": null,
            "_model_name": "LayoutModel",
            "justify_items": null,
            "grid_row": null,
            "max_height": null,
            "align_content": null,
            "visibility": null,
            "align_self": null,
            "height": null,
            "min_height": null,
            "padding": null,
            "grid_auto_rows": null,
            "grid_gap": null,
            "max_width": null,
            "order": null,
            "_view_module_version": "1.2.0",
            "grid_template_areas": null,
            "object_position": null,
            "object_fit": null,
            "grid_auto_columns": null,
            "margin": null,
            "display": null,
            "left": null
          }
        },
        "35e5de28c1d14977b935844a70c1d1bb": {
          "model_module": "@jupyter-widgets/controls",
          "model_name": "FloatProgressModel",
          "state": {
            "_view_name": "ProgressView",
            "style": "IPY_MODEL_fe6a797615cd4322af5521cd39d1b742",
            "_dom_classes": [],
            "description": "100%",
            "_model_name": "FloatProgressModel",
            "bar_style": "success",
            "max": 87306240,
            "_view_module": "@jupyter-widgets/controls",
            "_model_module_version": "1.5.0",
            "value": 87306240,
            "_view_count": null,
            "_view_module_version": "1.5.0",
            "orientation": "horizontal",
            "min": 0,
            "description_tooltip": null,
            "_model_module": "@jupyter-widgets/controls",
            "layout": "IPY_MODEL_74acfcf6bec1453eace24e039a9f7bcb"
          }
        },
        "ff54848429164c09b3325ff06b77319f": {
          "model_module": "@jupyter-widgets/controls",
          "model_name": "HTMLModel",
          "state": {
            "_view_name": "HTMLView",
            "style": "IPY_MODEL_031554814e7f4f42aa18227d3e953709",
            "_dom_classes": [],
            "description": "",
            "_model_name": "HTMLModel",
            "placeholder": "​",
            "_view_module": "@jupyter-widgets/controls",
            "_model_module_version": "1.5.0",
            "value": " 83.3M/83.3M [00:01&lt;00:00, 51.6MB/s]",
            "_view_count": null,
            "_view_module_version": "1.5.0",
            "description_tooltip": null,
            "_model_module": "@jupyter-widgets/controls",
            "layout": "IPY_MODEL_d03e854c88014af49aab2c9f14ec2155"
          }
        },
        "fe6a797615cd4322af5521cd39d1b742": {
          "model_module": "@jupyter-widgets/controls",
          "model_name": "ProgressStyleModel",
          "state": {
            "_view_name": "StyleView",
            "_model_name": "ProgressStyleModel",
            "description_width": "initial",
            "_view_module": "@jupyter-widgets/base",
            "_model_module_version": "1.5.0",
            "_view_count": null,
            "_view_module_version": "1.2.0",
            "bar_color": null,
            "_model_module": "@jupyter-widgets/controls"
          }
        },
        "74acfcf6bec1453eace24e039a9f7bcb": {
          "model_module": "@jupyter-widgets/base",
          "model_name": "LayoutModel",
          "state": {
            "_view_name": "LayoutView",
            "grid_template_rows": null,
            "right": null,
            "justify_content": null,
            "_view_module": "@jupyter-widgets/base",
            "overflow": null,
            "_model_module_version": "1.2.0",
            "_view_count": null,
            "flex_flow": null,
            "width": null,
            "min_width": null,
            "border": null,
            "align_items": null,
            "bottom": null,
            "_model_module": "@jupyter-widgets/base",
            "top": null,
            "grid_column": null,
            "overflow_y": null,
            "overflow_x": null,
            "grid_auto_flow": null,
            "grid_area": null,
            "grid_template_columns": null,
            "flex": null,
            "_model_name": "LayoutModel",
            "justify_items": null,
            "grid_row": null,
            "max_height": null,
            "align_content": null,
            "visibility": null,
            "align_self": null,
            "height": null,
            "min_height": null,
            "padding": null,
            "grid_auto_rows": null,
            "grid_gap": null,
            "max_width": null,
            "order": null,
            "_view_module_version": "1.2.0",
            "grid_template_areas": null,
            "object_position": null,
            "object_fit": null,
            "grid_auto_columns": null,
            "margin": null,
            "display": null,
            "left": null
          }
        },
        "031554814e7f4f42aa18227d3e953709": {
          "model_module": "@jupyter-widgets/controls",
          "model_name": "DescriptionStyleModel",
          "state": {
            "_view_name": "StyleView",
            "_model_name": "DescriptionStyleModel",
            "description_width": "",
            "_view_module": "@jupyter-widgets/base",
            "_model_module_version": "1.5.0",
            "_view_count": null,
            "_view_module_version": "1.2.0",
            "_model_module": "@jupyter-widgets/controls"
          }
        },
        "d03e854c88014af49aab2c9f14ec2155": {
          "model_module": "@jupyter-widgets/base",
          "model_name": "LayoutModel",
          "state": {
            "_view_name": "LayoutView",
            "grid_template_rows": null,
            "right": null,
            "justify_content": null,
            "_view_module": "@jupyter-widgets/base",
            "overflow": null,
            "_model_module_version": "1.2.0",
            "_view_count": null,
            "flex_flow": null,
            "width": null,
            "min_width": null,
            "border": null,
            "align_items": null,
            "bottom": null,
            "_model_module": "@jupyter-widgets/base",
            "top": null,
            "grid_column": null,
            "overflow_y": null,
            "overflow_x": null,
            "grid_auto_flow": null,
            "grid_area": null,
            "grid_template_columns": null,
            "flex": null,
            "_model_name": "LayoutModel",
            "justify_items": null,
            "grid_row": null,
            "max_height": null,
            "align_content": null,
            "visibility": null,
            "align_self": null,
            "height": null,
            "min_height": null,
            "padding": null,
            "grid_auto_rows": null,
            "grid_gap": null,
            "max_width": null,
            "order": null,
            "_view_module_version": "1.2.0",
            "grid_template_areas": null,
            "object_position": null,
            "object_fit": null,
            "grid_auto_columns": null,
            "margin": null,
            "display": null,
            "left": null
          }
        }
      }
    }
  },
  "cells": [
    {
      "cell_type": "markdown",
      "metadata": {
        "id": "view-in-github",
        "colab_type": "text"
      },
      "source": [
        "<a href=\"https://colab.research.google.com/github/i-SanMartin/FastAI/blob/main/05_Pet_Breeds/Classifier.ipynb\" target=\"_parent\"><img src=\"https://colab.research.google.com/assets/colab-badge.svg\" alt=\"Open In Colab\"/></a>"
      ]
    },
    {
      "cell_type": "code",
      "metadata": {
        "id": "XJDocVi78Aeo",
        "colab": {
          "base_uri": "https://localhost:8080/"
        },
        "outputId": "95303f46-5860-4a26-92d0-80eeda7004dd"
      },
      "source": [
        "#hide\n",
        "!pip install -Uqq fastbook\n",
        "import fastbook\n",
        "fastbook.setup_book()"
      ],
      "execution_count": 1,
      "outputs": [
        {
          "output_type": "stream",
          "text": [
            "\u001b[?25l\r\u001b[K     |▌                               | 10kB 23.0MB/s eta 0:00:01\r\u001b[K     |█                               | 20kB 28.8MB/s eta 0:00:01\r\u001b[K     |█▍                              | 30kB 33.7MB/s eta 0:00:01\r\u001b[K     |█▉                              | 40kB 25.4MB/s eta 0:00:01\r\u001b[K     |██▎                             | 51kB 26.2MB/s eta 0:00:01\r\u001b[K     |██▊                             | 61kB 26.8MB/s eta 0:00:01\r\u001b[K     |███▏                            | 71kB 27.8MB/s eta 0:00:01\r\u001b[K     |███▋                            | 81kB 26.9MB/s eta 0:00:01\r\u001b[K     |████                            | 92kB 26.0MB/s eta 0:00:01\r\u001b[K     |████▌                           | 102kB 27.1MB/s eta 0:00:01\r\u001b[K     |█████                           | 112kB 27.1MB/s eta 0:00:01\r\u001b[K     |█████▌                          | 122kB 27.1MB/s eta 0:00:01\r\u001b[K     |██████                          | 133kB 27.1MB/s eta 0:00:01\r\u001b[K     |██████▍                         | 143kB 27.1MB/s eta 0:00:01\r\u001b[K     |██████▉                         | 153kB 27.1MB/s eta 0:00:01\r\u001b[K     |███████▎                        | 163kB 27.1MB/s eta 0:00:01\r\u001b[K     |███████▊                        | 174kB 27.1MB/s eta 0:00:01\r\u001b[K     |████████▏                       | 184kB 27.1MB/s eta 0:00:01\r\u001b[K     |████████▋                       | 194kB 27.1MB/s eta 0:00:01\r\u001b[K     |█████████                       | 204kB 27.1MB/s eta 0:00:01\r\u001b[K     |█████████▋                      | 215kB 27.1MB/s eta 0:00:01\r\u001b[K     |██████████                      | 225kB 27.1MB/s eta 0:00:01\r\u001b[K     |██████████▌                     | 235kB 27.1MB/s eta 0:00:01\r\u001b[K     |███████████                     | 245kB 27.1MB/s eta 0:00:01\r\u001b[K     |███████████▍                    | 256kB 27.1MB/s eta 0:00:01\r\u001b[K     |███████████▉                    | 266kB 27.1MB/s eta 0:00:01\r\u001b[K     |████████████▎                   | 276kB 27.1MB/s eta 0:00:01\r\u001b[K     |████████████▊                   | 286kB 27.1MB/s eta 0:00:01\r\u001b[K     |█████████████▏                  | 296kB 27.1MB/s eta 0:00:01\r\u001b[K     |█████████████▋                  | 307kB 27.1MB/s eta 0:00:01\r\u001b[K     |██████████████                  | 317kB 27.1MB/s eta 0:00:01\r\u001b[K     |██████████████▋                 | 327kB 27.1MB/s eta 0:00:01\r\u001b[K     |███████████████                 | 337kB 27.1MB/s eta 0:00:01\r\u001b[K     |███████████████▌                | 348kB 27.1MB/s eta 0:00:01\r\u001b[K     |████████████████                | 358kB 27.1MB/s eta 0:00:01\r\u001b[K     |████████████████▍               | 368kB 27.1MB/s eta 0:00:01\r\u001b[K     |████████████████▉               | 378kB 27.1MB/s eta 0:00:01\r\u001b[K     |█████████████████▎              | 389kB 27.1MB/s eta 0:00:01\r\u001b[K     |█████████████████▊              | 399kB 27.1MB/s eta 0:00:01\r\u001b[K     |██████████████████▏             | 409kB 27.1MB/s eta 0:00:01\r\u001b[K     |██████████████████▋             | 419kB 27.1MB/s eta 0:00:01\r\u001b[K     |███████████████████▏            | 430kB 27.1MB/s eta 0:00:01\r\u001b[K     |███████████████████▋            | 440kB 27.1MB/s eta 0:00:01\r\u001b[K     |████████████████████            | 450kB 27.1MB/s eta 0:00:01\r\u001b[K     |████████████████████▌           | 460kB 27.1MB/s eta 0:00:01\r\u001b[K     |█████████████████████           | 471kB 27.1MB/s eta 0:00:01\r\u001b[K     |█████████████████████▍          | 481kB 27.1MB/s eta 0:00:01\r\u001b[K     |█████████████████████▉          | 491kB 27.1MB/s eta 0:00:01\r\u001b[K     |██████████████████████▎         | 501kB 27.1MB/s eta 0:00:01\r\u001b[K     |██████████████████████▊         | 512kB 27.1MB/s eta 0:00:01\r\u001b[K     |███████████████████████▏        | 522kB 27.1MB/s eta 0:00:01\r\u001b[K     |███████████████████████▋        | 532kB 27.1MB/s eta 0:00:01\r\u001b[K     |████████████████████████▏       | 542kB 27.1MB/s eta 0:00:01\r\u001b[K     |████████████████████████▋       | 552kB 27.1MB/s eta 0:00:01\r\u001b[K     |█████████████████████████       | 563kB 27.1MB/s eta 0:00:01\r\u001b[K     |█████████████████████████▌      | 573kB 27.1MB/s eta 0:00:01\r\u001b[K     |██████████████████████████      | 583kB 27.1MB/s eta 0:00:01\r\u001b[K     |██████████████████████████▍     | 593kB 27.1MB/s eta 0:00:01\r\u001b[K     |██████████████████████████▉     | 604kB 27.1MB/s eta 0:00:01\r\u001b[K     |███████████████████████████▎    | 614kB 27.1MB/s eta 0:00:01\r\u001b[K     |███████████████████████████▊    | 624kB 27.1MB/s eta 0:00:01\r\u001b[K     |████████████████████████████▏   | 634kB 27.1MB/s eta 0:00:01\r\u001b[K     |████████████████████████████▊   | 645kB 27.1MB/s eta 0:00:01\r\u001b[K     |█████████████████████████████▏  | 655kB 27.1MB/s eta 0:00:01\r\u001b[K     |█████████████████████████████▋  | 665kB 27.1MB/s eta 0:00:01\r\u001b[K     |██████████████████████████████  | 675kB 27.1MB/s eta 0:00:01\r\u001b[K     |██████████████████████████████▌ | 686kB 27.1MB/s eta 0:00:01\r\u001b[K     |███████████████████████████████ | 696kB 27.1MB/s eta 0:00:01\r\u001b[K     |███████████████████████████████▍| 706kB 27.1MB/s eta 0:00:01\r\u001b[K     |███████████████████████████████▉| 716kB 27.1MB/s eta 0:00:01\r\u001b[K     |████████████████████████████████| 727kB 27.1MB/s \n",
            "\u001b[K     |████████████████████████████████| 204kB 50.9MB/s \n",
            "\u001b[K     |████████████████████████████████| 1.2MB 47.5MB/s \n",
            "\u001b[K     |████████████████████████████████| 51kB 8.4MB/s \n",
            "\u001b[K     |████████████████████████████████| 61kB 9.8MB/s \n",
            "\u001b[K     |████████████████████████████████| 51kB 9.0MB/s \n",
            "\u001b[?25hMounted at /content/gdrive\n"
          ],
          "name": "stdout"
        }
      ]
    },
    {
      "cell_type": "code",
      "metadata": {
        "id": "NARm6qOA8Ae6"
      },
      "source": [
        "#hide\n",
        "from fastbook import *"
      ],
      "execution_count": 2,
      "outputs": []
    },
    {
      "cell_type": "code",
      "metadata": {
        "colab": {
          "base_uri": "https://localhost:8080/",
          "height": 17
        },
        "id": "rMW4GU1tBb3b",
        "outputId": "18b7fa7d-20b2-422b-ed56-1ac0baed5864"
      },
      "source": [
        "from fastai.vision.all import *\n",
        "path = untar_data(URLs.PETS)"
      ],
      "execution_count": 3,
      "outputs": [
        {
          "output_type": "display_data",
          "data": {
            "text/html": [
              ""
            ],
            "text/plain": [
              "<IPython.core.display.HTML object>"
            ]
          },
          "metadata": {
            "tags": []
          }
        }
      ]
    },
    {
      "cell_type": "code",
      "metadata": {
        "id": "v7QxbILYBzRy"
      },
      "source": [
        "#hide\n",
        "Path.BASE_PATH = path"
      ],
      "execution_count": 4,
      "outputs": []
    },
    {
      "cell_type": "code",
      "metadata": {
        "colab": {
          "base_uri": "https://localhost:8080/"
        },
        "id": "05kgayYWB7dl",
        "outputId": "3a059aa7-cd98-48fa-dff2-8291ce90a070"
      },
      "source": [
        "path.ls()"
      ],
      "execution_count": null,
      "outputs": [
        {
          "output_type": "execute_result",
          "data": {
            "text/plain": [
              "(#2) [Path('annotations'),Path('images')]"
            ]
          },
          "metadata": {
            "tags": []
          },
          "execution_count": 8
        }
      ]
    },
    {
      "cell_type": "code",
      "metadata": {
        "colab": {
          "base_uri": "https://localhost:8080/"
        },
        "id": "tUG66H6-Drl1",
        "outputId": "bb6d470c-9ea1-4d48-a890-4bc787c16987"
      },
      "source": [
        "(path/'images').ls()[0]"
      ],
      "execution_count": null,
      "outputs": [
        {
          "output_type": "execute_result",
          "data": {
            "text/plain": [
              "Path('images/shiba_inu_79.jpg')"
            ]
          },
          "metadata": {
            "tags": []
          },
          "execution_count": 12
        }
      ]
    },
    {
      "cell_type": "code",
      "metadata": {
        "colab": {
          "base_uri": "https://localhost:8080/"
        },
        "id": "nOf6mTHvVIn4",
        "outputId": "3095dd65-e97e-4185-c9b8-5c30be184763"
      },
      "source": [
        "fname = (path/'images').ls()[0]\n",
        "fname"
      ],
      "execution_count": null,
      "outputs": [
        {
          "output_type": "execute_result",
          "data": {
            "text/plain": [
              "Path('images/shiba_inu_79.jpg')"
            ]
          },
          "metadata": {
            "tags": []
          },
          "execution_count": 6
        }
      ]
    },
    {
      "cell_type": "code",
      "metadata": {
        "colab": {
          "base_uri": "https://localhost:8080/"
        },
        "id": "SuHKRQ4KP4Gb",
        "outputId": "3c05fdb3-2c13-4ebb-f775-d120e8b15845"
      },
      "source": [
        "re.findall(r'(.+)_\\d+.jpg',fname.name)"
      ],
      "execution_count": null,
      "outputs": [
        {
          "output_type": "execute_result",
          "data": {
            "text/plain": [
              "['shiba_inu']"
            ]
          },
          "metadata": {
            "tags": []
          },
          "execution_count": 7
        }
      ]
    },
    {
      "cell_type": "code",
      "metadata": {
        "id": "tpUBlzRu48eo"
      },
      "source": [
        "pets = DataBlock(blocks = (ImageBlock, CategoryBlock),\n",
        "                 get_items=get_image_files, \n",
        "                 splitter=RandomSplitter(seed=42),\n",
        "                 get_y=using_attr(RegexLabeller(r'(.+)_\\d+.jpg$'), 'name'),\n",
        "                 item_tfms=Resize(460),\n",
        "                 batch_tfms=aug_transforms(size=224, min_scale=0.75))\n",
        "dls = pets.dataloaders(path/\"images\")"
      ],
      "execution_count": 5,
      "outputs": []
    },
    {
      "cell_type": "markdown",
      "metadata": {
        "id": "Qo89oEp6Khm7"
      },
      "source": [
        "#BASELINE"
      ]
    },
    {
      "cell_type": "code",
      "metadata": {
        "colab": {
          "base_uri": "https://localhost:8080/",
          "height": 763
        },
        "id": "8govJ6dd7EoC",
        "outputId": "44a02e77-b192-4f75-ffb3-5c7cf18b193a"
      },
      "source": [
        "#Baseline\n",
        "learn = cnn_learner(dls, resnet34, metrics=error_rate)\n",
        "learn.fine_tune(21)"
      ],
      "execution_count": null,
      "outputs": [
        {
          "output_type": "display_data",
          "data": {
            "text/html": [
              "<table border=\"1\" class=\"dataframe\">\n",
              "  <thead>\n",
              "    <tr style=\"text-align: left;\">\n",
              "      <th>epoch</th>\n",
              "      <th>train_loss</th>\n",
              "      <th>valid_loss</th>\n",
              "      <th>error_rate</th>\n",
              "      <th>time</th>\n",
              "    </tr>\n",
              "  </thead>\n",
              "  <tbody>\n",
              "    <tr>\n",
              "      <td>0</td>\n",
              "      <td>1.457404</td>\n",
              "      <td>0.313791</td>\n",
              "      <td>0.100812</td>\n",
              "      <td>01:06</td>\n",
              "    </tr>\n",
              "  </tbody>\n",
              "</table>"
            ],
            "text/plain": [
              "<IPython.core.display.HTML object>"
            ]
          },
          "metadata": {
            "tags": []
          }
        },
        {
          "output_type": "display_data",
          "data": {
            "text/html": [
              "<table border=\"1\" class=\"dataframe\">\n",
              "  <thead>\n",
              "    <tr style=\"text-align: left;\">\n",
              "      <th>epoch</th>\n",
              "      <th>train_loss</th>\n",
              "      <th>valid_loss</th>\n",
              "      <th>error_rate</th>\n",
              "      <th>time</th>\n",
              "    </tr>\n",
              "  </thead>\n",
              "  <tbody>\n",
              "    <tr>\n",
              "      <td>0</td>\n",
              "      <td>0.447311</td>\n",
              "      <td>0.258424</td>\n",
              "      <td>0.079838</td>\n",
              "      <td>01:10</td>\n",
              "    </tr>\n",
              "    <tr>\n",
              "      <td>1</td>\n",
              "      <td>0.332303</td>\n",
              "      <td>0.242307</td>\n",
              "      <td>0.076455</td>\n",
              "      <td>01:11</td>\n",
              "    </tr>\n",
              "    <tr>\n",
              "      <td>2</td>\n",
              "      <td>0.276141</td>\n",
              "      <td>0.271085</td>\n",
              "      <td>0.087280</td>\n",
              "      <td>01:11</td>\n",
              "    </tr>\n",
              "    <tr>\n",
              "      <td>3</td>\n",
              "      <td>0.265817</td>\n",
              "      <td>0.289270</td>\n",
              "      <td>0.091340</td>\n",
              "      <td>01:11</td>\n",
              "    </tr>\n",
              "    <tr>\n",
              "      <td>4</td>\n",
              "      <td>0.238389</td>\n",
              "      <td>0.297061</td>\n",
              "      <td>0.085927</td>\n",
              "      <td>01:11</td>\n",
              "    </tr>\n",
              "    <tr>\n",
              "      <td>5</td>\n",
              "      <td>0.209096</td>\n",
              "      <td>0.329860</td>\n",
              "      <td>0.092016</td>\n",
              "      <td>01:11</td>\n",
              "    </tr>\n",
              "    <tr>\n",
              "      <td>6</td>\n",
              "      <td>0.197988</td>\n",
              "      <td>0.315809</td>\n",
              "      <td>0.100812</td>\n",
              "      <td>01:12</td>\n",
              "    </tr>\n",
              "    <tr>\n",
              "      <td>7</td>\n",
              "      <td>0.157938</td>\n",
              "      <td>0.285131</td>\n",
              "      <td>0.080514</td>\n",
              "      <td>01:11</td>\n",
              "    </tr>\n",
              "    <tr>\n",
              "      <td>8</td>\n",
              "      <td>0.154189</td>\n",
              "      <td>0.288824</td>\n",
              "      <td>0.083897</td>\n",
              "      <td>01:11</td>\n",
              "    </tr>\n",
              "    <tr>\n",
              "      <td>9</td>\n",
              "      <td>0.118407</td>\n",
              "      <td>0.327545</td>\n",
              "      <td>0.075101</td>\n",
              "      <td>01:12</td>\n",
              "    </tr>\n",
              "    <tr>\n",
              "      <td>10</td>\n",
              "      <td>0.094432</td>\n",
              "      <td>0.318225</td>\n",
              "      <td>0.081867</td>\n",
              "      <td>01:12</td>\n",
              "    </tr>\n",
              "    <tr>\n",
              "      <td>11</td>\n",
              "      <td>0.074719</td>\n",
              "      <td>0.281468</td>\n",
              "      <td>0.073072</td>\n",
              "      <td>01:12</td>\n",
              "    </tr>\n",
              "    <tr>\n",
              "      <td>12</td>\n",
              "      <td>0.062836</td>\n",
              "      <td>0.357441</td>\n",
              "      <td>0.079838</td>\n",
              "      <td>01:12</td>\n",
              "    </tr>\n",
              "    <tr>\n",
              "      <td>13</td>\n",
              "      <td>0.058477</td>\n",
              "      <td>0.299557</td>\n",
              "      <td>0.073072</td>\n",
              "      <td>01:11</td>\n",
              "    </tr>\n",
              "    <tr>\n",
              "      <td>14</td>\n",
              "      <td>0.041709</td>\n",
              "      <td>0.289980</td>\n",
              "      <td>0.066306</td>\n",
              "      <td>01:12</td>\n",
              "    </tr>\n",
              "    <tr>\n",
              "      <td>15</td>\n",
              "      <td>0.037834</td>\n",
              "      <td>0.280110</td>\n",
              "      <td>0.064276</td>\n",
              "      <td>01:11</td>\n",
              "    </tr>\n",
              "    <tr>\n",
              "      <td>16</td>\n",
              "      <td>0.030959</td>\n",
              "      <td>0.280168</td>\n",
              "      <td>0.064953</td>\n",
              "      <td>01:11</td>\n",
              "    </tr>\n",
              "    <tr>\n",
              "      <td>17</td>\n",
              "      <td>0.021953</td>\n",
              "      <td>0.274433</td>\n",
              "      <td>0.062923</td>\n",
              "      <td>01:11</td>\n",
              "    </tr>\n",
              "    <tr>\n",
              "      <td>18</td>\n",
              "      <td>0.014403</td>\n",
              "      <td>0.262363</td>\n",
              "      <td>0.058187</td>\n",
              "      <td>01:11</td>\n",
              "    </tr>\n",
              "    <tr>\n",
              "      <td>19</td>\n",
              "      <td>0.015661</td>\n",
              "      <td>0.269073</td>\n",
              "      <td>0.063599</td>\n",
              "      <td>01:12</td>\n",
              "    </tr>\n",
              "    <tr>\n",
              "      <td>20</td>\n",
              "      <td>0.017959</td>\n",
              "      <td>0.268406</td>\n",
              "      <td>0.060217</td>\n",
              "      <td>01:11</td>\n",
              "    </tr>\n",
              "  </tbody>\n",
              "</table>"
            ],
            "text/plain": [
              "<IPython.core.display.HTML object>"
            ]
          },
          "metadata": {
            "tags": []
          }
        }
      ]
    },
    {
      "cell_type": "code",
      "metadata": {
        "id": "yMfOQ_u10IMN",
        "colab": {
          "base_uri": "https://localhost:8080/",
          "height": 265
        },
        "outputId": "89583f6e-a231-474a-e091-92e601346f5f"
      },
      "source": [
        "learn.recorder.plot_loss()"
      ],
      "execution_count": null,
      "outputs": [
        {
          "output_type": "display_data",
          "data": {
            "image/png": "[encoded data removed]",
            "text/plain": [
              "<Figure size 432x288 with 1 Axes>"
            ]
          },
          "metadata": {
            "tags": [],
            "needs_background": "light"
          }
        }
      ]
    },
    {
      "cell_type": "markdown",
      "metadata": {
        "id": "D5aWseObKnU9"
      },
      "source": [
        "#LR Search"
      ]
    },
    {
      "cell_type": "code",
      "metadata": {
        "id": "yKBb_6LcxK_v",
        "colab": {
          "base_uri": "https://localhost:8080/",
          "height": 352,
          "referenced_widgets": [
            "d740aa26bb3f4fabb65357b38737e733",
            "53198fb207f84f8fbdee7a2de4024411",
            "0045bbd202fd494cbb98fa7e701d5106",
            "065920bdc94e416e9cfe5869f48ed3ab",
            "1ba8f462cc964f108518b4eda2d57d75",
            "cc444d27f1bb4f49af3ad1e90a23a3ec",
            "546cd47cf88b473481ca6b34bf869a3a",
            "54d99d79a99641f8a445652e484bf84f"
          ]
        },
        "outputId": "ad5c3657-471b-4c39-f8c7-7fc521ab5de4"
      },
      "source": [
        "#Find a good lr and train again\n",
        "learn = cnn_learner(dls, resnet34, metrics=error_rate)\n",
        "lr_min,lr_steep = learn.lr_find()"
      ],
      "execution_count": null,
      "outputs": [
        {
          "output_type": "stream",
          "text": [
            "Downloading: \"https://download.pytorch.org/models/resnet34-333f7ec4.pth\" to /root/.cache/torch/hub/checkpoints/resnet34-333f7ec4.pth\n"
          ],
          "name": "stderr"
        },
        {
          "output_type": "display_data",
          "data": {
            "application/vnd.jupyter.widget-view+json": {
              "model_id": "d740aa26bb3f4fabb65357b38737e733",
              "version_minor": 0,
              "version_major": 2
            },
            "text/plain": [
              "HBox(children=(FloatProgress(value=0.0, max=87306240.0), HTML(value='')))"
            ]
          },
          "metadata": {
            "tags": []
          }
        },
        {
          "output_type": "stream",
          "text": [
            "\n"
          ],
          "name": "stdout"
        },
        {
          "output_type": "display_data",
          "data": {
            "text/html": [
              ""
            ],
            "text/plain": [
              "<IPython.core.display.HTML object>"
            ]
          },
          "metadata": {
            "tags": []
          }
        },
        {
          "output_type": "display_data",
          "data": {
            "image/png": "[encoded data removed]",
            "text/plain": [
              "<Figure size 432x288 with 1 Axes>"
            ]
          },
          "metadata": {
            "tags": [],
            "needs_background": "light"
          }
        }
      ]
    },
    {
      "cell_type": "code",
      "metadata": {
        "id": "_YVJm-LBxkdN",
        "colab": {
          "base_uri": "https://localhost:8080/"
        },
        "outputId": "1b81a1ed-840c-4d3f-bdb6-696606952056"
      },
      "source": [
        "#Min is (lr for smallest loss)/ and steep the point the one with higher gradient\n",
        "print(f\"Minimum/10: {lr_min:.2e}, steepest point: {lr_steep:.2e}\")"
      ],
      "execution_count": null,
      "outputs": [
        {
          "output_type": "stream",
          "text": [
            "Minimum/10: 8.32e-03, steepest point: 3.02e-03\n"
          ],
          "name": "stdout"
        }
      ]
    },
    {
      "cell_type": "code",
      "metadata": {
        "id": "PZS031egx4Yg",
        "colab": {
          "base_uri": "https://localhost:8080/",
          "height": 763
        },
        "outputId": "31e5d3a2-e3b2-4b29-f642-4106dd9cfd80"
      },
      "source": [
        "#Take a lr smaller than steepest\n",
        "learn = cnn_learner(dls, resnet34, metrics=error_rate)\n",
        "learn.fine_tune(21, base_lr=3e-3)"
      ],
      "execution_count": null,
      "outputs": [
        {
          "output_type": "display_data",
          "data": {
            "text/html": [
              "<table border=\"1\" class=\"dataframe\">\n",
              "  <thead>\n",
              "    <tr style=\"text-align: left;\">\n",
              "      <th>epoch</th>\n",
              "      <th>train_loss</th>\n",
              "      <th>valid_loss</th>\n",
              "      <th>error_rate</th>\n",
              "      <th>time</th>\n",
              "    </tr>\n",
              "  </thead>\n",
              "  <tbody>\n",
              "    <tr>\n",
              "      <td>0</td>\n",
              "      <td>1.356840</td>\n",
              "      <td>0.300390</td>\n",
              "      <td>0.102842</td>\n",
              "      <td>01:53</td>\n",
              "    </tr>\n",
              "  </tbody>\n",
              "</table>"
            ],
            "text/plain": [
              "<IPython.core.display.HTML object>"
            ]
          },
          "metadata": {
            "tags": []
          }
        },
        {
          "output_type": "display_data",
          "data": {
            "text/html": [
              "<table border=\"1\" class=\"dataframe\">\n",
              "  <thead>\n",
              "    <tr style=\"text-align: left;\">\n",
              "      <th>epoch</th>\n",
              "      <th>train_loss</th>\n",
              "      <th>valid_loss</th>\n",
              "      <th>error_rate</th>\n",
              "      <th>time</th>\n",
              "    </tr>\n",
              "  </thead>\n",
              "  <tbody>\n",
              "    <tr>\n",
              "      <td>0</td>\n",
              "      <td>0.429641</td>\n",
              "      <td>0.221176</td>\n",
              "      <td>0.075778</td>\n",
              "      <td>02:26</td>\n",
              "    </tr>\n",
              "    <tr>\n",
              "      <td>1</td>\n",
              "      <td>0.326058</td>\n",
              "      <td>0.234780</td>\n",
              "      <td>0.078484</td>\n",
              "      <td>02:26</td>\n",
              "    </tr>\n",
              "    <tr>\n",
              "      <td>2</td>\n",
              "      <td>0.284854</td>\n",
              "      <td>0.233227</td>\n",
              "      <td>0.073748</td>\n",
              "      <td>02:26</td>\n",
              "    </tr>\n",
              "    <tr>\n",
              "      <td>3</td>\n",
              "      <td>0.259209</td>\n",
              "      <td>0.347071</td>\n",
              "      <td>0.100135</td>\n",
              "      <td>02:26</td>\n",
              "    </tr>\n",
              "    <tr>\n",
              "      <td>4</td>\n",
              "      <td>0.290832</td>\n",
              "      <td>0.337407</td>\n",
              "      <td>0.094723</td>\n",
              "      <td>02:26</td>\n",
              "    </tr>\n",
              "    <tr>\n",
              "      <td>5</td>\n",
              "      <td>0.295829</td>\n",
              "      <td>0.354322</td>\n",
              "      <td>0.103518</td>\n",
              "      <td>02:26</td>\n",
              "    </tr>\n",
              "    <tr>\n",
              "      <td>6</td>\n",
              "      <td>0.282549</td>\n",
              "      <td>0.461046</td>\n",
              "      <td>0.122463</td>\n",
              "      <td>02:26</td>\n",
              "    </tr>\n",
              "    <tr>\n",
              "      <td>7</td>\n",
              "      <td>0.225695</td>\n",
              "      <td>0.407159</td>\n",
              "      <td>0.102842</td>\n",
              "      <td>02:26</td>\n",
              "    </tr>\n",
              "    <tr>\n",
              "      <td>8</td>\n",
              "      <td>0.176647</td>\n",
              "      <td>0.411233</td>\n",
              "      <td>0.102842</td>\n",
              "      <td>02:26</td>\n",
              "    </tr>\n",
              "    <tr>\n",
              "      <td>9</td>\n",
              "      <td>0.157266</td>\n",
              "      <td>0.369463</td>\n",
              "      <td>0.100812</td>\n",
              "      <td>02:26</td>\n",
              "    </tr>\n",
              "    <tr>\n",
              "      <td>10</td>\n",
              "      <td>0.130030</td>\n",
              "      <td>0.377349</td>\n",
              "      <td>0.089986</td>\n",
              "      <td>02:26</td>\n",
              "    </tr>\n",
              "    <tr>\n",
              "      <td>11</td>\n",
              "      <td>0.107084</td>\n",
              "      <td>0.303148</td>\n",
              "      <td>0.076455</td>\n",
              "      <td>02:26</td>\n",
              "    </tr>\n",
              "    <tr>\n",
              "      <td>12</td>\n",
              "      <td>0.086754</td>\n",
              "      <td>0.335490</td>\n",
              "      <td>0.078484</td>\n",
              "      <td>02:25</td>\n",
              "    </tr>\n",
              "    <tr>\n",
              "      <td>13</td>\n",
              "      <td>0.065951</td>\n",
              "      <td>0.336809</td>\n",
              "      <td>0.076455</td>\n",
              "      <td>02:26</td>\n",
              "    </tr>\n",
              "    <tr>\n",
              "      <td>14</td>\n",
              "      <td>0.048347</td>\n",
              "      <td>0.297040</td>\n",
              "      <td>0.071042</td>\n",
              "      <td>02:26</td>\n",
              "    </tr>\n",
              "    <tr>\n",
              "      <td>15</td>\n",
              "      <td>0.039908</td>\n",
              "      <td>0.281037</td>\n",
              "      <td>0.069012</td>\n",
              "      <td>02:26</td>\n",
              "    </tr>\n",
              "    <tr>\n",
              "      <td>16</td>\n",
              "      <td>0.036571</td>\n",
              "      <td>0.266515</td>\n",
              "      <td>0.065629</td>\n",
              "      <td>02:26</td>\n",
              "    </tr>\n",
              "    <tr>\n",
              "      <td>17</td>\n",
              "      <td>0.025333</td>\n",
              "      <td>0.283581</td>\n",
              "      <td>0.069012</td>\n",
              "      <td>02:26</td>\n",
              "    </tr>\n",
              "    <tr>\n",
              "      <td>18</td>\n",
              "      <td>0.019310</td>\n",
              "      <td>0.267801</td>\n",
              "      <td>0.065629</td>\n",
              "      <td>02:26</td>\n",
              "    </tr>\n",
              "    <tr>\n",
              "      <td>19</td>\n",
              "      <td>0.015371</td>\n",
              "      <td>0.253905</td>\n",
              "      <td>0.065629</td>\n",
              "      <td>02:26</td>\n",
              "    </tr>\n",
              "    <tr>\n",
              "      <td>20</td>\n",
              "      <td>0.012551</td>\n",
              "      <td>0.256885</td>\n",
              "      <td>0.062923</td>\n",
              "      <td>02:26</td>\n",
              "    </tr>\n",
              "  </tbody>\n",
              "</table>"
            ],
            "text/plain": [
              "<IPython.core.display.HTML object>"
            ]
          },
          "metadata": {
            "tags": []
          }
        }
      ]
    },
    {
      "cell_type": "code",
      "metadata": {
        "id": "3Y-u941K0Gua",
        "colab": {
          "base_uri": "https://localhost:8080/",
          "height": 267
        },
        "outputId": "97539e5b-c2c4-4110-df5f-a6dd245ccfde"
      },
      "source": [
        "learn.recorder.plot_loss()"
      ],
      "execution_count": null,
      "outputs": [
        {
          "output_type": "display_data",
          "data": {
            "image/png": "[encoded data removed]",
            "text/plain": [
              "<Figure size 432x288 with 1 Axes>"
            ]
          },
          "metadata": {
            "tags": [],
            "needs_background": "light"
          }
        }
      ]
    },
    {
      "cell_type": "markdown",
      "metadata": {
        "id": "E4OWCXIHK8HH"
      },
      "source": [
        "#Unfreeze"
      ]
    },
    {
      "cell_type": "code",
      "metadata": {
        "id": "itH-Atlf0VsR"
      },
      "source": [
        "#We have calculated best lr with the old layers of resnet34 freeze\n",
        "#but fine_tune train once with the layers freezed and the num of epochs unfreeze\n",
        "#Lets calculate new lr"
      ],
      "execution_count": null,
      "outputs": []
    },
    {
      "cell_type": "code",
      "metadata": {
        "id": "ZyVzDv5U3MxE",
        "colab": {
          "base_uri": "https://localhost:8080/",
          "height": 142
        },
        "outputId": "a1e2181b-1349-4cc2-912d-0a2e6390abf2"
      },
      "source": [
        "#First one cycle before we unfreeze\n",
        "learn = cnn_learner(dls, resnet34, metrics=error_rate)\n",
        "learn.fit_one_cycle(3, 3e-3)"
      ],
      "execution_count": null,
      "outputs": [
        {
          "output_type": "display_data",
          "data": {
            "text/html": [
              "<table border=\"1\" class=\"dataframe\">\n",
              "  <thead>\n",
              "    <tr style=\"text-align: left;\">\n",
              "      <th>epoch</th>\n",
              "      <th>train_loss</th>\n",
              "      <th>valid_loss</th>\n",
              "      <th>error_rate</th>\n",
              "      <th>time</th>\n",
              "    </tr>\n",
              "  </thead>\n",
              "  <tbody>\n",
              "    <tr>\n",
              "      <td>0</td>\n",
              "      <td>1.176154</td>\n",
              "      <td>0.309106</td>\n",
              "      <td>0.102165</td>\n",
              "      <td>01:53</td>\n",
              "    </tr>\n",
              "    <tr>\n",
              "      <td>1</td>\n",
              "      <td>0.535097</td>\n",
              "      <td>0.243447</td>\n",
              "      <td>0.078484</td>\n",
              "      <td>01:53</td>\n",
              "    </tr>\n",
              "    <tr>\n",
              "      <td>2</td>\n",
              "      <td>0.324522</td>\n",
              "      <td>0.196554</td>\n",
              "      <td>0.066982</td>\n",
              "      <td>01:52</td>\n",
              "    </tr>\n",
              "  </tbody>\n",
              "</table>"
            ],
            "text/plain": [
              "<IPython.core.display.HTML object>"
            ]
          },
          "metadata": {
            "tags": []
          }
        }
      ]
    },
    {
      "cell_type": "code",
      "metadata": {
        "id": "YRXnPlps3bPr"
      },
      "source": [
        "learn.unfreeze()"
      ],
      "execution_count": null,
      "outputs": []
    },
    {
      "cell_type": "code",
      "metadata": {
        "id": "O3AfTHLd3d_b",
        "colab": {
          "base_uri": "https://localhost:8080/",
          "height": 300
        },
        "outputId": "4c528227-b6e1-4f2d-d9e6-e07d5e2c74ab"
      },
      "source": [
        "learn.lr_find()"
      ],
      "execution_count": null,
      "outputs": [
        {
          "output_type": "display_data",
          "data": {
            "text/html": [
              ""
            ],
            "text/plain": [
              "<IPython.core.display.HTML object>"
            ]
          },
          "metadata": {
            "tags": []
          }
        },
        {
          "output_type": "execute_result",
          "data": {
            "text/plain": [
              "SuggestedLRs(lr_min=2.0892961401841602e-06, lr_steep=2.75422871709452e-06)"
            ]
          },
          "metadata": {
            "tags": []
          },
          "execution_count": 14
        },
        {
          "output_type": "display_data",
          "data": {
            "image/png": "[encoded data removed]",
            "text/plain": [
              "<Figure size 432x288 with 1 Axes>"
            ]
          },
          "metadata": {
            "tags": [],
            "needs_background": "light"
          }
        }
      ]
    },
    {
      "cell_type": "code",
      "metadata": {
        "id": "2sXmKMGb3i4V",
        "colab": {
          "base_uri": "https://localhost:8080/",
          "height": 669
        },
        "outputId": "dd7a13bc-69d3-4c8b-cbd8-ccee6c958c4d"
      },
      "source": [
        "learn.fit_one_cycle(20, lr_max=1e-5)"
      ],
      "execution_count": null,
      "outputs": [
        {
          "output_type": "display_data",
          "data": {
            "text/html": [
              "<table border=\"1\" class=\"dataframe\">\n",
              "  <thead>\n",
              "    <tr style=\"text-align: left;\">\n",
              "      <th>epoch</th>\n",
              "      <th>train_loss</th>\n",
              "      <th>valid_loss</th>\n",
              "      <th>error_rate</th>\n",
              "      <th>time</th>\n",
              "    </tr>\n",
              "  </thead>\n",
              "  <tbody>\n",
              "    <tr>\n",
              "      <td>0</td>\n",
              "      <td>0.262394</td>\n",
              "      <td>0.199029</td>\n",
              "      <td>0.068336</td>\n",
              "      <td>02:26</td>\n",
              "    </tr>\n",
              "    <tr>\n",
              "      <td>1</td>\n",
              "      <td>0.261125</td>\n",
              "      <td>0.196307</td>\n",
              "      <td>0.069689</td>\n",
              "      <td>02:26</td>\n",
              "    </tr>\n",
              "    <tr>\n",
              "      <td>2</td>\n",
              "      <td>0.250707</td>\n",
              "      <td>0.188564</td>\n",
              "      <td>0.065629</td>\n",
              "      <td>02:26</td>\n",
              "    </tr>\n",
              "    <tr>\n",
              "      <td>3</td>\n",
              "      <td>0.236384</td>\n",
              "      <td>0.184253</td>\n",
              "      <td>0.062246</td>\n",
              "      <td>02:27</td>\n",
              "    </tr>\n",
              "    <tr>\n",
              "      <td>4</td>\n",
              "      <td>0.217095</td>\n",
              "      <td>0.183399</td>\n",
              "      <td>0.060893</td>\n",
              "      <td>02:26</td>\n",
              "    </tr>\n",
              "    <tr>\n",
              "      <td>5</td>\n",
              "      <td>0.193020</td>\n",
              "      <td>0.174025</td>\n",
              "      <td>0.059540</td>\n",
              "      <td>02:26</td>\n",
              "    </tr>\n",
              "    <tr>\n",
              "      <td>6</td>\n",
              "      <td>0.180987</td>\n",
              "      <td>0.170581</td>\n",
              "      <td>0.059540</td>\n",
              "      <td>02:26</td>\n",
              "    </tr>\n",
              "    <tr>\n",
              "      <td>7</td>\n",
              "      <td>0.177979</td>\n",
              "      <td>0.170845</td>\n",
              "      <td>0.058863</td>\n",
              "      <td>02:26</td>\n",
              "    </tr>\n",
              "    <tr>\n",
              "      <td>8</td>\n",
              "      <td>0.159546</td>\n",
              "      <td>0.162977</td>\n",
              "      <td>0.056157</td>\n",
              "      <td>02:26</td>\n",
              "    </tr>\n",
              "    <tr>\n",
              "      <td>9</td>\n",
              "      <td>0.142827</td>\n",
              "      <td>0.163992</td>\n",
              "      <td>0.054804</td>\n",
              "      <td>02:26</td>\n",
              "    </tr>\n",
              "    <tr>\n",
              "      <td>10</td>\n",
              "      <td>0.126342</td>\n",
              "      <td>0.164700</td>\n",
              "      <td>0.054127</td>\n",
              "      <td>02:26</td>\n",
              "    </tr>\n",
              "    <tr>\n",
              "      <td>11</td>\n",
              "      <td>0.120000</td>\n",
              "      <td>0.162236</td>\n",
              "      <td>0.055480</td>\n",
              "      <td>02:26</td>\n",
              "    </tr>\n",
              "    <tr>\n",
              "      <td>12</td>\n",
              "      <td>0.124765</td>\n",
              "      <td>0.161720</td>\n",
              "      <td>0.054127</td>\n",
              "      <td>02:26</td>\n",
              "    </tr>\n",
              "    <tr>\n",
              "      <td>13</td>\n",
              "      <td>0.112172</td>\n",
              "      <td>0.168481</td>\n",
              "      <td>0.054804</td>\n",
              "      <td>02:26</td>\n",
              "    </tr>\n",
              "    <tr>\n",
              "      <td>14</td>\n",
              "      <td>0.109670</td>\n",
              "      <td>0.162840</td>\n",
              "      <td>0.054127</td>\n",
              "      <td>02:26</td>\n",
              "    </tr>\n",
              "    <tr>\n",
              "      <td>15</td>\n",
              "      <td>0.107406</td>\n",
              "      <td>0.160422</td>\n",
              "      <td>0.052774</td>\n",
              "      <td>02:26</td>\n",
              "    </tr>\n",
              "    <tr>\n",
              "      <td>16</td>\n",
              "      <td>0.104249</td>\n",
              "      <td>0.166975</td>\n",
              "      <td>0.056157</td>\n",
              "      <td>02:26</td>\n",
              "    </tr>\n",
              "    <tr>\n",
              "      <td>17</td>\n",
              "      <td>0.102764</td>\n",
              "      <td>0.161539</td>\n",
              "      <td>0.054127</td>\n",
              "      <td>02:26</td>\n",
              "    </tr>\n",
              "    <tr>\n",
              "      <td>18</td>\n",
              "      <td>0.103999</td>\n",
              "      <td>0.166556</td>\n",
              "      <td>0.052097</td>\n",
              "      <td>02:26</td>\n",
              "    </tr>\n",
              "    <tr>\n",
              "      <td>19</td>\n",
              "      <td>0.100786</td>\n",
              "      <td>0.164067</td>\n",
              "      <td>0.052774</td>\n",
              "      <td>02:26</td>\n",
              "    </tr>\n",
              "  </tbody>\n",
              "</table>"
            ],
            "text/plain": [
              "<IPython.core.display.HTML object>"
            ]
          },
          "metadata": {
            "tags": []
          }
        }
      ]
    },
    {
      "cell_type": "code",
      "metadata": {
        "id": "RFVpLNj6LDXx",
        "colab": {
          "base_uri": "https://localhost:8080/",
          "height": 265
        },
        "outputId": "5f5a8618-c5c3-4ce1-e636-628786691bf0"
      },
      "source": [
        "learn.recorder.plot_loss()"
      ],
      "execution_count": null,
      "outputs": [
        {
          "output_type": "display_data",
          "data": {
            "image/png": "[encoded data removed]",
            "text/plain": [
              "<Figure size 432x288 with 1 Axes>"
            ]
          },
          "metadata": {
            "tags": [],
            "needs_background": "light"
          }
        }
      ]
    },
    {
      "cell_type": "markdown",
      "metadata": {
        "id": "tekAzEqlM2lE"
      },
      "source": [
        "#Discriminative LR"
      ]
    },
    {
      "cell_type": "code",
      "metadata": {
        "id": "MBEuy2yaOJMd"
      },
      "source": [
        "#When a slice of lr is passed to a learner takes the first for the first layer\n",
        "#and the last for the las. The ones in between will take values multiplicatively equidistant"
      ],
      "execution_count": null,
      "outputs": []
    },
    {
      "cell_type": "code",
      "metadata": {
        "id": "XsC93f64M6tE",
        "colab": {
          "base_uri": "https://localhost:8080/",
          "height": 860,
          "referenced_widgets": [
            "16c6bf5283404b30b7c052eb9e63ba58",
            "00c3b742471c4b50b50af9a9b8a1451a",
            "35e5de28c1d14977b935844a70c1d1bb",
            "ff54848429164c09b3325ff06b77319f",
            "fe6a797615cd4322af5521cd39d1b742",
            "74acfcf6bec1453eace24e039a9f7bcb",
            "031554814e7f4f42aa18227d3e953709",
            "d03e854c88014af49aab2c9f14ec2155"
          ]
        },
        "outputId": "713985fa-21a8-4475-8524-5ed0789c551a"
      },
      "source": [
        "learn = cnn_learner(dls, resnet34, metrics=error_rate)\n",
        "learn.fit_one_cycle(3, 3e-3)\n",
        "learn.unfreeze()\n",
        "learn.fit_one_cycle(20, lr_max=slice(1e-6,1e-4))"
      ],
      "execution_count": null,
      "outputs": [
        {
          "output_type": "stream",
          "text": [
            "Downloading: \"https://download.pytorch.org/models/resnet34-333f7ec4.pth\" to /root/.cache/torch/hub/checkpoints/resnet34-333f7ec4.pth\n"
          ],
          "name": "stderr"
        },
        {
          "output_type": "display_data",
          "data": {
            "application/vnd.jupyter.widget-view+json": {
              "model_id": "16c6bf5283404b30b7c052eb9e63ba58",
              "version_minor": 0,
              "version_major": 2
            },
            "text/plain": [
              "HBox(children=(FloatProgress(value=0.0, max=87306240.0), HTML(value='')))"
            ]
          },
          "metadata": {
            "tags": []
          }
        },
        {
          "output_type": "stream",
          "text": [
            "\n"
          ],
          "name": "stdout"
        },
        {
          "output_type": "display_data",
          "data": {
            "text/html": [
              "<table border=\"1\" class=\"dataframe\">\n",
              "  <thead>\n",
              "    <tr style=\"text-align: left;\">\n",
              "      <th>epoch</th>\n",
              "      <th>train_loss</th>\n",
              "      <th>valid_loss</th>\n",
              "      <th>error_rate</th>\n",
              "      <th>time</th>\n",
              "    </tr>\n",
              "  </thead>\n",
              "  <tbody>\n",
              "    <tr>\n",
              "      <td>0</td>\n",
              "      <td>1.160319</td>\n",
              "      <td>0.279121</td>\n",
              "      <td>0.094046</td>\n",
              "      <td>01:07</td>\n",
              "    </tr>\n",
              "    <tr>\n",
              "      <td>1</td>\n",
              "      <td>0.532213</td>\n",
              "      <td>0.216696</td>\n",
              "      <td>0.074425</td>\n",
              "      <td>01:06</td>\n",
              "    </tr>\n",
              "    <tr>\n",
              "      <td>2</td>\n",
              "      <td>0.312145</td>\n",
              "      <td>0.194858</td>\n",
              "      <td>0.066982</td>\n",
              "      <td>01:07</td>\n",
              "    </tr>\n",
              "  </tbody>\n",
              "</table>"
            ],
            "text/plain": [
              "<IPython.core.display.HTML object>"
            ]
          },
          "metadata": {
            "tags": []
          }
        },
        {
          "output_type": "display_data",
          "data": {
            "text/html": [
              "<table border=\"1\" class=\"dataframe\">\n",
              "  <thead>\n",
              "    <tr style=\"text-align: left;\">\n",
              "      <th>epoch</th>\n",
              "      <th>train_loss</th>\n",
              "      <th>valid_loss</th>\n",
              "      <th>error_rate</th>\n",
              "      <th>time</th>\n",
              "    </tr>\n",
              "  </thead>\n",
              "  <tbody>\n",
              "    <tr>\n",
              "      <td>0</td>\n",
              "      <td>0.277230</td>\n",
              "      <td>0.195433</td>\n",
              "      <td>0.067659</td>\n",
              "      <td>01:11</td>\n",
              "    </tr>\n",
              "    <tr>\n",
              "      <td>1</td>\n",
              "      <td>0.267373</td>\n",
              "      <td>0.188451</td>\n",
              "      <td>0.060893</td>\n",
              "      <td>01:11</td>\n",
              "    </tr>\n",
              "    <tr>\n",
              "      <td>2</td>\n",
              "      <td>0.247111</td>\n",
              "      <td>0.179673</td>\n",
              "      <td>0.056157</td>\n",
              "      <td>01:11</td>\n",
              "    </tr>\n",
              "    <tr>\n",
              "      <td>3</td>\n",
              "      <td>0.238859</td>\n",
              "      <td>0.176332</td>\n",
              "      <td>0.060217</td>\n",
              "      <td>01:11</td>\n",
              "    </tr>\n",
              "    <tr>\n",
              "      <td>4</td>\n",
              "      <td>0.224526</td>\n",
              "      <td>0.178905</td>\n",
              "      <td>0.060893</td>\n",
              "      <td>01:11</td>\n",
              "    </tr>\n",
              "    <tr>\n",
              "      <td>5</td>\n",
              "      <td>0.208015</td>\n",
              "      <td>0.176193</td>\n",
              "      <td>0.060217</td>\n",
              "      <td>01:12</td>\n",
              "    </tr>\n",
              "    <tr>\n",
              "      <td>6</td>\n",
              "      <td>0.188978</td>\n",
              "      <td>0.180009</td>\n",
              "      <td>0.060217</td>\n",
              "      <td>01:11</td>\n",
              "    </tr>\n",
              "    <tr>\n",
              "      <td>7</td>\n",
              "      <td>0.168712</td>\n",
              "      <td>0.180820</td>\n",
              "      <td>0.060217</td>\n",
              "      <td>01:11</td>\n",
              "    </tr>\n",
              "    <tr>\n",
              "      <td>8</td>\n",
              "      <td>0.157566</td>\n",
              "      <td>0.176416</td>\n",
              "      <td>0.058187</td>\n",
              "      <td>01:12</td>\n",
              "    </tr>\n",
              "    <tr>\n",
              "      <td>9</td>\n",
              "      <td>0.132508</td>\n",
              "      <td>0.166477</td>\n",
              "      <td>0.056157</td>\n",
              "      <td>01:12</td>\n",
              "    </tr>\n",
              "    <tr>\n",
              "      <td>10</td>\n",
              "      <td>0.124536</td>\n",
              "      <td>0.172105</td>\n",
              "      <td>0.059540</td>\n",
              "      <td>01:12</td>\n",
              "    </tr>\n",
              "    <tr>\n",
              "      <td>11</td>\n",
              "      <td>0.108436</td>\n",
              "      <td>0.161827</td>\n",
              "      <td>0.052774</td>\n",
              "      <td>01:12</td>\n",
              "    </tr>\n",
              "    <tr>\n",
              "      <td>12</td>\n",
              "      <td>0.108166</td>\n",
              "      <td>0.159404</td>\n",
              "      <td>0.053451</td>\n",
              "      <td>01:12</td>\n",
              "    </tr>\n",
              "    <tr>\n",
              "      <td>13</td>\n",
              "      <td>0.096327</td>\n",
              "      <td>0.160373</td>\n",
              "      <td>0.051421</td>\n",
              "      <td>01:12</td>\n",
              "    </tr>\n",
              "    <tr>\n",
              "      <td>14</td>\n",
              "      <td>0.095631</td>\n",
              "      <td>0.162727</td>\n",
              "      <td>0.053451</td>\n",
              "      <td>01:12</td>\n",
              "    </tr>\n",
              "    <tr>\n",
              "      <td>15</td>\n",
              "      <td>0.092377</td>\n",
              "      <td>0.158367</td>\n",
              "      <td>0.052097</td>\n",
              "      <td>01:12</td>\n",
              "    </tr>\n",
              "    <tr>\n",
              "      <td>16</td>\n",
              "      <td>0.097935</td>\n",
              "      <td>0.162345</td>\n",
              "      <td>0.054127</td>\n",
              "      <td>01:11</td>\n",
              "    </tr>\n",
              "    <tr>\n",
              "      <td>17</td>\n",
              "      <td>0.087886</td>\n",
              "      <td>0.161476</td>\n",
              "      <td>0.053451</td>\n",
              "      <td>01:11</td>\n",
              "    </tr>\n",
              "    <tr>\n",
              "      <td>18</td>\n",
              "      <td>0.087930</td>\n",
              "      <td>0.159879</td>\n",
              "      <td>0.050744</td>\n",
              "      <td>01:11</td>\n",
              "    </tr>\n",
              "    <tr>\n",
              "      <td>19</td>\n",
              "      <td>0.083867</td>\n",
              "      <td>0.163061</td>\n",
              "      <td>0.052097</td>\n",
              "      <td>01:12</td>\n",
              "    </tr>\n",
              "  </tbody>\n",
              "</table>"
            ],
            "text/plain": [
              "<IPython.core.display.HTML object>"
            ]
          },
          "metadata": {
            "tags": []
          }
        }
      ]
    },
    {
      "cell_type": "code",
      "metadata": {
        "id": "FxjezWHwM-Z4",
        "colab": {
          "base_uri": "https://localhost:8080/",
          "height": 268
        },
        "outputId": "fbc1dc55-b723-4e69-a33d-b587ba5fecfb"
      },
      "source": [
        "learn.recorder.plot_loss()"
      ],
      "execution_count": null,
      "outputs": [
        {
          "output_type": "display_data",
          "data": {
            "image/png": "[encoded data removed]",
            "text/plain": [
              "<Figure size 432x288 with 1 Axes>"
            ]
          },
          "metadata": {
            "tags": [],
            "needs_background": "light"
          }
        }
      ]
    },
    {
      "cell_type": "markdown",
      "metadata": {
        "id": "GrBfLGyiv2tk"
      },
      "source": [
        "#Experiment"
      ]
    },
    {
      "cell_type": "code",
      "metadata": {
        "id": "CUugxgARv60P"
      },
      "source": [
        "learn = cnn_learner(dls, resnet34, metrics=error_rate)"
      ],
      "execution_count": 26,
      "outputs": []
    },
    {
      "cell_type": "code",
      "metadata": {
        "id": "jksC_VFrybwy",
        "colab": {
          "base_uri": "https://localhost:8080/",
          "height": 300
        },
        "outputId": "40a2dced-5565-49e2-e34b-19fb76b5828c"
      },
      "source": [
        "learn.lr_find()"
      ],
      "execution_count": 7,
      "outputs": [
        {
          "output_type": "display_data",
          "data": {
            "text/html": [
              ""
            ],
            "text/plain": [
              "<IPython.core.display.HTML object>"
            ]
          },
          "metadata": {
            "tags": []
          }
        },
        {
          "output_type": "execute_result",
          "data": {
            "text/plain": [
              "SuggestedLRs(lr_min=0.00831763744354248, lr_steep=0.0020892962347716093)"
            ]
          },
          "metadata": {
            "tags": []
          },
          "execution_count": 7
        },
        {
          "output_type": "display_data",
          "data": {
            "image/png": "[encoded data removed]",
            "text/plain": [
              "<Figure size 432x288 with 1 Axes>"
            ]
          },
          "metadata": {
            "tags": [],
            "needs_background": "light"
          }
        }
      ]
    },
    {
      "cell_type": "markdown",
      "metadata": {
        "id": "EiJu5fSjWgup"
      },
      "source": [
        "https://fastai1.fast.ai/callbacks.one_cycle.html#The-1cycle-policy"
      ]
    },
    {
      "cell_type": "code",
      "metadata": {
        "id": "UNXpxpcDCqBN",
        "colab": {
          "base_uri": "https://localhost:8080/",
          "height": 142
        },
        "outputId": "2c21c991-f52a-4719-e8fd-2849481b6c15"
      },
      "source": [
        "learn.fit_one_cycle(3, lr_max=slice(1e-3,3e-3))"
      ],
      "execution_count": 27,
      "outputs": [
        {
          "output_type": "display_data",
          "data": {
            "text/html": [
              "<table border=\"1\" class=\"dataframe\">\n",
              "  <thead>\n",
              "    <tr style=\"text-align: left;\">\n",
              "      <th>epoch</th>\n",
              "      <th>train_loss</th>\n",
              "      <th>valid_loss</th>\n",
              "      <th>error_rate</th>\n",
              "      <th>time</th>\n",
              "    </tr>\n",
              "  </thead>\n",
              "  <tbody>\n",
              "    <tr>\n",
              "      <td>0</td>\n",
              "      <td>1.158436</td>\n",
              "      <td>0.290417</td>\n",
              "      <td>0.092016</td>\n",
              "      <td>01:08</td>\n",
              "    </tr>\n",
              "    <tr>\n",
              "      <td>1</td>\n",
              "      <td>0.517700</td>\n",
              "      <td>0.246937</td>\n",
              "      <td>0.083897</td>\n",
              "      <td>01:07</td>\n",
              "    </tr>\n",
              "    <tr>\n",
              "      <td>2</td>\n",
              "      <td>0.319948</td>\n",
              "      <td>0.210447</td>\n",
              "      <td>0.069012</td>\n",
              "      <td>01:07</td>\n",
              "    </tr>\n",
              "  </tbody>\n",
              "</table>"
            ],
            "text/plain": [
              "<IPython.core.display.HTML object>"
            ]
          },
          "metadata": {
            "tags": []
          }
        }
      ]
    },
    {
      "cell_type": "code",
      "metadata": {
        "id": "CJWEjbOZDEeb",
        "colab": {
          "base_uri": "https://localhost:8080/",
          "height": 300
        },
        "outputId": "30756c2c-9652-485d-edfe-d07640205cdf"
      },
      "source": [
        "learn.unfreeze()\n",
        "learn.lr_find()"
      ],
      "execution_count": 28,
      "outputs": [
        {
          "output_type": "display_data",
          "data": {
            "text/html": [
              ""
            ],
            "text/plain": [
              "<IPython.core.display.HTML object>"
            ]
          },
          "metadata": {
            "tags": []
          }
        },
        {
          "output_type": "execute_result",
          "data": {
            "text/plain": [
              "SuggestedLRs(lr_min=1.737800812406931e-06, lr_steep=9.12010818865383e-07)"
            ]
          },
          "metadata": {
            "tags": []
          },
          "execution_count": 28
        },
        {
          "output_type": "display_data",
          "data": {
            "image/png": "[encoded data removed]",
            "text/plain": [
              "<Figure size 432x288 with 1 Axes>"
            ]
          },
          "metadata": {
            "tags": [],
            "needs_background": "light"
          }
        }
      ]
    },
    {
      "cell_type": "code",
      "metadata": {
        "id": "8I-ilINuEVAF",
        "colab": {
          "base_uri": "https://localhost:8080/",
          "height": 669
        },
        "outputId": "93fb1d38-a64e-407c-b18b-22592b649af1"
      },
      "source": [
        "learn.fit_one_cycle(20, lr_max=slice(1e-6,1e-5))"
      ],
      "execution_count": 24,
      "outputs": [
        {
          "output_type": "display_data",
          "data": {
            "text/html": [
              "<table border=\"1\" class=\"dataframe\">\n",
              "  <thead>\n",
              "    <tr style=\"text-align: left;\">\n",
              "      <th>epoch</th>\n",
              "      <th>train_loss</th>\n",
              "      <th>valid_loss</th>\n",
              "      <th>error_rate</th>\n",
              "      <th>time</th>\n",
              "    </tr>\n",
              "  </thead>\n",
              "  <tbody>\n",
              "    <tr>\n",
              "      <td>0</td>\n",
              "      <td>0.259409</td>\n",
              "      <td>0.235971</td>\n",
              "      <td>0.071042</td>\n",
              "      <td>01:12</td>\n",
              "    </tr>\n",
              "    <tr>\n",
              "      <td>1</td>\n",
              "      <td>0.270199</td>\n",
              "      <td>0.232771</td>\n",
              "      <td>0.066982</td>\n",
              "      <td>01:12</td>\n",
              "    </tr>\n",
              "    <tr>\n",
              "      <td>2</td>\n",
              "      <td>0.254858</td>\n",
              "      <td>0.231041</td>\n",
              "      <td>0.066306</td>\n",
              "      <td>01:12</td>\n",
              "    </tr>\n",
              "    <tr>\n",
              "      <td>3</td>\n",
              "      <td>0.249668</td>\n",
              "      <td>0.227111</td>\n",
              "      <td>0.065629</td>\n",
              "      <td>01:12</td>\n",
              "    </tr>\n",
              "    <tr>\n",
              "      <td>4</td>\n",
              "      <td>0.239026</td>\n",
              "      <td>0.219484</td>\n",
              "      <td>0.064953</td>\n",
              "      <td>01:13</td>\n",
              "    </tr>\n",
              "    <tr>\n",
              "      <td>5</td>\n",
              "      <td>0.226563</td>\n",
              "      <td>0.217118</td>\n",
              "      <td>0.064953</td>\n",
              "      <td>01:13</td>\n",
              "    </tr>\n",
              "    <tr>\n",
              "      <td>6</td>\n",
              "      <td>0.220927</td>\n",
              "      <td>0.214477</td>\n",
              "      <td>0.066306</td>\n",
              "      <td>01:13</td>\n",
              "    </tr>\n",
              "    <tr>\n",
              "      <td>7</td>\n",
              "      <td>0.224517</td>\n",
              "      <td>0.212480</td>\n",
              "      <td>0.063599</td>\n",
              "      <td>01:13</td>\n",
              "    </tr>\n",
              "    <tr>\n",
              "      <td>8</td>\n",
              "      <td>0.199499</td>\n",
              "      <td>0.211340</td>\n",
              "      <td>0.064276</td>\n",
              "      <td>01:14</td>\n",
              "    </tr>\n",
              "    <tr>\n",
              "      <td>9</td>\n",
              "      <td>0.196992</td>\n",
              "      <td>0.212275</td>\n",
              "      <td>0.058187</td>\n",
              "      <td>01:13</td>\n",
              "    </tr>\n",
              "    <tr>\n",
              "      <td>10</td>\n",
              "      <td>0.197544</td>\n",
              "      <td>0.209755</td>\n",
              "      <td>0.060893</td>\n",
              "      <td>01:13</td>\n",
              "    </tr>\n",
              "    <tr>\n",
              "      <td>11</td>\n",
              "      <td>0.191701</td>\n",
              "      <td>0.210408</td>\n",
              "      <td>0.060217</td>\n",
              "      <td>01:13</td>\n",
              "    </tr>\n",
              "    <tr>\n",
              "      <td>12</td>\n",
              "      <td>0.193401</td>\n",
              "      <td>0.209750</td>\n",
              "      <td>0.062923</td>\n",
              "      <td>01:13</td>\n",
              "    </tr>\n",
              "    <tr>\n",
              "      <td>13</td>\n",
              "      <td>0.189064</td>\n",
              "      <td>0.208900</td>\n",
              "      <td>0.059540</td>\n",
              "      <td>01:13</td>\n",
              "    </tr>\n",
              "    <tr>\n",
              "      <td>14</td>\n",
              "      <td>0.178435</td>\n",
              "      <td>0.209877</td>\n",
              "      <td>0.058187</td>\n",
              "      <td>01:12</td>\n",
              "    </tr>\n",
              "    <tr>\n",
              "      <td>15</td>\n",
              "      <td>0.181614</td>\n",
              "      <td>0.209312</td>\n",
              "      <td>0.059540</td>\n",
              "      <td>01:13</td>\n",
              "    </tr>\n",
              "    <tr>\n",
              "      <td>16</td>\n",
              "      <td>0.168735</td>\n",
              "      <td>0.210592</td>\n",
              "      <td>0.056834</td>\n",
              "      <td>01:13</td>\n",
              "    </tr>\n",
              "    <tr>\n",
              "      <td>17</td>\n",
              "      <td>0.164184</td>\n",
              "      <td>0.208295</td>\n",
              "      <td>0.058863</td>\n",
              "      <td>01:13</td>\n",
              "    </tr>\n",
              "    <tr>\n",
              "      <td>18</td>\n",
              "      <td>0.167636</td>\n",
              "      <td>0.211763</td>\n",
              "      <td>0.064276</td>\n",
              "      <td>01:13</td>\n",
              "    </tr>\n",
              "    <tr>\n",
              "      <td>19</td>\n",
              "      <td>0.178822</td>\n",
              "      <td>0.209810</td>\n",
              "      <td>0.064276</td>\n",
              "      <td>01:13</td>\n",
              "    </tr>\n",
              "  </tbody>\n",
              "</table>"
            ],
            "text/plain": [
              "<IPython.core.display.HTML object>"
            ]
          },
          "metadata": {
            "tags": []
          }
        }
      ]
    },
    {
      "cell_type": "code",
      "metadata": {
        "id": "EzbyNFGEFIsS",
        "colab": {
          "base_uri": "https://localhost:8080/",
          "height": 265
        },
        "outputId": "8a2dfa74-1602-4ef2-d40a-16f8a3609213"
      },
      "source": [
        "learn.recorder.plot_loss()"
      ],
      "execution_count": 25,
      "outputs": [
        {
          "output_type": "display_data",
          "data": {
            "image/png": "[encoded data removed]",
            "text/plain": [
              "<Figure size 432x288 with 1 Axes>"
            ]
          },
          "metadata": {
            "tags": [],
            "needs_background": "light"
          }
        }
      ]
    }
  ]
}