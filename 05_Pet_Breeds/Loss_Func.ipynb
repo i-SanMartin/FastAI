{
  "nbformat": 4,
  "nbformat_minor": 0,
  "metadata": {
    "colab": {
      "name": "05_Pet_Breeds/Loss_Func.ipynb",
      "provenance": [],
      "authorship_tag": "ABX9TyPxrm7rgjMKzdEumKp2+kKm",
      "include_colab_link": true
    },
    "kernelspec": {
      "name": "python3",
      "display_name": "Python 3"
    },
    "language_info": {
      "name": "python"
    }
  },
  "cells": [
    {
      "cell_type": "markdown",
      "metadata": {
        "id": "view-in-github",
        "colab_type": "text"
      },
      "source": [
        "<a href=\"https://colab.research.google.com/github/i-SanMartin/FastAI/blob/main/05_Pet_Breeds/Loss_Func.ipynb\" target=\"_parent\"><img src=\"https://colab.research.google.com/assets/colab-badge.svg\" alt=\"Open In Colab\"/></a>"
      ]
    },
    {
      "cell_type": "code",
      "metadata": {
        "id": "k_EGRobrYsCh"
      },
      "source": [
        "from matplotlib import pyplot\n",
        "import numpy as np\n",
        "import torch"
      ],
      "execution_count": 1,
      "outputs": []
    },
    {
      "cell_type": "markdown",
      "metadata": {
        "id": "_9aPuKIkgmgd"
      },
      "source": [
        "Softmax"
      ]
    },
    {
      "cell_type": "code",
      "metadata": {
        "id": "yhgB40BWFdUA",
        "colab": {
          "base_uri": "https://localhost:8080/"
        },
        "outputId": "6d7ee736-566e-4375-bc5e-6dc6305ca311"
      },
      "source": [
        "cat = np.random.rand(4,3)*5\n",
        "cat"
      ],
      "execution_count": 2,
      "outputs": [
        {
          "output_type": "execute_result",
          "data": {
            "text/plain": [
              "array([[1.29757135, 3.24767612, 4.585921  ],\n",
              "       [4.23811966, 2.39050145, 2.48671708],\n",
              "       [0.36254123, 4.90293229, 2.82316707],\n",
              "       [0.00743966, 3.5957067 , 4.42194808]])"
            ]
          },
          "metadata": {
            "tags": []
          },
          "execution_count": 2
        }
      ]
    },
    {
      "cell_type": "code",
      "metadata": {
        "id": "Y_NJa_K4E2D3",
        "colab": {
          "base_uri": "https://localhost:8080/"
        },
        "outputId": "46ccbc15-c3c8-4ad3-d1c8-e2dfd506ecc2"
      },
      "source": [
        "y = np.array(list(np.exp(i)/np.sum(np.exp(i)) for i in cat))\n",
        "y"
      ],
      "execution_count": 3,
      "outputs": [
        {
          "output_type": "execute_result",
          "data": {
            "text/plain": [
              "array([[0.02871251, 0.20183241, 0.76945508],\n",
              "       [0.75123437, 0.11840364, 0.13036199],\n",
              "       [0.009395  , 0.88056944, 0.11003556],\n",
              "       [0.00834637, 0.30189943, 0.6897542 ]])"
            ]
          },
          "metadata": {
            "tags": []
          },
          "execution_count": 3
        }
      ]
    },
    {
      "cell_type": "code",
      "metadata": {
        "id": "37_k84wobBc2",
        "colab": {
          "base_uri": "https://localhost:8080/"
        },
        "outputId": "d28fac38-0a5c-4376-88ed-3499a35dc412"
      },
      "source": [
        "torch.softmax(torch.tensor(cat),dim=1)"
      ],
      "execution_count": 4,
      "outputs": [
        {
          "output_type": "execute_result",
          "data": {
            "text/plain": [
              "tensor([[0.0287, 0.2018, 0.7695],\n",
              "        [0.7512, 0.1184, 0.1304],\n",
              "        [0.0094, 0.8806, 0.1100],\n",
              "        [0.0083, 0.3019, 0.6898]], dtype=torch.float64)"
            ]
          },
          "metadata": {
            "tags": []
          },
          "execution_count": 4
        }
      ]
    },
    {
      "cell_type": "markdown",
      "metadata": {
        "id": "H9pUoOK1h1tB"
      },
      "source": [
        "Log Likelihood"
      ]
    },
    {
      "cell_type": "code",
      "metadata": {
        "id": "xO8RdbUniXW2",
        "colab": {
          "base_uri": "https://localhost:8080/"
        },
        "outputId": "20cdb20b-ea63-4eec-f833-be827fd886c8"
      },
      "source": [
        "#Create targets\n",
        "target = np.array(np.trunc(np.random.rand(4)*3,),dtype=np.int)\n",
        "target"
      ],
      "execution_count": 23,
      "outputs": [
        {
          "output_type": "execute_result",
          "data": {
            "text/plain": [
              "array([0, 0, 2, 2])"
            ]
          },
          "metadata": {
            "tags": []
          },
          "execution_count": 23
        }
      ]
    },
    {
      "cell_type": "code",
      "metadata": {
        "id": "JkyDRlnnNvnO",
        "outputId": "759feed6-f6e7-4a31-9f6a-0e45059d7834",
        "colab": {
          "base_uri": "https://localhost:8080/"
        }
      },
      "source": [
        "idx = range(3)\n",
        "loss = np.array([1 - y[id, targ] for id, targ in enumerate(target)])\n",
        "loss"
      ],
      "execution_count": 33,
      "outputs": [
        {
          "output_type": "execute_result",
          "data": {
            "text/plain": [
              "array([0.97128749, 0.24876563, 0.88996444, 0.3102458 ])"
            ]
          },
          "metadata": {
            "tags": []
          },
          "execution_count": 33
        }
      ]
    }
  ]
}