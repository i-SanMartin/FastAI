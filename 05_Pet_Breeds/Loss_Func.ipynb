{
  "nbformat": 4,
  "nbformat_minor": 0,
  "metadata": {
    "colab": {
      "name": "05_Pet_Breeds/Loss_Func.ipynb",
      "provenance": [],
      "authorship_tag": "ABX9TyOQ8HJzq/yor538H/iuoXS5",
      "include_colab_link": true
    },
    "kernelspec": {
      "name": "python3",
      "display_name": "Python 3"
    },
    "language_info": {
      "name": "python"
    }
  },
  "cells": [
    {
      "cell_type": "markdown",
      "metadata": {
        "id": "view-in-github",
        "colab_type": "text"
      },
      "source": [
        "<a href=\"https://colab.research.google.com/github/i-SanMartin/FastAI/blob/main/05_Pet_Breeds/Loss_Func.ipynb\" target=\"_parent\"><img src=\"https://colab.research.google.com/assets/colab-badge.svg\" alt=\"Open In Colab\"/></a>"
      ]
    },
    {
      "cell_type": "code",
      "metadata": {
        "id": "k_EGRobrYsCh"
      },
      "source": [
        "from matplotlib import pyplot\n",
        "import numpy as np\n",
        "import torch"
      ],
      "execution_count": 19,
      "outputs": []
    },
    {
      "cell_type": "markdown",
      "metadata": {
        "id": "_9aPuKIkgmgd"
      },
      "source": [
        "Softmax"
      ]
    },
    {
      "cell_type": "code",
      "metadata": {
        "id": "yhgB40BWFdUA",
        "outputId": "bd79fae9-6ccd-4491-e52c-ff1d3726db30",
        "colab": {
          "base_uri": "https://localhost:8080/"
        }
      },
      "source": [
        "cat = np.random.rand(4,3)*5\n",
        "cat"
      ],
      "execution_count": 52,
      "outputs": [
        {
          "output_type": "execute_result",
          "data": {
            "text/plain": [
              "array([[0.08714175, 3.31313011, 2.65621174],\n",
              "       [3.54447486, 1.36973905, 4.38078275],\n",
              "       [0.02051452, 2.46805459, 4.9916172 ],\n",
              "       [0.29530254, 3.22034933, 4.89437923]])"
            ]
          },
          "metadata": {
            "tags": []
          },
          "execution_count": 52
        }
      ]
    },
    {
      "cell_type": "code",
      "metadata": {
        "id": "Y_NJa_K4E2D3",
        "outputId": "07a0758a-6492-4b86-f1f0-28471d6b5a8f",
        "colab": {
          "base_uri": "https://localhost:8080/"
        }
      },
      "source": [
        "y = np.array(list(np.exp(i)/np.sum(np.exp(i)) for i in cat))\n",
        "y"
      ],
      "execution_count": 66,
      "outputs": [
        {
          "output_type": "execute_result",
          "data": {
            "text/plain": [
              "array([[0.02548931, 0.64178136, 0.33272932],\n",
              "       [0.29227215, 0.03321327, 0.67451458],\n",
              "       [0.00637976, 0.07374925, 0.91987099],\n",
              "       [0.00840141, 0.15656115, 0.83503744]])"
            ]
          },
          "metadata": {
            "tags": []
          },
          "execution_count": 66
        }
      ]
    },
    {
      "cell_type": "code",
      "metadata": {
        "id": "37_k84wobBc2",
        "outputId": "a0ddcefb-5112-4cb6-b8ff-43b031909b7e",
        "colab": {
          "base_uri": "https://localhost:8080/"
        }
      },
      "source": [
        "torch.softmax(torch.tensor(cat),dim=1)"
      ],
      "execution_count": 65,
      "outputs": [
        {
          "output_type": "execute_result",
          "data": {
            "text/plain": [
              "tensor([[0.0255, 0.6418, 0.3327],\n",
              "        [0.2923, 0.0332, 0.6745],\n",
              "        [0.0064, 0.0737, 0.9199],\n",
              "        [0.0084, 0.1566, 0.8350]], dtype=torch.float64)"
            ]
          },
          "metadata": {
            "tags": []
          },
          "execution_count": 65
        }
      ]
    },
    {
      "cell_type": "markdown",
      "metadata": {
        "id": "H9pUoOK1h1tB"
      },
      "source": [
        "Log Likelihood"
      ]
    },
    {
      "cell_type": "code",
      "metadata": {
        "id": "xO8RdbUniXW2",
        "outputId": "900fbfa9-96c4-45b7-94ca-6296aec662df",
        "colab": {
          "base_uri": "https://localhost:8080/"
        }
      },
      "source": [
        "#Create targets\n",
        "targ = np.trunc(np.random.rand(4)*3)\n",
        "targ"
      ],
      "execution_count": 84,
      "outputs": [
        {
          "output_type": "execute_result",
          "data": {
            "text/plain": [
              "array([1., 2., 1., 2.])"
            ]
          },
          "metadata": {
            "tags": []
          },
          "execution_count": 84
        }
      ]
    }
  ]
}