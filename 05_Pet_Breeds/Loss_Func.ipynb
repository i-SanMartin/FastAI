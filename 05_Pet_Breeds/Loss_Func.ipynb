{
  "nbformat": 4,
  "nbformat_minor": 0,
  "metadata": {
    "colab": {
      "name": "05_Pet_Breeds/Loss_Func.ipynb",
      "provenance": [],
      "authorship_tag": "ABX9TyP26/NkCOfBl6BUoAlAsWX0",
      "include_colab_link": true
    },
    "kernelspec": {
      "name": "python3",
      "display_name": "Python 3"
    },
    "language_info": {
      "name": "python"
    }
  },
  "cells": [
    {
      "cell_type": "markdown",
      "metadata": {
        "id": "view-in-github",
        "colab_type": "text"
      },
      "source": [
        "<a href=\"https://colab.research.google.com/github/i-SanMartin/FastAI/blob/main/05_Pet_Breeds/Loss_Func.ipynb\" target=\"_parent\"><img src=\"https://colab.research.google.com/assets/colab-badge.svg\" alt=\"Open In Colab\"/></a>"
      ]
    },
    {
      "cell_type": "code",
      "metadata": {
        "id": "k_EGRobrYsCh"
      },
      "source": [
        "from matplotlib import pyplot\n",
        "import numpy as np\n",
        "import torch"
      ],
      "execution_count": 1,
      "outputs": []
    },
    {
      "cell_type": "markdown",
      "metadata": {
        "id": "_9aPuKIkgmgd"
      },
      "source": [
        "Softmax"
      ]
    },
    {
      "cell_type": "code",
      "metadata": {
        "id": "yhgB40BWFdUA",
        "colab": {
          "base_uri": "https://localhost:8080/"
        },
        "outputId": "0ec239ee-b2a5-48c8-90e4-eed5a34fb25b"
      },
      "source": [
        "#Generate random results\n",
        "probs = np.random.rand(4,3)*5\n",
        "probs"
      ],
      "execution_count": 2,
      "outputs": [
        {
          "output_type": "execute_result",
          "data": {
            "text/plain": [
              "array([[0.38938576, 3.80871909, 3.93630072],\n",
              "       [0.07628872, 2.62646151, 1.74608054],\n",
              "       [1.40766794, 1.47783707, 3.82721585],\n",
              "       [1.95441974, 2.90794841, 0.88088106]])"
            ]
          },
          "metadata": {
            "tags": []
          },
          "execution_count": 2
        }
      ]
    },
    {
      "cell_type": "code",
      "metadata": {
        "id": "Y_NJa_K4E2D3",
        "colab": {
          "base_uri": "https://localhost:8080/"
        },
        "outputId": "4c3ed3a8-60c2-497e-8ae0-4152b3ee1764"
      },
      "source": [
        "#Apply softmax\n",
        "y = np.array(list(np.exp(i)/np.sum(np.exp(i)) for i in probs))\n",
        "y"
      ],
      "execution_count": 3,
      "outputs": [
        {
          "output_type": "execute_result",
          "data": {
            "text/plain": [
              "array([[0.01509317, 0.46108195, 0.52382488],\n",
              "       [0.05230022, 0.66993007, 0.27776971],\n",
              "       [0.07511192, 0.08057178, 0.8443163 ],\n",
              "       [0.2540233 , 0.65915233, 0.08682437]])"
            ]
          },
          "metadata": {
            "tags": []
          },
          "execution_count": 3
        }
      ]
    },
    {
      "cell_type": "code",
      "metadata": {
        "id": "37_k84wobBc2",
        "colab": {
          "base_uri": "https://localhost:8080/"
        },
        "outputId": "62db53b6-d8eb-45f3-dde0-734edce75310"
      },
      "source": [
        "#Check results\n",
        "torch.softmax(torch.tensor(probs),dim=1)"
      ],
      "execution_count": 4,
      "outputs": [
        {
          "output_type": "execute_result",
          "data": {
            "text/plain": [
              "tensor([[0.0151, 0.4611, 0.5238],\n",
              "        [0.0523, 0.6699, 0.2778],\n",
              "        [0.0751, 0.0806, 0.8443],\n",
              "        [0.2540, 0.6592, 0.0868]], dtype=torch.float64)"
            ]
          },
          "metadata": {
            "tags": []
          },
          "execution_count": 4
        }
      ]
    },
    {
      "cell_type": "markdown",
      "metadata": {
        "id": "H9pUoOK1h1tB"
      },
      "source": [
        "Log Likelihood"
      ]
    },
    {
      "cell_type": "code",
      "metadata": {
        "id": "xO8RdbUniXW2",
        "colab": {
          "base_uri": "https://localhost:8080/"
        },
        "outputId": "ccba4f46-a5f3-4e46-b6f0-398d0adf6234"
      },
      "source": [
        "#Create targets\n",
        "target = np.array(np.trunc(np.random.rand(4)*3,),dtype=np.int)\n",
        "target"
      ],
      "execution_count": 5,
      "outputs": [
        {
          "output_type": "execute_result",
          "data": {
            "text/plain": [
              "array([1, 0, 1, 1])"
            ]
          },
          "metadata": {
            "tags": []
          },
          "execution_count": 5
        }
      ]
    },
    {
      "cell_type": "code",
      "metadata": {
        "id": "JkyDRlnnNvnO",
        "colab": {
          "base_uri": "https://localhost:8080/"
        },
        "outputId": "fea30dc0-09d5-42a9-a6e2-cec9c3973d9a"
      },
      "source": [
        "#Calculate Loss\n",
        "idx = range(3)\n",
        "loss = np.array([-np.log(y[id, targ]) for id, targ in enumerate(target)])\n",
        "loss"
      ],
      "execution_count": 6,
      "outputs": [
        {
          "output_type": "execute_result",
          "data": {
            "text/plain": [
              "array([0.77417948, 2.95075473, 2.51860687, 0.41680061])"
            ]
          },
          "metadata": {
            "tags": []
          },
          "execution_count": 6
        }
      ]
    },
    {
      "cell_type": "code",
      "metadata": {
        "id": "XWHpO7W75xuW",
        "outputId": "850d214e-a3b2-486d-ca4b-67197c67d41d",
        "colab": {
          "base_uri": "https://localhost:8080/"
        }
      },
      "source": [
        "#Check results\n",
        "torch.nn.CrossEntropyLoss(reduction='none')(torch.tensor(probs),torch.tensor(target))"
      ],
      "execution_count": 7,
      "outputs": [
        {
          "output_type": "execute_result",
          "data": {
            "text/plain": [
              "tensor([0.7742, 2.9508, 2.5186, 0.4168], dtype=torch.float64)"
            ]
          },
          "metadata": {
            "tags": []
          },
          "execution_count": 7
        }
      ]
    },
    {
      "cell_type": "code",
      "metadata": {
        "id": "hgP_mZU7WQo5",
        "outputId": "d292af9a-a155-4ebf-e04f-7b7c51af8d9f",
        "colab": {
          "base_uri": "https://localhost:8080/"
        }
      },
      "source": [
        "np.mean(loss)"
      ],
      "execution_count": 8,
      "outputs": [
        {
          "output_type": "execute_result",
          "data": {
            "text/plain": [
              "1.6650854217598214"
            ]
          },
          "metadata": {
            "tags": []
          },
          "execution_count": 8
        }
      ]
    },
    {
      "cell_type": "code",
      "metadata": {
        "id": "4urrGyZIWKDx",
        "outputId": "dab38c80-37b1-4c45-8d7d-3f84abf51bbe",
        "colab": {
          "base_uri": "https://localhost:8080/"
        }
      },
      "source": [
        "torch.nn.CrossEntropyLoss()(torch.tensor(probs),torch.tensor(target))"
      ],
      "execution_count": 10,
      "outputs": [
        {
          "output_type": "execute_result",
          "data": {
            "text/plain": [
              "tensor(1.6651, dtype=torch.float64)"
            ]
          },
          "metadata": {
            "tags": []
          },
          "execution_count": 10
        }
      ]
    }
  ]
}